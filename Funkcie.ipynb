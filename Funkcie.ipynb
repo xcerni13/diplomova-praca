{
 "cells": [
  {
   "cell_type": "markdown",
   "metadata": {},
   "source": [
    "# Funkcie"
   ]
  },
  {
   "cell_type": "markdown",
   "metadata": {},
   "source": [
    "V prvých lekciách sme sa zaoberali funkciami print() a input(). Ide o vstavané funkcie jazyka Python. Python má veľkú knižnicu vstavaných funkcií. To znamená, že programátor môže bez krokov navyše zavolať funkciu jej menom a využiť ju. "
   ]
  },
  {
   "cell_type": "markdown",
   "metadata": {},
   "source": [
    "Okrem vstavaných funkcií, je možné vytvárať vlastné funkcie. \n",
    "<br>\n",
    "Funkcia má meno, ktorým je definovaná a potom je pomocou tohto mena volaná. Po zavolaní funkcie, je vykonaný blok kódu, ktorý bol definovaný. Pred zavolaním funkcie je dôležité jej definovanie.\n"
   ]
  },
  {
   "cell_type": "markdown",
   "metadata": {},
   "source": [
    "##### Syntax"
   ]
  },
  {
   "cell_type": "code",
   "execution_count": null,
   "metadata": {},
   "outputs": [],
   "source": [
    "def funkcia():\n",
    "    prikazy\n",
    "    return 0\n",
    "\n",
    "#zavolanie funkcie\n",
    "funkcia()"
   ]
  },
  {
   "cell_type": "markdown",
   "metadata": {},
   "source": [
    "def je kľúčové slovo, ktoré označuje začiatok definície funkcie\n",
    "<br>\n",
    "nasleduje meno funkcie, ktoré podlieha rovnakým pravidlám ako názvy premenných\n",
    "<br>\n",
    "za menom funkcie sa nachádzajú okrúhle zátvorky a dvojbodka\n",
    "<br>\n",
    "všetky príkazy patriace do bloku funkcie musia byť odsadené, ako je pravidlom v Pythone\n",
    "<br>\n",
    "ako posledný príkaz sa posiela návratová hodnota pomocou kľúčového slova return a následne hodnotou, ktorú funkcia vráti pri jej zavolaní, hodnota môže nadobudnúť ľubovoľný dátový typ"
   ]
  },
  {
   "cell_type": "markdown",
   "metadata": {},
   "source": [
    "Funkcia môže mať takzvané argumenty. Ide o premenné, ktoré posielame funkcii pri jej zavolaní. Funkcia môže následne s týmito hodnotami pracovať. Argumenty je potrebné definovať pri definovaní funkcie, majú svoje meno, ktorým potom môžeme pracovať s hodnotami v rámci funkcie.\n"
   ]
  },
  {
   "cell_type": "markdown",
   "metadata": {},
   "source": [
    "Pri téme funkcií je potrebné sa vrátiť k premenným. Jeden nový koncept, sú lokálne a globálne premenné. Lokálna premenná, je definovaná v tele funkcie. Nie je možné k nej pristúpiť z vonka, iba v rámci príkazov danej funkcie. Globálna premenná je definovaná väčšinou priamo na začiatku programu, aby bola dostupná vo všetkých blokoch a funkciách. Dôležité je, pokiaľ globálna a lokálna premenná majú rovnaké meno, v rámci funkcie sa pod tým menom vždy bude myslieť lokálna premenná. Pokiaľ vtedy chceme odkazovať na globálnu premennú, musíme použiť kľúčové slovo global pred menom premennej."
   ]
  }
 ],
 "metadata": {
  "kernelspec": {
   "display_name": "Python 3",
   "language": "python",
   "name": "python3"
  },
  "language_info": {
   "name": "python",
   "version": "3.12.2"
  }
 },
 "nbformat": 4,
 "nbformat_minor": 2
}
