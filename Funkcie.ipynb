{
 "cells": [
  {
   "cell_type": "markdown",
   "metadata": {},
   "source": [
    "# Funkcie"
   ]
  },
  {
   "cell_type": "markdown",
   "metadata": {},
   "source": [
    "V prvých lekciách sme sa zaoberali funkciami <b>print()</b> a <b>input()</b>. Ide o vstavané funkcie jazyka Python. Python má veľkú knižnicu vstavaných funkcií. To znamená, že programátor môže bez krokov navyše zavolať funkciu jej menom a využiť ju. "
   ]
  },
  {
   "cell_type": "markdown",
   "metadata": {},
   "source": [
    "Okrem vstavaných funkcií, je možné vytvárať vlastné funkcie. \n",
    "<br>\n",
    "<b>Funkcia</b> má meno, ktorým je definovaná a potom je pomocou tohto mena volaná. Po zavolaní funkcie, je vykonaný blok kódu, ktorý bol definovaný. Pred zavolaním funkcie je dôležité jej definovanie.\n"
   ]
  },
  {
   "cell_type": "markdown",
   "metadata": {},
   "source": [
    "<div class=\"alert alert-block alert-info\">\n",
    "Funkcia je definovaná menom, a blokom kódu, ktorý sa má vykonať po zavolaní funkcie.\n",
    "</div>"
   ]
  },
  {
   "cell_type": "markdown",
   "metadata": {},
   "source": [
    "##### Syntax"
   ]
  },
  {
   "cell_type": "code",
   "execution_count": null,
   "metadata": {},
   "outputs": [],
   "source": [
    "def funkcia():\n",
    "    prikazy\n",
    "    return 0\n"
   ]
  },
  {
   "cell_type": "markdown",
   "metadata": {},
   "source": [
    "<div class=\"alert alert-block alert-info\">\n",
    "Volanie funkcie sa robí pomocou jej mena.\n",
    "</div>"
   ]
  },
  {
   "cell_type": "code",
   "execution_count": null,
   "metadata": {},
   "outputs": [],
   "source": [
    "def funkcia():\n",
    "    prikazy\n",
    "    return 0\n",
    "\n",
    "#zavolanie funkcie\n",
    "funkcia()"
   ]
  },
  {
   "cell_type": "markdown",
   "metadata": {},
   "source": [
    "<b>def</b> je kľúčové slovo, ktoré označuje začiatok definície funkcie\n",
    "<br>\n",
    "<br>\n",
    "Nasleduje <b>meno funkcie</b>, ktoré podlieha rovnakým pravidlám ako názvy premenných\n",
    "<br>\n",
    "<br>\n",
    "Za menom funkcie sa nachádzajú <b>okrúhle zátvorky a dvojbodka</b>\n",
    "<br>\n",
    "<br>\n",
    "Všetky príkazy patriace do bloku funkcie musia byť odsadené, ako je pravidlom v Pythone\n",
    "<br>\n",
    "<br>\n",
    "Ako posledný príkaz sa posiela <b>návratová hodnota</b> pomocou kľúčového slova <b>return</b> a následne hodnotou, ktorú funkcia vráti pri jej zavolaní, hodnota môže nadobudnúť ľubovoľný dátový typ"
   ]
  },
  {
   "cell_type": "markdown",
   "metadata": {},
   "source": [
    "Funkcia môže mať takzvané <b>parametre</b>. Ide o premenné, ktoré posielame funkcii pri jej zavolaní. Funkcia môže následne s týmito hodnotami pracovať. Parametre je potrebné definovať pri definovaní funkcie, majú svoje meno, ktorým potom môžeme pracovať s hodnotami v rámci funkcie. Keď je funkcia zavolaná, na miesto parametrov sa dosadia konrétne hodnoty a tie sa nazývajú argumenty.\n"
   ]
  },
  {
   "cell_type": "code",
   "execution_count": null,
   "metadata": {},
   "outputs": [],
   "source": [
    "def funkcia(parameter1, parameter2):\n",
    "    prikazy\n",
    "    return 0\n",
    "\n",
    "#zavolanie funkcie\n",
    "argument1 = 1\n",
    "argument2 = 2\n",
    "funkcia(argument1, argument2)"
   ]
  },
  {
   "cell_type": "markdown",
   "metadata": {},
   "source": [
    "Pri téme funkcií je potrebné sa vrátiť k premenným. Jeden nový koncept, sú <b>lokálne a globálne premenné</b>. \n",
    "<br>\n",
    "<br>\n",
    "<b>Lokálna premenná</b>, je definovaná v tele funkcie. Nie je možné k nej pristúpiť z vonka, iba v rámci príkazov danej funkcie. \n",
    "<br>\n",
    "<br>\n",
    "<b>Globálna premenná</b> je definovaná väčšinou priamo na začiatku programu, aby bola dostupná vo všetkých blokoch a funkciách. \n",
    "<br>\n",
    "<br>\n",
    "Pokiaľ globálna a lokálna premenná majú rovnaké meno, v rámci funkcie sa pod tým menom vždy bude myslieť lokálna premenná. Pokiaľ vtedy chceme odkazovať na globálnu premennú, musíme použiť kľúčové slovo global pred menom premennej."
   ]
  }
 ],
 "metadata": {
  "kernelspec": {
   "display_name": "Python 3",
   "language": "python",
   "name": "python3"
  },
  "language_info": {
   "name": "python",
   "version": "3.12.2"
  }
 },
 "nbformat": 4,
 "nbformat_minor": 2
}
