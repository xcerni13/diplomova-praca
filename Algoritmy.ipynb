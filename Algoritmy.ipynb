{
 "cells": [
  {
   "cell_type": "markdown",
   "metadata": {},
   "source": [
    "# Algoritmy"
   ]
  },
  {
   "cell_type": "markdown",
   "metadata": {},
   "source": [
    "Algoritmus je jednoducho presný popis krokov k vyriešeniu úlohy. Tento popis môže byť zapísaný rôznymi spôsobmi, avšak dôležité je to, že je možné ho nasledovať a prepísať do ľubovoľnej formy, alebo jazyka a vždy bude schopný vyriešiť úlohu. Dôležité teda je, že algoritmus je popis logiky, ktorá vyrieši problém. Algoritmus nie je program alebo kód."
   ]
  },
  {
   "cell_type": "markdown",
   "metadata": {},
   "source": [
    "<div class=\"alert alert-block alert-info\">\n",
    "<b>Algoritmus</b> je usporiadaná sada pokynov, alebo krokov, ktoré jednoznačne vyriešia zadanú úlohu. \n",
    "Inak povedané, ide o inštrukcie, alebo návod, ktorý nám pomôže vyriešiť zadanú úlohu. \n",
    "</div>"
   ]
  },
  {
   "cell_type": "markdown",
   "metadata": {},
   "source": [
    "<div class=\"alert alert-block alert-success\">\n",
    "<b>Varenie vajec - alebo niečoho iného</b> žiaci majú napísať postup na uvarenie vajec na papier. Po pár minútach po jednom čítajú svoje návody. Učiteľ a ostatní hľadajú chyby v riešení. \n",
    "<br>\n",
    "</div>"
   ]
  },
  {
   "cell_type": "markdown",
   "metadata": {},
   "source": [
    "Pre zápis algoritmu existuje množstvo spôsobov. Najdôležitejšie je, aby bol zapísaný jasne a bolo možné podľa tohto zápisu algoritmus vykonať. Typické spôsoby zápisu algoritmu sú napríklad:\n",
    "- prirodzený jazyk\n",
    "- pseudokód\n",
    "- vývojový diagram (flowchart)\n",
    "- programovací jazyk"
   ]
  },
  {
   "cell_type": "markdown",
   "metadata": {},
   "source": [
    "Vlastnosti algoritmov:\n",
    "- jednoznačný\n",
    "- konečný\n",
    "- deterministký\n",
    "- efektívny\n",
    "- jazykovo nezávislý\n",
    "- modulárny"
   ]
  },
  {
   "cell_type": "markdown",
   "metadata": {},
   "source": [
    "<div class=\"alert alert-block alert-success\">\n",
    "<b>Obmena - zovšeobecňovanie - tepelne spracovávame potravinu</b>\n",
    "<br>\n",
    "<br>\n",
    "<b>Čo je náročnejšie - zovšeobecňovať, alebo konkretizovať - vyhodnotenie</b>\n",
    "budeme skusat rozne zapisy algoritmu\n",
    "</div>"
   ]
  },
  {
   "cell_type": "markdown",
   "metadata": {},
   "source": [
    "spôsoby zápisu algoritmu - progres - najprv vlastnými slovami\n",
    "                                   - potom diagramom\n",
    "                                   - potom programovacím jazykom"
   ]
  },
  {
   "cell_type": "markdown",
   "metadata": {},
   "source": [
    "<div class=\"alert alert-block alert-success\">\n",
    "Napísaný nejasný algoritmus, ktorý by bolo treba upraviť na jasný - jedna z posledných úloh\n",
    "</div>"
   ]
  },
  {
   "cell_type": "markdown",
   "metadata": {},
   "source": [
    "<div class=\"alert alert-block alert-success\">\n",
    "<b>Úloha robot</b> \n",
    "<br>\n",
    "Učiteľ je robot, ktorého žiaci ovládajú pomocou jednokrokových pokynov. Žiaci dostanú úlohu, ktorú má robot splniť pomocou ich pokynov. Učiteľ doslova nasleduje ich pokyny.\n",
    "</div>"
   ]
  }
 ],
 "metadata": {
  "kernelspec": {
   "display_name": "Python 3",
   "language": "python",
   "name": "python3"
  },
  "language_info": {
   "name": "python",
   "version": "3.12.2"
  }
 },
 "nbformat": 4,
 "nbformat_minor": 2
}
