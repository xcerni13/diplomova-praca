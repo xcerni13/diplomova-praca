{
 "cells": [
  {
   "cell_type": "markdown",
   "metadata": {},
   "source": [
    "# Logické operátory"
   ]
  },
  {
   "cell_type": "markdown",
   "metadata": {},
   "source": [
    "Na čo sú logické operátory? Je možné ich použiť takmer hocikde, ak potrebujeme vyhodnotiť nejakú situáciu. \n",
    "<br>\n",
    "<br>\n",
    "\n",
    "<div class=\"alert alert-block alert-info\">\n",
    "<b>Logické operátory:</b> \n",
    "<b>and, or, not</b>\n",
    "</div>\n",
    "\n",
    "Syntax logických operátorov:\n",
    "<br>\n",
    "<div class=\"alert alert-block alert-info\">\n",
    "výraz <b>logický operátor</b> výraz\n",
    "</div>\n",
    "<br>\n",
    "Namiesto výrazu môžme doplniť potrebnú rovnosť/nerovnosť, namiesto logického operátora môžme doplniť and, or, not.\n",
    "\n",
    "\n",
    "<b>and</b> - obidva výrazy musia byť pravdivé\n",
    "<br>\n",
    "<b>or</b> - aspoň jeden výraz musí byť pravdivý\n",
    "<br>\n",
    "<b>not</b> - pravdivostná hodnota výrazu bude znegovaná\n",
    "\n",
    "<br>\n",
    "<div class=\"alert alert-block alert-info\">\n",
    "<!-- výraz <b>logický operátor</b> výraz\n",
    "<br> -->\n",
    "5 > 2 and 10 < 20\n",
    "</div>"
   ]
  },
  {
   "cell_type": "code",
   "execution_count": 50,
   "metadata": {},
   "outputs": [
    {
     "data": {
      "text/plain": [
       "True"
      ]
     },
     "execution_count": 50,
     "metadata": {},
     "output_type": "execute_result"
    }
   ],
   "source": [
    "(9 < 15) and (2 != 3)"
   ]
  },
  {
   "cell_type": "code",
   "execution_count": null,
   "metadata": {},
   "outputs": [],
   "source": [
    "(80 < 65) or (33/3 > 10)"
   ]
  },
  {
   "cell_type": "code",
   "execution_count": null,
   "metadata": {},
   "outputs": [],
   "source": [
    "not (5 * 12 == 58)"
   ]
  },
  {
   "cell_type": "markdown",
   "metadata": {},
   "source": [
    "***"
   ]
  },
  {
   "cell_type": "markdown",
   "metadata": {},
   "source": [
    "<div class=\"alert alert-block alert-success\">\n",
    "<b>Opravovanie kódu</b>\n",
    "</div>"
   ]
  },
  {
   "cell_type": "markdown",
   "metadata": {},
   "source": [
    "Oprav nasledujúce časti kódov tak, aby na konci mala premenná x hodnotu True"
   ]
  },
  {
   "cell_type": "code",
   "execution_count": null,
   "metadata": {},
   "outputs": [],
   "source": [
    "y = 1\n",
    "x = (y < 2) and (y > 1)\n",
    "print(x)"
   ]
  },
  {
   "cell_type": "code",
   "execution_count": null,
   "metadata": {},
   "outputs": [],
   "source": [
    "y = 55\n",
    "x = (y == 0) or (y < 0)\n",
    "print(x)"
   ]
  },
  {
   "cell_type": "code",
   "execution_count": null,
   "metadata": {},
   "outputs": [],
   "source": [
    "y = 30\n",
    "x = not(y >= 26)\n",
    "print(x)"
   ]
  },
  {
   "cell_type": "markdown",
   "metadata": {},
   "source": [
    "<div class=\"alert alert-block alert-success\">\n",
    "<b>Aká chyba je ešte v kódoch, ktorú by bolo dobré opraviť?</b>\n",
    "<br>\n",
    "Opakujúce sa bezvýznamné názvy premenných\n",
    "</div>"
   ]
  },
  {
   "cell_type": "markdown",
   "metadata": {},
   "source": [
    "***"
   ]
  },
  {
   "cell_type": "markdown",
   "metadata": {},
   "source": [
    "# Podmienky"
   ]
  },
  {
   "cell_type": "markdown",
   "metadata": {},
   "source": [
    "<div class=\"alert alert-block alert-success\">\n",
    "<b>Triedenie čísel</b> Uživateľ nám pošle číslo a my ho chceme vypísať len ak spĺňa nejaké požiadavky\n",
    "</div>"
   ]
  },
  {
   "cell_type": "markdown",
   "metadata": {},
   "source": [
    "\n",
    "<b>Syntax podmienok</b> \n",
    "<br>\n",
    "Ako zapisujeme nejakú podmienku? Každá podmienka je zložená z niekoľko častí.\n",
    "<br>\n",
    "    - začiatok podmienky, hovorí o situácii keď sa niečo stane\n",
    "    <br>\n",
    "    - podmienka, ktorú kontrolujeme, chceme zistiť, či nastala nejaká situácia a preto sa na ňu pýtame, na pýtanie sa využívame výrazy\n",
    "    <br>\n",
    "    - dôsledok, ktorý nastane, ak je podmienka splnená, ak situácia na ktorú sa pýtame nastane, chceme aby sa niečo stalo - tu musíme vyjadriť, čo sa stane\n"
   ]
  },
  {
   "cell_type": "markdown",
   "metadata": {},
   "source": [
    "<div class=\"alert alert-block alert-info\">\n",
    "<b>Kľúčové slová pri vytváraní podmienok</b> \n",
    "<br>\n",
    "<b>if</b>\n",
    "<br>\n",
    "<b>elif</b> - else if\n",
    "<br>\n",
    "<b>else</b>\n",
    "</div>"
   ]
  },
  {
   "cell_type": "markdown",
   "metadata": {},
   "source": [
    "<div class=\"alert alert-block alert-info\">\n",
    "<b>if</b> výraz:\n",
    "<br>\n",
    "> príkaz\n",
    "<br>\n",
    "<b>elif</b> výraz:\n",
    "<br>\n",
    "> príkaz\n",
    "<br>\n",
    "<b>else</b>:\n",
    "<br>\n",
    "> príkaz\n",
    "<br>\n",
    "</div>"
   ]
  },
  {
   "cell_type": "markdown",
   "metadata": {},
   "source": [
    "Výraz je vždy vyhodnotený ako True/False a podľa výsledku sa vykonáva príslušná časť kódu."
   ]
  },
  {
   "cell_type": "code",
   "execution_count": 51,
   "metadata": {},
   "outputs": [
    {
     "name": "stdout",
     "output_type": "stream",
     "text": [
      "positive\n"
     ]
    }
   ],
   "source": [
    "x = 4\n",
    "if x > 0:\n",
    "    print(\"positive\")\n",
    "else:\n",
    "    print(\"negative\")"
   ]
  },
  {
   "cell_type": "code",
   "execution_count": null,
   "metadata": {},
   "outputs": [],
   "source": [
    "x = 4\n",
    "if x > 0:\n",
    "    print(\"positive\")\n",
    "elif x == 0:\n",
    "    print(\"zero\")\n",
    "else:\n",
    "    print(\"negative\")"
   ]
  },
  {
   "cell_type": "markdown",
   "metadata": {},
   "source": [
    "***"
   ]
  },
  {
   "cell_type": "markdown",
   "metadata": {},
   "source": [
    "<div class=\"alert alert-block alert-success\">\n",
    "<b>Triedenie čísel - podľa nejakých kritérií - je potrebné skontrolovať obsah </b> postupné sťažovanie kritérií - či je väčšie ako nejaké iné, parita, deliteľnosť, spočítať nejaké čísla, vypočítať postupne príklad, kde uživateľ postupne zadáva čísla a podľa typu čísla sa má vykonať nejaká operácia.\n",
    "</div>"
   ]
  },
  {
   "cell_type": "code",
   "execution_count": null,
   "metadata": {},
   "outputs": [],
   "source": [
    "total = 30\n",
    "current_number = 1\n",
    "\n",
    "current_number = int(input())\n",
    "if current_number % 2 == 0:\n",
    "    total = total / 2\n",
    "elif current_number > 10:\n",
    "    total -= current_number\n",
    "elif current_number == 3:\n",
    "    total += current_number\n",
    "\n",
    "print(total)\n",
    "\n"
   ]
  }
 ],
 "metadata": {
  "kernelspec": {
   "display_name": "Python 3",
   "language": "python",
   "name": "python3"
  },
  "language_info": {
   "codemirror_mode": {
    "name": "ipython",
    "version": 3
   },
   "file_extension": ".py",
   "mimetype": "text/x-python",
   "name": "python",
   "nbconvert_exporter": "python",
   "pygments_lexer": "ipython3",
   "version": "3.12.2"
  }
 },
 "nbformat": 4,
 "nbformat_minor": 2
}
