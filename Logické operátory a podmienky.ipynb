{
 "cells": [
  {
   "cell_type": "markdown",
   "metadata": {},
   "source": [
    "# Podmienky"
   ]
  },
  {
   "cell_type": "markdown",
   "metadata": {},
   "source": [
    "<div class=\"alert alert-block alert-success\">\n",
    "<b>Triedenie čísel</b> Uživateľ nám pošle číslo a my ho chceme vypísať len ak spĺňa nejaké požiadavky\n",
    "</div>"
   ]
  },
  {
   "cell_type": "markdown",
   "metadata": {},
   "source": [
    "### Syntax"
   ]
  },
  {
   "cell_type": "code",
   "execution_count": null,
   "metadata": {},
   "outputs": [],
   "source": [
    "if výraz:\n",
    "    príkaz\n",
    "elif výraz:\n",
    "    príkaz\n",
    "else:\n",
    "    príkaz"
   ]
  },
  {
   "cell_type": "markdown",
   "metadata": {},
   "source": [
    "<div class=\"alert alert-block alert-info\">\n",
    "<b>Blok kódu</b> je kód, ktorý je rovnako odsadený a významovo sa má vykonať spoločne.\n",
    "</div>"
   ]
  },
  {
   "cell_type": "markdown",
   "metadata": {},
   "source": [
    "V prípade podmienok hovoríme navyše aj o vetvení programu. Každá  podmienka vytvorí vetvu programu, ktorý sa vykoná iba v prípade jej splnenia. Jednotlivé vetvy potom tvoria osobitné bloky."
   ]
  },
  {
   "cell_type": "markdown",
   "metadata": {},
   "source": [
    "\n",
    "Ako zapisujeme nejakú podmienku? Každá podmienka je zložená z niekoľko častí.\n",
    "<br>\n",
    "    - začiatok podmienky, hovorí o situácii keď sa niečo stane\n",
    "    <br>\n",
    "    - podmienka, ktorú kontrolujeme, chceme zistiť, či nastala nejaká situácia a preto sa na ňu pýtame, na pýtanie sa využívame výrazy\n",
    "    <br>\n",
    "    - dôsledok, ktorý nastane, ak je podmienka splnená, ak situácia na ktorú sa pýtame nastane, chceme aby sa niečo stalo - tu musíme vyjadriť, čo sa stane\n"
   ]
  },
  {
   "cell_type": "markdown",
   "metadata": {},
   "source": [
    "<div class=\"alert alert-block alert-info\">\n",
    "<b>Kľúčové slová pri vytváraní podmienok</b> \n",
    "<br>\n",
    "<b>if</b>\n",
    "<br>\n",
    "<b>elif</b> - else if\n",
    "<br>\n",
    "<b>else</b>\n",
    "</div>"
   ]
  },
  {
   "cell_type": "markdown",
   "metadata": {},
   "source": [
    "Výraz je vždy vyhodnotený ako True/False a podľa výsledku sa vykonáva príslušná časť kódu."
   ]
  },
  {
   "cell_type": "code",
   "execution_count": 51,
   "metadata": {},
   "outputs": [
    {
     "name": "stdout",
     "output_type": "stream",
     "text": [
      "positive\n"
     ]
    }
   ],
   "source": [
    "x = 4\n",
    "if x > 0:\n",
    "    print(\"positive\")\n",
    "else:\n",
    "    print(\"negative\")"
   ]
  },
  {
   "cell_type": "code",
   "execution_count": null,
   "metadata": {},
   "outputs": [],
   "source": [
    "x = 4\n",
    "if x > 0:\n",
    "    print(\"positive\")\n",
    "elif x == 0:\n",
    "    print(\"zero\")\n",
    "else:\n",
    "    print(\"negative\")"
   ]
  },
  {
   "cell_type": "markdown",
   "metadata": {},
   "source": [
    "V tomto príklade je dôležité pravidlo zápisu kódu v Pythone. Dôležitý prvok je odsadzovanie. \n",
    "<br>\n",
    "Prvé použitie odsadzovania, s ktorým sa v lekciách stretávame je pri podmienkach. Príkazy, ktoré sa majú vykonať po splnení podmienky sú odsadené. Znamená to, že tieto príkazy spolu tvoria <b>blok kódu</b>.\n",
    "<br>\n",
    " "
   ]
  },
  {
   "cell_type": "markdown",
   "metadata": {},
   "source": [
    "<div class=\"alert alert-block alert-info\">\n",
    "Blok kódu určuje aj platnosť premenných, podľa toho, kde boli definované.\n",
    "<br>\n",
    "Premenná, ktorá má platnosť v aktuálnom bloku. Ide o väčšinu premenných, ktoré sú definované. Platnosť má premenná od toho riadku, kde je definovaná a je možné k nej pristupovať v tom bloku kde sa nachádza, ako aj v jemu vnorených blokoch. \n",
    "</div>"
   ]
  },
  {
   "cell_type": "code",
   "execution_count": null,
   "metadata": {},
   "outputs": [],
   "source": [
    "final_value = 42\n",
    "if final_value > 30:\n",
    "    print(final_value)\n"
   ]
  },
  {
   "cell_type": "markdown",
   "metadata": {},
   "source": [
    "K premennej, ktorá je definovaná v nejakom bloku, nie je možné pristúpiť z jej nadradenému bloku."
   ]
  },
  {
   "cell_type": "code",
   "execution_count": null,
   "metadata": {},
   "outputs": [],
   "source": [
    "final_value = 42\n",
    "if final_value > 30:\n",
    "    print(final_value)\n",
    "else:\n",
    "    total_value = 15\n",
    "print(total_value)"
   ]
  },
  {
   "cell_type": "markdown",
   "metadata": {},
   "source": [
    "***"
   ]
  },
  {
   "cell_type": "markdown",
   "metadata": {},
   "source": [
    "<div class=\"alert alert-block alert-success\">\n",
    "<b>Triedenie čísel - podľa nejakých kritérií - je potrebné skontrolovať obsah </b> postupné sťažovanie kritérií - či je väčšie ako nejaké iné, parita, deliteľnosť, spočítať nejaké čísla, vypočítať postupne príklad, kde uživateľ postupne zadáva čísla a podľa typu čísla sa má vykonať nejaká operácia.\n",
    "</div>"
   ]
  },
  {
   "cell_type": "code",
   "execution_count": null,
   "metadata": {},
   "outputs": [],
   "source": [
    "total = 30\n",
    "current_number = 1\n",
    "\n",
    "current_number = int(input())\n",
    "if current_number % 2 == 0:\n",
    "    total = total / 2\n",
    "elif current_number > 10:\n",
    "    total -= current_number\n",
    "elif current_number == 3:\n",
    "    total += current_number\n",
    "\n",
    "print(total)\n",
    "\n"
   ]
  }
 ],
 "metadata": {
  "kernelspec": {
   "display_name": "Python 3",
   "language": "python",
   "name": "python3"
  },
  "language_info": {
   "codemirror_mode": {
    "name": "ipython",
    "version": 3
   },
   "file_extension": ".py",
   "mimetype": "text/x-python",
   "name": "python",
   "nbconvert_exporter": "python",
   "pygments_lexer": "ipython3",
   "version": "3.12.2"
  }
 },
 "nbformat": 4,
 "nbformat_minor": 2
}
