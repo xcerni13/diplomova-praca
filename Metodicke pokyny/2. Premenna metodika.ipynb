{
 "cells": [
  {
   "cell_type": "markdown",
   "metadata": {},
   "source": [
    "# Premenná - metodické pokyny a odporúčania k hodine"
   ]
  },
  {
   "cell_type": "markdown",
   "metadata": {},
   "source": [
    "### Ciele lekcie"
   ]
  },
  {
   "cell_type": "markdown",
   "metadata": {},
   "source": [
    "- koncept premennej\n",
    "- syntax a použitie premennej\n",
    "- prísanie prvých programov\n",
    "- funkcia input()"
   ]
  },
  {
   "cell_type": "markdown",
   "metadata": {},
   "source": [
    "###  Časová náročnosť"
   ]
  },
  {
   "cell_type": "markdown",
   "metadata": {},
   "source": [
    "Lekcia pozostáva z dvoch tém. Každú z nich je možné prebrať v jednej vyučovacej hodine, takže spolu ich je možné prejsť za 90 minút. Potenciálne je možné časť Vstupné lekcie prebrať po iných lekciách."
   ]
  },
  {
   "cell_type": "markdown",
   "metadata": {},
   "source": [
    "###  Motivácia"
   ]
  },
  {
   "cell_type": "markdown",
   "metadata": {},
   "source": [
    "Snahou na tejto hodine je začať s prvými programami. Žiaci sa ešte stále s prostredím spoznávajú a preto je pre nich dôležité čo najviac programovať. Premenná je natoľko kľúčový koncept, že je dobré preň nechať priestor na zvládnutie."
   ]
  },
  {
   "cell_type": "markdown",
   "metadata": {},
   "source": [
    "###  Pokyny k úvodnej úlohe"
   ]
  },
  {
   "cell_type": "markdown",
   "metadata": {},
   "source": [
    "Na tejto hodine je úvodná úloha menej kreatívna a viac prakticky zameraná. Dôležité je dostať sa k potrebe zapisovania a používania hodnôt opakovane. "
   ]
  },
  {
   "cell_type": "markdown",
   "metadata": {},
   "source": [
    "###  Pokyny k ďalším úlohám"
   ]
  },
  {
   "cell_type": "markdown",
   "metadata": {},
   "source": [
    "Úlohy začínajú veľmi zľahka, postupne naberajú na zložitosti. Je dôležité prepojiť teoretické znalosti s praktickými úlohami. Pri tejto téme je vhodné programovať súčasne so žiakmi a postupne im ukazovať riešenia."
   ]
  },
  {
   "cell_type": "markdown",
   "metadata": {},
   "source": [
    "###  Možné zmeny a úpravy"
   ]
  },
  {
   "cell_type": "markdown",
   "metadata": {},
   "source": [
    "Je možné vymeniť lekcie 2 a 3 v poradí, a najprv pracovať s číselnými a reťazcovými hodnotami a operátormi. V tom prípade je potrebné upraviť úlohy v lekcii 3 tak, aby nebolo potrebné používať premenné."
   ]
  }
 ],
 "metadata": {
  "language_info": {
   "name": "python"
  }
 },
 "nbformat": 4,
 "nbformat_minor": 2
}
