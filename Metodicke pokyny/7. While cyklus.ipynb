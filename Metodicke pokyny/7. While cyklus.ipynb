{
 "cells": [
  {
   "cell_type": "markdown",
   "metadata": {},
   "source": [
    "# While cyklus - metodické pokyny a odporúčania k hodine"
   ]
  },
  {
   "cell_type": "markdown",
   "metadata": {},
   "source": [
    "### Ciele lekcie"
   ]
  },
  {
   "cell_type": "markdown",
   "metadata": {},
   "source": [
    "- čo je while cyklus a jeho použitie\n",
    "- vytváranie algoritmov a ich zápis\n",
    "- precvičenie blokov kódu\n",
    "- vnorený cyklus"
   ]
  },
  {
   "cell_type": "markdown",
   "metadata": {},
   "source": [
    "###  Časová náročnosť"
   ]
  },
  {
   "cell_type": "markdown",
   "metadata": {},
   "source": [
    "Lekciu je možné prejsť v jednej vyučovacej hodine. "
   ]
  },
  {
   "cell_type": "markdown",
   "metadata": {},
   "source": [
    "###  Motivácia"
   ]
  },
  {
   "cell_type": "markdown",
   "metadata": {},
   "source": [
    "Žiaci spájajú vedomosti o cykloch a podmienkach. Pokiaľ v jednej z týchto oblastí majú nedostatky, tak v tejto lekcii bude potrebné, aby ich dobehli. Dôležitou časťou tejto lekcie je vytváranie podmienok pre beh cyklu. Je možné očakávať, že žiaci pri úlohách vytvoria nekonečné cykly, ako aj cykly, ktoré majú neplatnú podmienku pri prvej iterácii. Na týchto prípadoch je dobré ukázať celej skupine, ako sa týmto chybám vyhnúť.\n",
    "\n",
    "V tejto lekcii by sa mali žiaci sústrediť na vytváranie správnych podmienok. Môžu tu využiť doterajšie cvičenie správneho zápisu algoritmov. Takisto si tu posilnia práve tieto zručnosti."
   ]
  },
  {
   "cell_type": "markdown",
   "metadata": {},
   "source": [
    "###  Pokyny k úvodnej úlohe"
   ]
  },
  {
   "cell_type": "markdown",
   "metadata": {},
   "source": [
    "V tejto pohybovej úlohe je dobré, keď sa prestrieda viacero žiakov v úloge robota. Vyberte hneď na úvod vhodnú trasu, ktorou by robot mal prejsť, aby nebola príliš dlhá, ale bola na nej aspoň jedna odbočka. Pokiaľ je na ceste nejaká prekážka (napríklad projektor, alebo stolička), dodá to problémy, ktoré je potrebné vyriešiť a pomôžu rozvinutia konceptu podmienky cyklu. \n",
    "\n",
    "Úlohu je potrebné viesť tak, aby sme sa od postupných krokov dostali k jednému univerzálnemu riešeniu, podľa ktorého môže ísť ľubovoľný robot. Na začiatku budú robota navigovať pokynmi krok, otoč sa, a podobne. Druhého robota už nechajte ísť, až keď vytvoria celý postup. Tento postup môže vyzerať napríklad, 5 krokov vpred, otoč sa vľavo a štyri kroky vpred. Následne nechajte ďalšieho žiaka, ktorý e vyšší alebo nižší podľa tých istých pokynov splniť úlohu. Na ňom ukážte, že je potrebné nájsť iné pokyny, ktoré budú sedieť pre každého. Žiakov postupne navádzajte tak, aby vytvárali pokyny s podmienkami, napríklad kráčaj, kým nie si na úrovni dverí. \n",
    "\n",
    "Z tejto úlohy je hladký prechod do vysvetlenia while cyklu."
   ]
  },
  {
   "cell_type": "markdown",
   "metadata": {},
   "source": [
    "###  Pokyny k ďalším úlohám"
   ]
  },
  {
   "cell_type": "markdown",
   "metadata": {},
   "source": [
    "V tejto lekcii je vhodné riešiť úlohy spoločne so žiakmi. Vytváranie prvého while cyklu pre nich môže byť náročné, preto je potrebný dostatočný čas na riešenie úloh. \n",
    "\n",
    "Na úlohách je vhodné ukázať nekonečný cyklus, alebo vždy neplatnú podmienku, keď niektorý zo žiakov vytvorí také riešenie. So žiakmi diskutujte, prečo sa taká situácia stala a ako ju vyriešiť."
   ]
  },
  {
   "cell_type": "markdown",
   "metadata": {},
   "source": [
    "###  Príprava pred hodinou"
   ]
  },
  {
   "cell_type": "markdown",
   "metadata": {},
   "source": [
    "Pred hodinou je vhodné premyslieť priebeh úvodnej úlohy a načrtnúť žiaduce riešenie. "
   ]
  }
 ],
 "metadata": {
  "language_info": {
   "name": "python"
  }
 },
 "nbformat": 4,
 "nbformat_minor": 2
}
