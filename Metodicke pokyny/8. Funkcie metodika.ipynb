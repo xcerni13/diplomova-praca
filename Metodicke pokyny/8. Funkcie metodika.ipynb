{
 "cells": [
  {
   "cell_type": "markdown",
   "metadata": {},
   "source": [
    "# Funkcie - metodické pokyny a odporúčania k hodine"
   ]
  },
  {
   "cell_type": "markdown",
   "metadata": {},
   "source": [
    "### Ciele lekcie"
   ]
  },
  {
   "cell_type": "markdown",
   "metadata": {},
   "source": [
    "- definovanie a volanie funkcie\n",
    "- funkcie bez parametrov a s parametrami"
   ]
  },
  {
   "cell_type": "markdown",
   "metadata": {},
   "source": [
    "###  Časová náročnosť"
   ]
  },
  {
   "cell_type": "markdown",
   "metadata": {},
   "source": [
    "Lekcia o funkciách je pripravená na dve vyučovacie hodiny. Na prvej hodine je možné prejsť funkciu bez parametrov a úlohy k tomu. Na nasledujúcej hodine je potom možné prebrať funkcie s parametrami. "
   ]
  },
  {
   "cell_type": "markdown",
   "metadata": {},
   "source": [
    "###  Motivácia"
   ]
  },
  {
   "cell_type": "markdown",
   "metadata": {},
   "source": [
    "Táto lekcia je zameraná na vytváranie podprogramov. Okrem samotného vytvárania funckií sa žiaci učia štrukturovane vytvárať program. Musia sa naučiť, ktoré časti kódu má zmysel zapísať ako funkcie. V tejto lekcii je vhodné opäť sa vrátiť k zapisovaniu algoritmov a tak rozvíjať algoritmizáciu. "
   ]
  },
  {
   "cell_type": "markdown",
   "metadata": {},
   "source": [
    "###  Pokyny k úvodnej úlohe"
   ]
  },
  {
   "cell_type": "markdown",
   "metadata": {},
   "source": [
    "V tejto úlohe je dobré opäť nechať žiakov samostatne vytvoriť riešenie a následne ho zdieľať v skupine. Je dôležité, aby ste žiakov navádzali na vytváranie funkcií, alebo konštrukciám podobným funkciám."
   ]
  },
  {
   "cell_type": "markdown",
   "metadata": {},
   "source": [
    "###  Pokyny k ďalším úlohám"
   ]
  },
  {
   "cell_type": "markdown",
   "metadata": {},
   "source": [
    "Úlohy v tejto lekcii sú zamerané priamo na tréning vytvárania funkcií. Zároveň funkcionalita týchto podprogramov je veľmi jednoduchá, ide o krátke úlohy. Zameranie je na pochopenie tejto konštrukcie a jej využitie."
   ]
  },
  {
   "cell_type": "markdown",
   "metadata": {},
   "source": [
    "###  Možné zmeny a úpravy"
   ]
  },
  {
   "cell_type": "markdown",
   "metadata": {},
   "source": [
    "Úlohy je možné modifikovať tak, aby bolo potrebné vytvoriť komplikovanejšie funkcie. Je potrebné zhodnotiť schopnosti a rýchlosť skupiny. Jedno z riešení je rozvinúť existujúce úlohy a obohatiť ich."
   ]
  }
 ],
 "metadata": {
  "language_info": {
   "name": "python"
  }
 },
 "nbformat": 4,
 "nbformat_minor": 2
}
