{
 "cells": [
  {
   "cell_type": "markdown",
   "metadata": {},
   "source": [
    "# Pole"
   ]
  },
  {
   "cell_type": "markdown",
   "metadata": {},
   "source": [
    "Doteraz sme pracovali s premennými, ktoré mali jednoduché dátové typy. Takisto premenná vždy obsahovala práve jednu hodnotu.\n",
    "<br>\n",
    "Existujú situácie, kedy je potrebné mať uložených viacero hodnôt. Najmä také, ktoré spolu úzko súvisia. Napríklad je potrebné uložiť viacero mien. Alebo dátumov.\n",
    "<br>\n",
    "Na tento účel je možné používať pole. Pole je zložený dátový typ. To znamená, že nejde o jednoduchý dátový typ, ale nejakú konštrukciu. Pole pozostáva z viacerých hodnôt rovnakého dátového typu. Napríklad interger, alebo string. Pole si je možné predstaviť ako veľa premenných, ktoré sú spolu prepojené. \n",
    "<br>\n",
    "Pole má svoje meno, tak isto ako premenná. Okrem toho pole pozostáva zo samotných hodnôt, ktoré sú v ňom uložené. \n",
    "K týmto hodnotám je možné pristupovať cez <b>indexovanie</b>. Pole pozostáva z niekoľkých hodnôt. Každá hodnota je vložená na prvú voľnú očíslovanú pozíciu. Číslovanie začína na čísle 0.\n",
    "<br>\n",
    "Pole je definované menom, následne priradením a hranatými zátvorkami, v ktorých sú čiarkami od seba oddelené jednotlivé prvky."
   ]
  },
  {
   "cell_type": "code",
   "execution_count": null,
   "metadata": {},
   "outputs": [],
   "source": [
    "pole = [5, 15, 10]\n",
    "print(pole)"
   ]
  },
  {
   "cell_type": "markdown",
   "metadata": {},
   "source": [
    "Pokiaľ sa chceme dostať k jednej konkrétnej hodnote v poli, musíme v tomto poli indexovať. Teda určiť, hodnotu z ktorej pozície poľa chceme dostať. Indexovanie sa robí pomocou hranatých zátvoriek"
   ]
  },
  {
   "cell_type": "code",
   "execution_count": 2,
   "metadata": {},
   "outputs": [
    {
     "name": "stdout",
     "output_type": "stream",
     "text": [
      "15\n"
     ]
    }
   ],
   "source": [
    "pole = [5, 15, 10]\n",
    "print(pole[1])"
   ]
  },
  {
   "cell_type": "markdown",
   "metadata": {},
   "source": [
    "Okrem vypisovania hodnôt z jednotlivých indexov je možné meniť hodnoty na konkrétnych indexoch."
   ]
  },
  {
   "cell_type": "code",
   "execution_count": 3,
   "metadata": {},
   "outputs": [
    {
     "name": "stdout",
     "output_type": "stream",
     "text": [
      "[5, 3, 10]\n"
     ]
    }
   ],
   "source": [
    "pole = [5, 15, 10]\n",
    "pole[1] = 3\n",
    "print(pole)"
   ]
  },
  {
   "cell_type": "markdown",
   "metadata": {},
   "source": [
    "Okrem indexovania jednotlivých prvkov je možné zistiť počet prvkov v poli."
   ]
  },
  {
   "cell_type": "code",
   "execution_count": null,
   "metadata": {},
   "outputs": [],
   "source": [
    "pole = [5, 15, 10]\n",
    "print(len(pole))"
   ]
  },
  {
   "cell_type": "markdown",
   "metadata": {},
   "source": [
    "Pokiaľ chceme do poľa pridať nejaký prvok, je možné ho pridať na koniec pomocou funkcie append."
   ]
  },
  {
   "cell_type": "code",
   "execution_count": 4,
   "metadata": {},
   "outputs": [
    {
     "name": "stdout",
     "output_type": "stream",
     "text": [
      "[5, 15, 10, 25]\n"
     ]
    }
   ],
   "source": [
    "pole = [5, 15, 10]\n",
    "pole.append(25)\n",
    "print(pole)"
   ]
  },
  {
   "cell_type": "markdown",
   "metadata": {},
   "source": [
    "# Zoznam"
   ]
  },
  {
   "cell_type": "markdown",
   "metadata": {},
   "source": [
    "Zoznam je podobná konštrukcia polu. Jediný rozdiel je ten, že prvky v zozname nemusia mať rovnaký dátový typ. "
   ]
  },
  {
   "cell_type": "code",
   "execution_count": 6,
   "metadata": {},
   "outputs": [
    {
     "name": "stdout",
     "output_type": "stream",
     "text": [
      "[5, 4.3, 'auto', 'python']\n"
     ]
    }
   ],
   "source": [
    "zoznam = [5, 4.3, \"auto\", \"python\"]\n",
    "print(zoznam)"
   ]
  },
  {
   "cell_type": "markdown",
   "metadata": {},
   "source": [
    "Na prvý pohľad je zrejmé, že konštrukcia poľa a zoznamu sú rovnaké. Je to preto, že Python nemá konštrukciu pre pole a preto sa naň využíva práve zoznam. Vzhľadom na to, je možné všetky funkcie a operácie pri zozname robiť rovnakým spôsobom, ako pri poli."
   ]
  }
 ],
 "metadata": {
  "kernelspec": {
   "display_name": "Python 3",
   "language": "python",
   "name": "python3"
  },
  "language_info": {
   "codemirror_mode": {
    "name": "ipython",
    "version": 3
   },
   "file_extension": ".py",
   "mimetype": "text/x-python",
   "name": "python",
   "nbconvert_exporter": "python",
   "pygments_lexer": "ipython3",
   "version": "3.12.2"
  }
 },
 "nbformat": 4,
 "nbformat_minor": 2
}
