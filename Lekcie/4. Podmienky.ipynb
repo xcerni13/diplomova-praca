{
 "cells": [
  {
   "cell_type": "markdown",
   "metadata": {},
   "source": [
    "# Podmienky"
   ]
  },
  {
   "cell_type": "markdown",
   "metadata": {},
   "source": [
    "### Úvodná úloha"
   ]
  },
  {
   "cell_type": "markdown",
   "metadata": {},
   "source": [
    "<div class=\"alert alert-block alert-success\">\n",
    "<b>Triedenie čísel</b> \n",
    "<br>\n",
    "Od uživateľa dostaneme číslo, o ktorom chceme zistiť nejaké vlastnosti. Pokiaľ číslo spĺňa vlastnosť, chceme o tom poslať informáciu.\n",
    "\n",
    "- je číslo párne?\n",
    "- je deliteľné 7 bez zvyšku?\n",
    "- je väčšie ako 100?\n",
    "- je záporné?\n",
    "</div>"
   ]
  },
  {
   "cell_type": "markdown",
   "metadata": {},
   "source": [
    "Riešenie:"
   ]
  },
  {
   "cell_type": "markdown",
   "metadata": {},
   "source": [
    "***"
   ]
  },
  {
   "cell_type": "markdown",
   "metadata": {},
   "source": [
    "### Vysvetlenie pojmov"
   ]
  },
  {
   "cell_type": "markdown",
   "metadata": {},
   "source": [
    "Pri programovaní sa často stretneme so situáciou, kedy sa potrebujeme rozhodnúť medzi viacerími možnosťami na základe podmienky. Často sa rozhodujeme, čo sa má stať, keď nastane nejaká situácia. Na to využívame konštrukciu podmienky."
   ]
  },
  {
   "cell_type": "markdown",
   "metadata": {},
   "source": [
    "##### Syntax"
   ]
  },
  {
   "cell_type": "code",
   "execution_count": null,
   "metadata": {},
   "outputs": [],
   "source": [
    "if podmienka:\n",
    "    #príkazy, ktoré sa vykonajú ak je podmienka splnená\n",
    "elif podmienka:\n",
    "    #príkazy, ktoré sa vykonajú ak je podmienka splnená\n",
    "else:\n",
    "    #príkazy, ktoré sa vykonajú ak žiadna z predchádzajúcich podmienok nebola splnená"
   ]
  },
  {
   "cell_type": "markdown",
   "metadata": {},
   "source": [
    "<div class=\"alert alert-block alert-info\">\n",
    "<b>Kľúčové slová pri vytváraní podmienok</b> \n",
    "<br>\n",
    "<b>if</b> - ak nastala nejaká situácia\n",
    "<br>\n",
    "<b>elif</b> - else if - ak nenastala predchádzajúca situácia, pýtame sa na ďalšiu situáciu\n",
    "<br>\n",
    "<b>else</b> - pokiaľ nenastala ani jedna z predchádzajúcich situácii\n",
    "</div>"
   ]
  },
  {
   "cell_type": "markdown",
   "metadata": {},
   "source": [
    "\n",
    "Ako zapisujeme nejakú podmienku? Každá podmienka je zložená z niekoľkých častí.\n",
    "<br>\n",
    "    - kľúčové slovo - začiatok podmienky, budeme kontrolovať či nastane nejaká situácia\n",
    "    <br>\n",
    "    - výraz - podmienka, ktorú kontrolujeme, chceme zistiť, či nastala nejaká situácia a preto sa na ňu pýtame, na pýtanie sa využívame výrazy\n",
    "    <br>\n",
    "    - príkazy - dôsledok, ktorý nastane, ak je podmienka splnená\n"
   ]
  },
  {
   "cell_type": "markdown",
   "metadata": {},
   "source": [
    "***"
   ]
  },
  {
   "cell_type": "markdown",
   "metadata": {},
   "source": [
    "### Príklady použitia podmienok"
   ]
  },
  {
   "cell_type": "markdown",
   "metadata": {},
   "source": [
    "Podmienka je väčšinou zapísaná formou výrazu. Pri vyhodnotení podmienky sa zisťuje, či platí alebo neplatí - je True alebo False. Pokiaľ je podmienka splnená, vykonajú sa príkazy, ktoré sú pod ňou odsadené - patria do jedného bloku kódu."
   ]
  },
  {
   "cell_type": "code",
   "execution_count": 1,
   "metadata": {},
   "outputs": [
    {
     "name": "stdout",
     "output_type": "stream",
     "text": [
      "positive\n"
     ]
    }
   ],
   "source": [
    "x = 4\n",
    "if x > 0:\n",
    "    print(\"positive\")\n",
    "else:\n",
    "    print(\"negative\")"
   ]
  },
  {
   "cell_type": "code",
   "execution_count": null,
   "metadata": {},
   "outputs": [],
   "source": [
    "x = 4\n",
    "if x > 0:\n",
    "    print(\"positive\")\n",
    "elif x == 0:\n",
    "    print(\"zero\")\n",
    "else:\n",
    "    print(\"negative\")"
   ]
  },
  {
   "cell_type": "markdown",
   "metadata": {},
   "source": [
    "***"
   ]
  },
  {
   "cell_type": "markdown",
   "metadata": {},
   "source": [
    "### Vysvetlenie pojmov"
   ]
  },
  {
   "cell_type": "markdown",
   "metadata": {},
   "source": [
    "Pri podmienkach hovoríme o vetvení programu. Každá podmienka vytvorí vetvu programu, ktorý sa vykoná iba v prípade jej splnenia. Každá táto \"vetva\" tvorí <b>blok</b> kódu. "
   ]
  },
  {
   "cell_type": "markdown",
   "metadata": {},
   "source": [
    "Dôležité pravidlo pri blokoch je odsadzovanie. \n",
    "<br>\n",
    "Prvé použitie odsadzovania, s ktorým sa v lekciách stretávame je pri podmienkach. Príkazy, ktoré sa majú vykonať po splnení podmienky sú odsadené. Znamená to, že tieto príkazy spolu tvoria blok kódu.\n",
    "<br>\n",
    " "
   ]
  },
  {
   "cell_type": "markdown",
   "metadata": {},
   "source": [
    "<div class=\"alert alert-block alert-info\">\n",
    "<b>Blok kódu</b> je kód, ktorý sa má vykonať ako jeden celok. V Pythone je blok kódu vždy rovnako odsadený.\n",
    "</div>"
   ]
  },
  {
   "cell_type": "markdown",
   "metadata": {},
   "source": [
    "<div class=\"alert alert-block alert-info\">\n",
    "Blok kódu určuje aj platnosť premenných, podľa toho, kde boli definované.\n",
    "<br>\n",
    "Premenná, ktorá má platnosť v aktuálnom bloku. Ide o väčšinu premenných, ktoré sú definované. Platnosť má premenná od toho riadku, kde je definovaná a je možné k nej pristupovať v tom bloku kde sa nachádza, ako aj v jemu vnorených blokoch. \n",
    "</div>"
   ]
  },
  {
   "cell_type": "code",
   "execution_count": null,
   "metadata": {},
   "outputs": [],
   "source": [
    "final_value = 42\n",
    "if final_value > 30:\n",
    "    print(final_value)\n"
   ]
  },
  {
   "cell_type": "markdown",
   "metadata": {},
   "source": [
    "K premennej, ktorá je definovaná v nejakom bloku, nie je možné pristúpiť z jej nadradenému bloku."
   ]
  },
  {
   "cell_type": "code",
   "execution_count": null,
   "metadata": {},
   "outputs": [],
   "source": [
    "final_value = 42\n",
    "if final_value > 30:\n",
    "    print(final_value)\n",
    "else:\n",
    "    total_value = 15\n",
    "print(total_value)"
   ]
  },
  {
   "cell_type": "markdown",
   "metadata": {},
   "source": [
    "***"
   ]
  },
  {
   "cell_type": "markdown",
   "metadata": {},
   "source": [
    "### Úlohy na precvičenie"
   ]
  },
  {
   "cell_type": "markdown",
   "metadata": {},
   "source": [
    "<div class=\"alert alert-block alert-success\">\n",
    "<b>Triedenie čísel - úlohu zo začiatku lekcie naprogramujme</b> \n",
    "<br>\n",
    "Od uživateľa dostaneme číslo, o ktorom chceme zistiť nejaké vlastnosti. Pokiaľ číslo spĺňa vlastnosť, chceme o tom poslať informáciu.\n",
    "\n",
    "- je číslo párne?\n",
    "- je deliteľné 7 bez zvyšku?\n",
    "- je väčšie ako 100?\n",
    "- je záporné?\n",
    "</div>"
   ]
  },
  {
   "cell_type": "code",
   "execution_count": null,
   "metadata": {},
   "outputs": [],
   "source": [
    "# Riešenie"
   ]
  },
  {
   "cell_type": "markdown",
   "metadata": {},
   "source": [
    "<div class=\"alert alert-block alert-success\">\n",
    "Rozšírte predchádzajúcu úlohu, pokiaľ je niektorá z podmienok platná, chceme pripočítať bod. Na konci chceme vedieť, koľko podmienok číslo splnilo.\n",
    "</div>"
   ]
  },
  {
   "cell_type": "code",
   "execution_count": null,
   "metadata": {},
   "outputs": [],
   "source": [
    "# Riešenie"
   ]
  },
  {
   "cell_type": "markdown",
   "metadata": {},
   "source": [
    "<div class=\"alert alert-block alert-success\">\n",
    "Otestujte vytvorený algoritmus na rôznych vstupoch, ktoré by mohli byť problematické. Vaše riešenie prípadne opravte.\n",
    "</div>"
   ]
  }
 ],
 "metadata": {
  "kernelspec": {
   "display_name": "Python 3",
   "language": "python",
   "name": "python3"
  },
  "language_info": {
   "codemirror_mode": {
    "name": "ipython",
    "version": 3
   },
   "file_extension": ".py",
   "mimetype": "text/x-python",
   "name": "python",
   "nbconvert_exporter": "python",
   "pygments_lexer": "ipython3",
   "version": "3.12.2"
  }
 },
 "nbformat": 4,
 "nbformat_minor": 2
}
