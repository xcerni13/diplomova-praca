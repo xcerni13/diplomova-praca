{
 "cells": [
  {
   "cell_type": "markdown",
   "metadata": {},
   "source": [
    "# While cyklus"
   ]
  },
  {
   "cell_type": "markdown",
   "metadata": {},
   "source": [
    "### Úvodná úloha"
   ]
  },
  {
   "cell_type": "markdown",
   "metadata": {},
   "source": [
    "<div class=\"alert alert-block alert-success\">\n",
    "<b>Úloha robot</b> \n",
    "<br> Jeden zo žiakov je robot. Úlohou skupiny je robota pomocou jednoslovných pokynov premiestniť od tabule von z triedy. Robot počúva vždy iba jeden pokyn, ktorý hneď následne vykoná. Pozná pokyny krok, otoč vpravo, otoč vľavo.\n",
    "</div>"
   ]
  },
  {
   "cell_type": "markdown",
   "metadata": {},
   "source": [
    "<div class=\"alert alert-block alert-success\">\n",
    "<b>Úloha robot - 2. časť</b> \n",
    "<br> Jeden zo žiakov je robot. Úlohou skupiny je robota pomocou jednoslovných pokynov premiestniť od tabule, von z triedy. Robot musí vedieť všetky pokyny predtým, ako začne vykonávať úlohu.\n",
    "</div>"
   ]
  },
  {
   "cell_type": "markdown",
   "metadata": {},
   "source": [
    "***"
   ]
  },
  {
   "cell_type": "markdown",
   "metadata": {},
   "source": [
    "### Vysvetlenie pojmov"
   ]
  },
  {
   "cell_type": "markdown",
   "metadata": {},
   "source": [
    "\n",
    "<div class=\"alert alert-block alert-info\">\n",
    "While cyklus je konštrukcia, ktorá opakuje príkazy v tele cyklu, pokým je platná podmienka cyklu.\n",
    "</div>"
   ]
  },
  {
   "cell_type": "markdown",
   "metadata": {},
   "source": [
    "##### Syntax"
   ]
  },
  {
   "cell_type": "code",
   "execution_count": null,
   "metadata": {},
   "outputs": [],
   "source": [
    "while podmienka:\n",
    "    telo cyklu"
   ]
  },
  {
   "cell_type": "markdown",
   "metadata": {},
   "source": [
    "<div class=\"alert alert-block alert-info\">\n",
    "<b>while</b> - kľúčové slovo pre začiatok cyklu\n",
    "<br>\n",
    "<b>podmienka</b> - podmienka, ktorá musí byť splnená, aby sa vykonalo telo cyklu\n",
    "<br>\n",
    "<b>telo cyklu</b> - príkazy, ktoré budú vykonané v každom opakovaní cyklu\n",
    "</div>"
   ]
  },
  {
   "cell_type": "markdown",
   "metadata": {},
   "source": [
    "Pokiaľ nastane situácia, kedy potrebujeme nejaké príkazy opakovať, je vhodné využiť cyklus. Nie vždy vopred vieme, koľkokrát sa má cyklus opakovať. Ale často vieme, za akých podmienok sa cyklus opakovať má alebo nemá. V tejto situácii je vhodné využiť <b>while cyklus</b>."
   ]
  },
  {
   "cell_type": "markdown",
   "metadata": {},
   "source": [
    "Na opakovanie je využívaná podmienka, ktorá je zapísaná ako výraz. Pred vykonaním príkazov v tele cyklu je vyhodnotená pravdivosť výrazu. Pokiaľ je podmienka splnená - True - vykoná sa blok príkazov v tele cyklu. Po vykonaní všetkých príkazov v cykle je opäť skontrolovaná podmienka. Keď podmienka nie je splnená - False - cyklus sa nebude už ďalej vykonávať. Pokým je podmienka splnená, telo cyklu sa bude vykonávať."
   ]
  },
  {
   "cell_type": "code",
   "execution_count": null,
   "metadata": {},
   "outputs": [],
   "source": [
    "x = 5\n",
    "while x > 1:\n",
    "    print(x)\n",
    "    x = x - 1"
   ]
  },
  {
   "cell_type": "markdown",
   "metadata": {},
   "source": [
    "***"
   ]
  },
  {
   "cell_type": "markdown",
   "metadata": {},
   "source": [
    "### Úlohy na precvičenie"
   ]
  },
  {
   "cell_type": "markdown",
   "metadata": {},
   "source": [
    "<div class=\"alert alert-block alert-success\">\n",
    "Vypíšte ľubovoľnú frázu toľkokrát, ako je zadané číslo (ručne, alebo input()) a využite pri tom cyklus while. \n",
    "</div>"
   ]
  },
  {
   "cell_type": "code",
   "execution_count": null,
   "metadata": {},
   "outputs": [],
   "source": [
    "# Riešenie"
   ]
  },
  {
   "cell_type": "markdown",
   "metadata": {},
   "source": [
    "Modifikácie úlohy: \n",
    "- pri každom párnom výpise frázy vypíš aj dnešný dátum"
   ]
  },
  {
   "cell_type": "markdown",
   "metadata": {},
   "source": [
    "<div class=\"alert alert-block alert-success\">\n",
    "Pomocou while cyklu vypočítajte súčet čísel od 1 po n, ktoré bude zadané na začiatku programu. (ručne, alebo input())\n",
    "</div>"
   ]
  },
  {
   "cell_type": "code",
   "execution_count": null,
   "metadata": {},
   "outputs": [],
   "source": [
    "# Riešenie"
   ]
  },
  {
   "cell_type": "markdown",
   "metadata": {},
   "source": [
    "<div class=\"alert alert-block alert-success\">\n",
    "Pomocou while cyklu vypočítajte faktoriál zadaného čísla. (ručne, alebo input())\n",
    "</div>"
   ]
  },
  {
   "cell_type": "code",
   "execution_count": null,
   "metadata": {},
   "outputs": [],
   "source": [
    "# Riešenie"
   ]
  },
  {
   "cell_type": "markdown",
   "metadata": {},
   "source": [
    "<div class=\"alert alert-block alert-success\">\n",
    "Uživateľ zadáva čísla (input()). Keď súčet týchto čísel bude väčší alebo rovný 20, cyklus sa ukončí a vypíše celkový súčet.\n",
    "</div>"
   ]
  },
  {
   "cell_type": "code",
   "execution_count": null,
   "metadata": {},
   "outputs": [],
   "source": [
    "# Riešenie"
   ]
  },
  {
   "cell_type": "markdown",
   "metadata": {},
   "source": [
    "***"
   ]
  },
  {
   "cell_type": "markdown",
   "metadata": {},
   "source": [
    "### Vysvetlenie pojmov"
   ]
  },
  {
   "cell_type": "markdown",
   "metadata": {},
   "source": [
    "Môže nastať situácia, kedy sa príkazy cyklu nevykonajú ani raz, pretože už pri prvom vyhodnotení podmienky je nepravdivá."
   ]
  },
  {
   "cell_type": "code",
   "execution_count": null,
   "metadata": {},
   "outputs": [],
   "source": [
    "x = 0\n",
    "while x > 3:\n",
    "    print(x)"
   ]
  },
  {
   "cell_type": "markdown",
   "metadata": {},
   "source": [
    "Takisto môže nastať situácia, ktorá sa volá zacyklenie. Nastane, keď podmienka nikdy nenadobudne hodnotu False a cyklus teda nikdy neskončí. Ide o chybu, ktorú vám interpret neohlási, prídete na ňu až pri spustení programu, ktorý nebude končiť. "
   ]
  },
  {
   "cell_type": "markdown",
   "metadata": {},
   "source": [
    "<div class=\"alert alert-block alert-danger\">\n",
    "<b>Nekonečný cyklus</b> je cyklus, ktorého podmienka je vždy splnená a preto sa jeho vykonávanie nikdy neskončí.\n",
    "</div>"
   ]
  },
  {
   "cell_type": "code",
   "execution_count": null,
   "metadata": {},
   "outputs": [],
   "source": [
    "x = 1\n",
    "while x > 0:\n",
    "    print(x)"
   ]
  },
  {
   "cell_type": "markdown",
   "metadata": {},
   "source": [
    "<b>break</b> je príkaz, ktorý ukončí cyklus aj keď je jeho podmienka splnená. Pomocou tohto príkazu je možné zastaviť cyklus skôr."
   ]
  },
  {
   "cell_type": "code",
   "execution_count": null,
   "metadata": {},
   "outputs": [],
   "source": [
    "x = 1\n",
    "while x < 4:\n",
    "    if x % 3 == 0:\n",
    "        break\n",
    "    x += 1\n",
    "    print(x)"
   ]
  },
  {
   "cell_type": "markdown",
   "metadata": {},
   "source": [
    "<b>continue</b> je príkaz, ktorý ukončí aktuálne opakovanie cyklu, a bude sa hneď vyhodnocovať platnosť podmienky cyklu"
   ]
  },
  {
   "cell_type": "code",
   "execution_count": null,
   "metadata": {},
   "outputs": [],
   "source": [
    "x = 1\n",
    "while x < 4:\n",
    "    x += 1\n",
    "    if x % 2 == 0:\n",
    "        continue\n",
    "    else:\n",
    "        print(x)"
   ]
  }
 ],
 "metadata": {
  "kernelspec": {
   "display_name": "Python 3",
   "language": "python",
   "name": "python3"
  },
  "language_info": {
   "codemirror_mode": {
    "name": "ipython",
    "version": 3
   },
   "file_extension": ".py",
   "mimetype": "text/x-python",
   "name": "python",
   "nbconvert_exporter": "python",
   "pygments_lexer": "ipython3",
   "version": "3.12.2"
  }
 },
 "nbformat": 4,
 "nbformat_minor": 2
}
