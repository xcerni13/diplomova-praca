{
 "cells": [
  {
   "cell_type": "markdown",
   "metadata": {},
   "source": [
    "# Algoritmus"
   ]
  },
  {
   "cell_type": "markdown",
   "metadata": {},
   "source": [
    "### Úvodná úloha"
   ]
  },
  {
   "cell_type": "markdown",
   "metadata": {},
   "source": [
    "<div class=\"alert alert-block alert-success\">\n",
    "<b>Varenie čaju</b> \n",
    "<br>\n",
    "Do nasledujúceho bloku popíš svojimi slovami postup varenia čaju. \n",
    "</div>"
   ]
  },
  {
   "cell_type": "markdown",
   "metadata": {},
   "source": [
    "<div class=\"alert alert-block alert-warning\">\n",
    "Pokiaľ na blok textu <b>Postup:</b> klikneš, v pravom hornom rohu tohto bloku sa zobrazia možnosti úpravy. Klikni na ikonku úpravy (pero) a budeš môcť vpísať vlastný text.\n",
    "</div>"
   ]
  },
  {
   "cell_type": "markdown",
   "metadata": {},
   "source": [
    "Postup:"
   ]
  },
  {
   "cell_type": "markdown",
   "metadata": {},
   "source": [
    "<br>"
   ]
  },
  {
   "cell_type": "markdown",
   "metadata": {},
   "source": [
    "***"
   ]
  },
  {
   "cell_type": "markdown",
   "metadata": {},
   "source": [
    "### Vysvetlenie pojmov"
   ]
  },
  {
   "cell_type": "markdown",
   "metadata": {},
   "source": [
    "Algoritmus je konečná množina pravidiel, ktorá popisuje postupnosť operácií na riešenie určitého typu problému. Inak povedané, je to presný popis krokov k vyriešeniu úlohy. Tento popis môže byť zapísaný rôznymi spôsobmi, avšak dôležité je to, že je možné ho nasledovať a prepísať do ľubovoľnej formy, alebo jazyka a vždy bude možné vyriešiť zadanú úlohu. "
   ]
  },
  {
   "cell_type": "markdown",
   "metadata": {},
   "source": [
    "<div class=\"alert alert-block alert-info\">\n",
    "<b>Algoritmus</b> je usporiadaná sada pokynov, alebo krokov, ktoré jednoznačne vyriešia zadanú úlohu. \n",
    "Inak povedané, ide o inštrukcie, alebo návod, ktorý nám pomôže vyriešiť zadanú úlohu. \n",
    "</div>"
   ]
  },
  {
   "cell_type": "markdown",
   "metadata": {},
   "source": [
    "Hlavnou motiváciou písať algoritmy, je snaha tvoriť efektívne riešenia problémov. Takmer výhradne ide o problémy, ktoré sa opakujú a preto potrebujeme riešenie, ktoré optimálne vyrieši situáciu. Aj keď v prvom príklade nebol riešený programovací problém, príklad ukázal, že nielen v programovaní sa dajú algoritmy využiť. Väčšinou tak tomu je, čiže typické problémy, na ktoré je potrebné nájsť algoritmické riešenie sú programátorského typu. \n",
    "<br>\n",
    "Vytváranie algoritmov pomáha zlepšovať premýšľanie nad efektívnymi riešeniami, preto ide o zručnosť, ktorá sa hodí takmer každému."
   ]
  },
  {
   "cell_type": "markdown",
   "metadata": {},
   "source": [
    "Pre zápis algoritmu existuje množstvo spôsobov. Najdôležitejšie je, aby bol zapísaný jasne a bolo možné podľa tohto zápisu algoritmus vykonať. Typické spôsoby zápisu algoritmu sú napríklad:\n",
    "- prirodzený jazyk\n",
    "- pseudokód\n",
    "- vývojový diagram (flowchart)\n",
    "- programovací jazyk"
   ]
  },
  {
   "cell_type": "markdown",
   "metadata": {},
   "source": [
    "<div class=\"alert alert-block alert-success\">\n",
    "Spoločne prepíšme algoritmus pre varenie čaju do rôznych foriem zápisu.\n",
    "</div>"
   ]
  },
  {
   "cell_type": "markdown",
   "metadata": {},
   "source": [
    "***"
   ]
  },
  {
   "cell_type": "markdown",
   "metadata": {},
   "source": [
    "### Pokračovanie úlohy"
   ]
  },
  {
   "cell_type": "markdown",
   "metadata": {},
   "source": [
    "<div class=\"alert alert-block alert-success\">\n",
    "<b>Varenie horúceho nápoja</b> \n",
    "<br>\n",
    "V predchádzajúcej úlohe sme varili čaj. Teraz skúste napísať všeobecnejší postup, ako pripraviť ľubovoľný horúci nápoj.\n",
    "Využite jeden zo spôsobov zápisu algoritmu.\n",
    "</div>"
   ]
  },
  {
   "cell_type": "markdown",
   "metadata": {},
   "source": [
    "Pri vytváraní algoritmu je veľmi dôležité presné formulovanie riešenia. Vždy skontrolujte, či ste vašu myšlienku napísali presne tak, ako znie. Niekedy je jednoduché napísať niečo iné, než čo bolo naším zámerom.\n"
   ]
  },
  {
   "cell_type": "markdown",
   "metadata": {},
   "source": [
    "***"
   ]
  },
  {
   "cell_type": "markdown",
   "metadata": {},
   "source": [
    "### Vysvetlenie pojmov"
   ]
  },
  {
   "cell_type": "markdown",
   "metadata": {},
   "source": [
    "Vlastnosti algoritmov:\n",
    "- deterministký - jednoznačné kroky\n",
    "- konečný - ukončí sa\n",
    "- rezultatívny - po ukončení dá výsledok\n",
    "- vstup/výstup - má vstup a výstup, ktoré sú obmedzené\n",
    "- efektívny - v čo najkratšom čase s čo najmenej prostriedkami\n",
    "- jazykovo nezávislý - je možné ho prepísať do ľubovoľného jazyka a neovplyvní to funkčnosť\n",
    "- elementárny - jednotlivé kroky sú zrozumiteľné\n",
    "- všeobecný - nerieši iba konkrétny prípad, ale celú skupinu podobných problémov"
   ]
  },
  {
   "cell_type": "markdown",
   "metadata": {},
   "source": [
    "***"
   ]
  },
  {
   "cell_type": "markdown",
   "metadata": {},
   "source": [
    "### Úlohy na precvičenie"
   ]
  },
  {
   "cell_type": "markdown",
   "metadata": {},
   "source": [
    "<div class=\"alert alert-block alert-success\">\n",
    "Napíš algoritmus prevodu čísla z desiatkovej do dvojkovej sústavy.  \n",
    "</div>"
   ]
  }
 ],
 "metadata": {
  "kernelspec": {
   "display_name": "Python 3",
   "language": "python",
   "name": "python3"
  },
  "language_info": {
   "name": "python",
   "version": "3.12.2"
  }
 },
 "nbformat": 4,
 "nbformat_minor": 2
}
