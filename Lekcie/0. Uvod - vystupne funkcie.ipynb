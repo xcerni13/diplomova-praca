{
 "cells": [
  {
   "cell_type": "markdown",
   "metadata": {},
   "source": [
    "# Vitajte\n",
    "\n",
    "### Úvodné pokyny\n",
    "\n",
    "Vitajte pri prvej lekcii programovania v jazyku Python. Tieto interaktívne pracovné materiály vám pomôžu pochopiť a naučiť sa používať základné programovacie prvky a konštrukcie. \n",
    "\n",
    "Tento súbor môžete používať ako pracovný list, podľa ktorého budete vypracovávať jednotlivé úlohy. Takisto tu nájdete teoretické informácie k jednotlivým celkom, ktoré jednotlivé princípy vysvetlia a vyjasnia. \n",
    "\n",
    "Do súboru si môžete zapisovať svoje vlastné poznámky a spustiteľný kód podľa vlastnej potreby. Priamo tu si môžete skúšať pripravené programy, ako aj vytvárať svoje krátke programy."
   ]
  },
  {
   "cell_type": "markdown",
   "metadata": {},
   "source": [
    "<div class=\"alert alert-block alert-warning\">\n",
    "<b>Ako vyzerá lekcia?</b> Každá lekcia pozostáva z jedného súboru <b>.ipynb</b>. V tomto súbore nájdete ucelenú lekciu na výuku jedného celku v oblasti programovania. V lekcii sú úlohy, ako aj teória k tomuto celku. Takisto sú v lekcii konkrétne úseky kódu, ktorý si môžete spustiť a vidieť, ako sa správajú. \n",
    "</div>"
   ]
  },
  {
   "cell_type": "markdown",
   "metadata": {},
   "source": [
    "***"
   ]
  },
  {
   "cell_type": "markdown",
   "metadata": {},
   "source": [
    "### Štruktúra lekcie"
   ]
  },
  {
   "cell_type": "markdown",
   "metadata": {},
   "source": [
    "Okrem úloh a teoetických materiálov v tomto súbore nájdete ukážky programov. Tieto úkažky sú spustiteľné a viete ich aj upravovať, aby ste lepšie pochopili látku. Navyše sú materiály stavané tak, aby ste do nich mohli vkladať vlastné úseky textu alebo kódu. Pokiaľ si chcete zapísať poznámku, alebo vyskúšať časť programu napísať, tento materiál to umožňuje. "
   ]
  },
  {
   "cell_type": "markdown",
   "metadata": {},
   "source": [
    "Každá lekcia má niekoľko častí, ktoré sú od seba vizuálne oddelené. Striedajú sa sekcie úloh a teoretické časti."
   ]
  },
  {
   "cell_type": "markdown",
   "metadata": {},
   "source": [
    "<div class=\"alert alert-block alert-warning\">\n",
    "<b>Žltý box obsahuje technické alebo organizačné pokyny k práci s materiálom.</b>\n",
    "</div>"
   ]
  },
  {
   "cell_type": "markdown",
   "metadata": {},
   "source": [
    "<div class=\"alert alert-block alert-info\">\n",
    "<b>Modrý box obsahuje kľúčové pojmy z danej témy.</b> \n",
    "</div>"
   ]
  },
  {
   "cell_type": "markdown",
   "metadata": {},
   "source": [
    "<div class=\"alert alert-block alert-success\">\n",
    "<b>Zelený box označuje úlohu, ktorú je potrebné splniť.</b>\n",
    "</div>"
   ]
  },
  {
   "cell_type": "markdown",
   "metadata": {},
   "source": [
    "***"
   ]
  },
  {
   "cell_type": "markdown",
   "metadata": {},
   "source": [
    "### Úvodná úloha"
   ]
  },
  {
   "cell_type": "markdown",
   "metadata": {},
   "source": [
    "<div class=\"alert alert-block alert-warning\">\n",
    "Stlačením tlačidla Run (šípka pre play) tento program spustíte a pod oknom uvidíte jeho výstup. Inak povedané, uvidíte čo vykonal samotný program. Vždy, keď v lekcii narazíte na nejaký kód, spustite si ho, aby ste videli jeho správanie.\n",
    "</div>"
   ]
  },
  {
   "cell_type": "code",
   "execution_count": null,
   "metadata": {},
   "outputs": [],
   "source": [
    "print(\"Hello world\")"
   ]
  },
  {
   "cell_type": "markdown",
   "metadata": {},
   "source": [
    "***"
   ]
  },
  {
   "cell_type": "markdown",
   "metadata": {},
   "source": [
    "### Vysvetlenie pojmov"
   ]
  },
  {
   "cell_type": "markdown",
   "metadata": {},
   "source": [
    "<div class=\"alert alert-block alert-info\">\n",
    "<b>print()</b> je príkaz, to znamená že ide o kód, ktorý sa po spustení vykoná\n",
    "</div>"
   ]
  },
  {
   "cell_type": "markdown",
   "metadata": {},
   "source": [
    "Tu sme práve mohli vidieť náš prvý program v jazyku Python. <b>Hello world</b> je väčšinou prvý program, ktorý programátori skúšajú, keď začínajú pracovať v novom jazyku.\n",
    "\n",
    "Tento program je veľmi jednoduchý, jeho úlohou je vypísať nápis \"Hello world\". \n",
    "\n",
    "Toto vykoná pomocou funkcie <b>print()</b>.\n",
    "<br>\n"
   ]
  },
  {
   "cell_type": "markdown",
   "metadata": {},
   "source": [
    "<div class=\"alert alert-block alert-info\">\n",
    "<b>print()</b> je základná výstupná funkcia, ktorá vypisuje text\n",
    "</div>"
   ]
  },
  {
   "cell_type": "markdown",
   "metadata": {},
   "source": [
    "Text, ktorý má byť vypísaný musí byť v úvodzovkách. V nasledujúcich lekciách budú prípady, kedy úvodzovky použité nebudú. Okrem textu je možné vypísať aj rôzne číselné hodnoty."
   ]
  },
  {
   "cell_type": "markdown",
   "metadata": {},
   "source": [
    "***"
   ]
  },
  {
   "cell_type": "markdown",
   "metadata": {},
   "source": [
    "### Úlohy na precvičenie"
   ]
  },
  {
   "cell_type": "markdown",
   "metadata": {},
   "source": [
    "<div class=\"alert alert-block alert-success\">\n",
    "Skúsme si prvý program v Pythone, nechajme najprv program vypísať Hello world na výstup.\n",
    "<br>\n",
    "Potom si skúsime vypísať svoje meno.\n",
    "</div>"
   ]
  },
  {
   "cell_type": "markdown",
   "metadata": {},
   "source": [
    "<div class=\"alert alert-block alert-warning\">\n",
    "Kliknutím do okna s kódom sa v pravom hornom rohu okna otvoria možnosti úpravy. Kliknutím na tlačidlo úpravy (pero) bude možné upravovať text. \n",
    "</div>"
   ]
  },
  {
   "cell_type": "code",
   "execution_count": null,
   "metadata": {},
   "outputs": [],
   "source": [
    "#Tu môžeš vpisovať kód:\n"
   ]
  },
  {
   "cell_type": "markdown",
   "metadata": {},
   "source": [
    "<div class=\"alert alert-block alert-success\">\n",
    "Prečo tento program vyvolá chybu? Oprav kód tak, aby vypísal to čo má.\n",
    "</div>"
   ]
  },
  {
   "cell_type": "code",
   "execution_count": null,
   "metadata": {},
   "outputs": [],
   "source": [
    "print(Hello world)"
   ]
  },
  {
   "cell_type": "markdown",
   "metadata": {},
   "source": [
    "***"
   ]
  },
  {
   "cell_type": "markdown",
   "metadata": {},
   "source": [
    "### Vysvetlenie pojmov"
   ]
  },
  {
   "cell_type": "markdown",
   "metadata": {},
   "source": [
    "Pokiaľ chceme vypísať viacero osobitných kusov textu, musia byť oddelené čiarkami."
   ]
  },
  {
   "cell_type": "code",
   "execution_count": 2,
   "metadata": {},
   "outputs": [
    {
     "name": "stdout",
     "output_type": "stream",
     "text": [
      "apple banana\n"
     ]
    }
   ],
   "source": [
    "print(\"apple\", \"banana\")"
   ]
  },
  {
   "cell_type": "markdown",
   "metadata": {},
   "source": [
    "***"
   ]
  },
  {
   "cell_type": "markdown",
   "metadata": {},
   "source": [
    "### Úlohy na precvičenie"
   ]
  },
  {
   "cell_type": "markdown",
   "metadata": {},
   "source": [
    "<div class=\"alert alert-block alert-success\">\n",
    "Vypíš pomocu príkazu print() svoje meno, a meno tvojho spolužiaka.\n",
    "</div>"
   ]
  },
  {
   "cell_type": "markdown",
   "metadata": {},
   "source": [
    "***"
   ]
  },
  {
   "cell_type": "markdown",
   "metadata": {},
   "source": [
    "Okrem príkazov, je možné v Pythone písať aj obyčajný text, keď si potrebujete napísať nejakú poznámku. Poznámky sa píšu tak, že na začiatok riadku napíšete znak #. Tento text nebude braný ako príkazy, ale ako komentáre."
   ]
  },
  {
   "cell_type": "code",
   "execution_count": null,
   "metadata": {},
   "outputs": [],
   "source": [
    "# tento program vypíše text\n",
    "print(\"Good morning!\")"
   ]
  },
  {
   "cell_type": "markdown",
   "metadata": {},
   "source": [
    "<br>\n"
   ]
  }
 ],
 "metadata": {
  "kernelspec": {
   "display_name": "Python 3",
   "language": "python",
   "name": "python3"
  },
  "language_info": {
   "codemirror_mode": {
    "name": "ipython",
    "version": 3
   },
   "file_extension": ".py",
   "mimetype": "text/x-python",
   "name": "python",
   "nbconvert_exporter": "python",
   "pygments_lexer": "ipython3",
   "version": "3.12.2"
  }
 },
 "nbformat": 4,
 "nbformat_minor": 2
}
