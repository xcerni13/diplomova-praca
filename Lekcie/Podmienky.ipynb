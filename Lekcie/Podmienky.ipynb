{
 "cells": [
  {
   "cell_type": "markdown",
   "metadata": {},
   "source": [
    "# Podmienky"
   ]
  },
  {
   "cell_type": "markdown",
   "metadata": {},
   "source": [
    "### Úvodná úloha"
   ]
  },
  {
   "cell_type": "markdown",
   "metadata": {},
   "source": [
    "<div class=\"alert alert-block alert-success\">\n",
    "<b>Triedenie čísel</b> \n",
    "<br>\n",
    "Od uživateľa dostaneme číslo, o ktorom chceme zistiť nejaké vlastnosti. Pokiaľ číslo spĺňa vlastnosť, chceme o tom poslať informáciu.\n",
    "\n",
    "- je číslo párne?\n",
    "- je deliteľné 7 bez zvyšku?\n",
    "- je väčšie ako 100?\n",
    "- je záporné?\n",
    "</div>"
   ]
  },
  {
   "cell_type": "markdown",
   "metadata": {},
   "source": [
    "Nie je potrebné napísať program, cieľom je nájsť algoritmus a slovne ho zapísať."
   ]
  },
  {
   "cell_type": "markdown",
   "metadata": {},
   "source": [
    "***"
   ]
  },
  {
   "cell_type": "markdown",
   "metadata": {},
   "source": [
    "### Vysvetlenie pojmov"
   ]
  },
  {
   "cell_type": "markdown",
   "metadata": {},
   "source": [
    "To, čo sme v predchádzajúcej úlohe tvorili sa v programovaní nazýva podmienky. Podmienky sa využívajú, keď hľadáme rôzne situácie, ktoré môžu nastať. Pri podmienkach sa využívajú výrazy, veľmi často porovnávania nejakých hodnôt. "
   ]
  },
  {
   "cell_type": "markdown",
   "metadata": {},
   "source": [
    "\n",
    "Ako zapisujeme nejakú podmienku? Každá podmienka je zložená z niekoľko častí.\n",
    "<br>\n",
    "    - kľúčové slovo - začiatok podmienky, budeme kontrolovať či sa stane nejaká situácia\n",
    "    <br>\n",
    "    - výraz - podmienka, ktorú kontrolujeme, chceme zistiť, či nastala nejaká situácia a preto sa na ňu pýtame, na pýtanie sa využívame výrazy\n",
    "    <br>\n",
    "    - príkazy - dôsledok, ktorý nastane, ak je podmienka splnená\n"
   ]
  },
  {
   "cell_type": "markdown",
   "metadata": {},
   "source": [
    "##### Syntax"
   ]
  },
  {
   "cell_type": "markdown",
   "metadata": {},
   "source": [
    "<div class=\"alert alert-block alert-info\">\n",
    "<b>Kľúčové slová pri vytváraní podmienok</b> \n",
    "<br>\n",
    "<b>if</b> - ak sa stala nejaká situácia\n",
    "<br>\n",
    "<b>elif</b> - else if - ak sa nestala predchádzajúca situácia, pýtame sa na ďalšiu situáciu\n",
    "<br>\n",
    "<b>else</b> - pokiaľ nenastala ani jedna z predchádzajúcich situácii\n",
    "</div>"
   ]
  },
  {
   "cell_type": "code",
   "execution_count": null,
   "metadata": {},
   "outputs": [],
   "source": [
    "if výraz:\n",
    "    príkaz\n",
    "elif výraz:\n",
    "    príkaz\n",
    "else:\n",
    "    príkaz"
   ]
  },
  {
   "cell_type": "markdown",
   "metadata": {},
   "source": [
    "***"
   ]
  },
  {
   "cell_type": "markdown",
   "metadata": {},
   "source": [
    "### Príklady použitia podmienok"
   ]
  },
  {
   "cell_type": "markdown",
   "metadata": {},
   "source": [
    "Výraz je vždy vyhodnotený ako True/False a podľa výsledku sa vykonáva príslušná časť kódu."
   ]
  },
  {
   "cell_type": "code",
   "execution_count": null,
   "metadata": {},
   "outputs": [],
   "source": [
    "x = 4\n",
    "if x > 0:\n",
    "    print(\"positive\")\n",
    "else:\n",
    "    print(\"negative\")"
   ]
  },
  {
   "cell_type": "code",
   "execution_count": null,
   "metadata": {},
   "outputs": [],
   "source": [
    "x = 4\n",
    "if x > 0:\n",
    "    print(\"positive\")\n",
    "elif x == 0:\n",
    "    print(\"zero\")\n",
    "else:\n",
    "    print(\"negative\")"
   ]
  },
  {
   "cell_type": "markdown",
   "metadata": {},
   "source": [
    "***"
   ]
  },
  {
   "cell_type": "markdown",
   "metadata": {},
   "source": [
    "### Vysvetlenie pojmov"
   ]
  },
  {
   "cell_type": "markdown",
   "metadata": {},
   "source": [
    "Pri podmienkach hovoríme o vetvení programu. Každá podmienka vytvorí vetvu programu, ktorý sa vykoná iba v prípade jej splnenia. Každá táto \"vetva\" tvorí <b>blok</b> kódu. "
   ]
  },
  {
   "cell_type": "markdown",
   "metadata": {},
   "source": [
    "V tomto príklade je dôležité pravidlo zápisu kódu v Pythone. Dôležitý prvok je odsadzovanie. \n",
    "<br>\n",
    "Prvé použitie odsadzovania, s ktorým sa v lekciách stretávame je pri podmienkach. Príkazy, ktoré sa majú vykonať po splnení podmienky sú odsadené. Znamená to, že tieto príkazy spolu tvoria blok kódu.\n",
    "<br>\n",
    " "
   ]
  },
  {
   "cell_type": "markdown",
   "metadata": {},
   "source": [
    "<div class=\"alert alert-block alert-info\">\n",
    "<b>Blok kódu</b> je kód, ktorý sa má vykonať ako jeden celok. V Pythone je blok kódu vždy rovnako odsadený.\n",
    "</div>"
   ]
  },
  {
   "cell_type": "markdown",
   "metadata": {},
   "source": [
    "<div class=\"alert alert-block alert-info\">\n",
    "Blok kódu určuje aj platnosť premenných, podľa toho, kde boli definované.\n",
    "<br>\n",
    "Premenná, ktorá má platnosť v aktuálnom bloku. Ide o väčšinu premenných, ktoré sú definované. Platnosť má premenná od toho riadku, kde je definovaná a je možné k nej pristupovať v tom bloku kde sa nachádza, ako aj v jemu vnorených blokoch. \n",
    "</div>"
   ]
  },
  {
   "cell_type": "code",
   "execution_count": null,
   "metadata": {},
   "outputs": [],
   "source": [
    "final_value = 42\n",
    "if final_value > 30:\n",
    "    print(final_value)\n"
   ]
  },
  {
   "cell_type": "markdown",
   "metadata": {},
   "source": [
    "K premennej, ktorá je definovaná v nejakom bloku, nie je možné pristúpiť z jej nadradenému bloku."
   ]
  },
  {
   "cell_type": "code",
   "execution_count": null,
   "metadata": {},
   "outputs": [],
   "source": [
    "final_value = 42\n",
    "if final_value > 30:\n",
    "    print(final_value)\n",
    "else:\n",
    "    total_value = 15\n",
    "print(total_value)"
   ]
  },
  {
   "cell_type": "markdown",
   "metadata": {},
   "source": [
    "***"
   ]
  },
  {
   "cell_type": "markdown",
   "metadata": {},
   "source": [
    "### Úlohy na precvičenie"
   ]
  },
  {
   "cell_type": "markdown",
   "metadata": {},
   "source": [
    "<div class=\"alert alert-block alert-success\">\n",
    "<b>Triedenie čísel - úlohu zo začiatku lekcie naprogramujme</b> \n",
    "<br>\n",
    "Od uživateľa dostaneme číslo, o ktorom chceme zistiť nejaké vlastnosti. Pokiaľ číslo spĺňa vlastnosť, chceme o tom poslať informáciu.\n",
    "\n",
    "- je číslo párne?\n",
    "- je deliteľné 7 bez zvyšku?\n",
    "- je väčšie ako 100?\n",
    "- je záporné?\n",
    "</div>"
   ]
  },
  {
   "cell_type": "code",
   "execution_count": null,
   "metadata": {},
   "outputs": [],
   "source": [
    "\n",
    "\n"
   ]
  }
 ],
 "metadata": {
  "kernelspec": {
   "display_name": "Python 3",
   "language": "python",
   "name": "python3"
  },
  "language_info": {
   "codemirror_mode": {
    "name": "ipython",
    "version": 3
   },
   "file_extension": ".py",
   "mimetype": "text/x-python",
   "name": "python",
   "nbconvert_exporter": "python",
   "pygments_lexer": "ipython3",
   "version": "3.12.2"
  }
 },
 "nbformat": 4,
 "nbformat_minor": 2
}
