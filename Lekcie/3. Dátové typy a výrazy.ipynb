{
 "cells": [
  {
   "cell_type": "markdown",
   "metadata": {},
   "source": [
    "# Dátové typy"
   ]
  },
  {
   "cell_type": "markdown",
   "metadata": {},
   "source": [
    "### Vysvetlenie pojmov"
   ]
  },
  {
   "cell_type": "markdown",
   "metadata": {},
   "source": [
    "Dátové typy hovoria o tom, s akým druhom informácií pracujeme. V tejto lekcii sa zameráme na základné typy, ktoré vyjadrujú typické druhy informácií s ktorými sa stretávate."
   ]
  },
  {
   "cell_type": "markdown",
   "metadata": {},
   "source": [
    "Delenie dátových typov:\n",
    "- zloženie\n",
    "    - jednoduché\n",
    "    - zložené\n",
    "\n",
    "- ordinalita\n",
    "    - ordinálne\n",
    "    - neordinálne"
   ]
  },
  {
   "cell_type": "markdown",
   "metadata": {},
   "source": [
    "<div class=\"alert alert-block alert-info\">\n",
    "<b>Jednoduché dátové typy:</b>\n",
    "<br>\n",
    "<b>integer, float</b>\n",
    "<br>\n",
    "<b>string</b>\n",
    "<br>\n",
    "<b>boolean</b>\n",
    "</div>"
   ]
  },
  {
   "cell_type": "markdown",
   "metadata": {},
   "source": [
    "<b>int</b> - integer, celé číslo\n",
    "<br>\n",
    "<b>float</b> - reálne číslo\n",
    "<br>\n",
    "<b>str</b> - string, reťazec, alebo text, ktorý je definovaný v úvodzovkách, alebo apostrofoch\n",
    "<br>\n",
    "<b>bool</b> - boolean, pravdivostná hodnota, ktorá môže byť True alebo False"
   ]
  },
  {
   "cell_type": "markdown",
   "metadata": {},
   "source": [
    "Pomáhajú vyjadrovať rôzne typy informácií, s ktorými chceme pracovať. Python nepotrebuje aby sme špecifikovali s ktorým dátovým typom pracujeme. Ale nedovolľuje vykonať operácie, ktoré pre daný dátový typ nie sú špecifikované. \n",
    "<br>\n",
    "<br>\n",
    "<br>\n",
    "Pokiaľ chceme zdôrazniť, o aký dátový typ sa jedná, pred hodnotu dáme názov dátového typu a samotnú hodnotu do zátvoriek."
   ]
  },
  {
   "cell_type": "markdown",
   "metadata": {},
   "source": [
    "##### Syntax"
   ]
  },
  {
   "cell_type": "code",
   "execution_count": null,
   "metadata": {},
   "outputs": [],
   "source": [
    "x = int(5)\n",
    "y = float(5)\n",
    "z = str(5)\n",
    "print(x, y, z)"
   ]
  },
  {
   "cell_type": "markdown",
   "metadata": {},
   "source": [
    "Python má vstavanú funkciu, ktorá vie zistiť dátový typ premennej:\n",
    "<br>\n",
    "<br>\n",
    "type(premenná)"
   ]
  },
  {
   "cell_type": "code",
   "execution_count": null,
   "metadata": {},
   "outputs": [],
   "source": [
    "x = 5\n",
    "print(type(x))"
   ]
  },
  {
   "cell_type": "markdown",
   "metadata": {},
   "source": [
    "Každý dátový typ môže využívať nejaké operácie. Samozrejme všetky aritmetické operácie, ktoré budú spomínané nižšie, môžu byť vykonané s číselnými dátovými typmi. Niektoré aritmetické operácie môžu byť vykonané aj s reťazcovými dátovými typmi."
   ]
  },
  {
   "cell_type": "markdown",
   "metadata": {},
   "source": [
    "Pokiaľ chceme zmeniť dátový typ nejakej hodnoty, je možné použiť pretypovanie. Ide o zmenu dátového typu nejakej hodnoty. Typicky chceme z čísla spraviť text, alebo naopak. Keď pretypujeme hodnotu, dáme ju do okrúhlych zátovriek a pred zátvorkou napíšeme dátový typ, do ktorého pretypujeme."
   ]
  },
  {
   "cell_type": "code",
   "execution_count": null,
   "metadata": {},
   "outputs": [],
   "source": [
    "x = 5\n",
    "print(type(x))\n",
    "x = str(5)\n",
    "print(type(x))"
   ]
  },
  {
   "cell_type": "markdown",
   "metadata": {},
   "source": [
    "Typické použitie pretypovania je pri funkcii input(). Táto funkcia totiž vždy vráti hodnotu string. Pokiaľ ale chceme od uživateľa číslo, musíme návratovú hodnotu funkcie pretypovať."
   ]
  },
  {
   "cell_type": "code",
   "execution_count": null,
   "metadata": {},
   "outputs": [],
   "source": [
    "x = int(input('Phone number'))\n",
    "print(type(x))\n",
    "print(x)\n"
   ]
  },
  {
   "cell_type": "markdown",
   "metadata": {},
   "source": [
    "***"
   ]
  },
  {
   "cell_type": "markdown",
   "metadata": {},
   "source": [
    "### Úlohy na precvičenie"
   ]
  },
  {
   "cell_type": "markdown",
   "metadata": {},
   "source": [
    "<div class=\"alert alert-block alert-success\">\n",
    "Vytvorte premennú a postupne jej priradzujte hodnoty rôznych dátových typov. Vypisujte hodnoty premennej a všímajte si spôsob výpisu.\n",
    "</div>"
   ]
  },
  {
   "cell_type": "markdown",
   "metadata": {},
   "source": [
    "***"
   ]
  },
  {
   "cell_type": "markdown",
   "metadata": {},
   "source": [
    "# Operátory a výrazy"
   ]
  },
  {
   "cell_type": "markdown",
   "metadata": {},
   "source": [
    "### Vysvetlenie pojmov"
   ]
  },
  {
   "cell_type": "markdown",
   "metadata": {},
   "source": [
    "Tak ako v bežnom živote, aj v programovaní potrebujeme vyhodnocovať situácie. Základný prvok, ktorý na to využívame sú výrazy. Tie určite poznáte z matematiky, ako nejakú postupnosť operandov a operátorov. V prípade programovania sa pri operandoch rozprávame o premenných, konštantách a literáloch. Pri operátoroch máme na mysli aritmetické operátory a logické operátory."
   ]
  },
  {
   "cell_type": "markdown",
   "metadata": {},
   "source": [
    "Samozrejme ide o všetky typické aritmetické operátory:\n",
    "- +/-\n",
    "- \\*\n",
    "- /\n",
    "- // - celočíselné delenie\n",
    "- % - modulo, zvyšok po delení\n",
    "- ** - umocňovanie\n",
    "<br>\n",
    "<br>\n",
    "A ďalej aj o operátory porovnávania:\n",
    "- == - rovná sa\n",
    "- != - nerovná sa\n",
    "- \\>\n",
    "- <\n",
    "- \\>=\n",
    "- <=\n",
    "<br>\n",
    "<br>\n",
    "\n",
    "Okrem operátorov je možné používať aj zátvorky, ktorými sa manipuluje prednosť operátorov. V Pythone sa používajú iba okrúhle zátvorky. Pokiaľ je viacero zátvoriek vnorených, aj vtedy sa používajú výhradne okrúhle zátvorky.\n"
   ]
  },
  {
   "cell_type": "markdown",
   "metadata": {},
   "source": [
    "Aritmetické a aj porovnávacie operátory môžu byť použité s ľubovoľnými číselnými hodnotami. Takisto môžu byť použité aj s premennými, ktoré obsahujú číselné hodnoty."
   ]
  },
  {
   "cell_type": "markdown",
   "metadata": {},
   "source": [
    "***"
   ]
  },
  {
   "cell_type": "markdown",
   "metadata": {},
   "source": [
    "### Príklady použitia operátorov"
   ]
  },
  {
   "cell_type": "markdown",
   "metadata": {},
   "source": [
    "Vyskúšajte si jednotlivé operátory a či sa správajú tak, ako by ste čakali."
   ]
  },
  {
   "cell_type": "code",
   "execution_count": null,
   "metadata": {},
   "outputs": [],
   "source": [
    "x = 1 + 2\n",
    "print(x)"
   ]
  },
  {
   "cell_type": "code",
   "execution_count": null,
   "metadata": {},
   "outputs": [],
   "source": [
    "y = (33 - 12) * 4\n",
    "print(y)"
   ]
  },
  {
   "cell_type": "code",
   "execution_count": null,
   "metadata": {},
   "outputs": [],
   "source": [
    "z = 58 / 9\n",
    "print(z)"
   ]
  },
  {
   "cell_type": "markdown",
   "metadata": {},
   "source": [
    "***"
   ]
  },
  {
   "cell_type": "markdown",
   "metadata": {},
   "source": [
    "### Úlohy na precvičenie"
   ]
  },
  {
   "cell_type": "markdown",
   "metadata": {},
   "source": [
    "<div class=\"alert alert-block alert-success\">\n",
    "Vyskúšajte si operátory delenia, modulo, umocňovania a sledujte, či sa správajú, ako by ste čakali. Výrazy môžete písať priamo do funkcie print().\n",
    "</div>"
   ]
  },
  {
   "cell_type": "code",
   "execution_count": null,
   "metadata": {},
   "outputs": [],
   "source": [
    "# Riešenie"
   ]
  },
  {
   "cell_type": "markdown",
   "metadata": {},
   "source": [
    "<div class=\"alert alert-block alert-success\">\n",
    "Porovnajte čísla 4 a 65 pomocou operátorov porovnania. Aké výsledky dostávate?\n",
    "</div>"
   ]
  },
  {
   "cell_type": "code",
   "execution_count": null,
   "metadata": {},
   "outputs": [],
   "source": [
    "# Riešenie"
   ]
  },
  {
   "cell_type": "markdown",
   "metadata": {},
   "source": [
    "***"
   ]
  },
  {
   "cell_type": "markdown",
   "metadata": {},
   "source": [
    "### Vysvetlenie pojmov"
   ]
  },
  {
   "cell_type": "markdown",
   "metadata": {},
   "source": [
    "Niektoré aritmetické operácie je možné vykonávať aj s reťazcami:\n",
    "- konkatenácia - spájanie textu"
   ]
  },
  {
   "cell_type": "code",
   "execution_count": null,
   "metadata": {},
   "outputs": [],
   "source": [
    "x = \"he\"\n",
    "y = \"llo\"\n",
    "print(x + y)"
   ]
  },
  {
   "cell_type": "markdown",
   "metadata": {},
   "source": [
    "- násobenie textu"
   ]
  },
  {
   "cell_type": "code",
   "execution_count": null,
   "metadata": {},
   "outputs": [],
   "source": [
    "x = \"ha\"\n",
    "print(x * 5)"
   ]
  },
  {
   "cell_type": "markdown",
   "metadata": {},
   "source": [
    "Výrazy sú dôležitá programátorská konštrukcia, na ktorej sa stavajú programy a riešenia. Je dôležité naučiť sa ich zapisovať presne tak, ako chceme aby fungovali. Častá programátorská chyba je nezhoda medzi reálnym zápisom a myšlienkou, ktorú chceme vyjadriť."
   ]
  },
  {
   "cell_type": "markdown",
   "metadata": {},
   "source": [
    "***"
   ]
  }
 ],
 "metadata": {
  "kernelspec": {
   "display_name": "Python 3",
   "language": "python",
   "name": "python3"
  },
  "language_info": {
   "codemirror_mode": {
    "name": "ipython",
    "version": 3
   },
   "file_extension": ".py",
   "mimetype": "text/x-python",
   "name": "python",
   "nbconvert_exporter": "python",
   "pygments_lexer": "ipython3",
   "version": "3.12.2"
  }
 },
 "nbformat": 4,
 "nbformat_minor": 2
}
