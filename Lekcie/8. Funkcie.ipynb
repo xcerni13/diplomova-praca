{
 "cells": [
  {
   "cell_type": "markdown",
   "metadata": {},
   "source": [
    "# Funkcie"
   ]
  },
  {
   "cell_type": "markdown",
   "metadata": {},
   "source": [
    "### Úvodná úloha"
   ]
  },
  {
   "cell_type": "markdown",
   "metadata": {},
   "source": [
    "<div class=\"alert alert-block alert-success\">\n",
    "V domácnosti máte robota, ktorý vám pomáha upratovať. Je však potrebné dávať mu pokyny na každý úkon (utri prach, povysávaj, ...). Spíšte návod, podľa ktorého môže upratať každú miestnosť. Vy nebudete musieť každý pokyn opakovať v každej miestnosti a robot bude môcť rýchlejšie pokyny plniť.\n",
    "</div>"
   ]
  },
  {
   "cell_type": "markdown",
   "metadata": {},
   "source": [
    "***"
   ]
  },
  {
   "cell_type": "markdown",
   "metadata": {},
   "source": [
    "### Vysvetlenie pojmov"
   ]
  },
  {
   "cell_type": "markdown",
   "metadata": {},
   "source": [
    "V prvých lekciách sme sa zaoberali funkciami <b>print()</b> a <b>input()</b>. Ide o vstavané funkcie jazyka Python. Python má veľkú knižnicu vstavaných funkcií. To znamená, že programátor môže bez krokov navyše zavolať funkciu jej menom a využiť ju. "
   ]
  },
  {
   "cell_type": "markdown",
   "metadata": {},
   "source": [
    "<div class=\"alert alert-block alert-info\">\n",
    "Funkcia je kus kódu, ktorý je možne opakovane použiť v programe.\n",
    "</div>"
   ]
  },
  {
   "cell_type": "markdown",
   "metadata": {},
   "source": [
    "Okrem vstavaných funkcií, je možné vytvárať vlastné funkcie. \n",
    "<br>\n",
    "<b>Funkcia</b> má meno, ktorým je definovaná a potom je pomocou tohto mena volaná. Po zavolaní funkcie, je vykonaný blok kódu, ktorý bol definovaný. Pred zavolaním funkcie je dôležité jej definovanie.\n"
   ]
  },
  {
   "cell_type": "markdown",
   "metadata": {},
   "source": [
    "<div class=\"alert alert-block alert-info\">\n",
    "Funkcia je definovaná identifikátorom, parametrami, a blokom kódu, ktorý sa má vykonať po zavolaní funkcie. Môže mať aj návratovú hodnotu.\n",
    "</div>"
   ]
  },
  {
   "cell_type": "markdown",
   "metadata": {},
   "source": [
    "##### Syntax"
   ]
  },
  {
   "cell_type": "code",
   "execution_count": null,
   "metadata": {},
   "outputs": [],
   "source": [
    "def funkcia():\n",
    "    prikazy\n",
    "    return 0\n"
   ]
  },
  {
   "cell_type": "markdown",
   "metadata": {},
   "source": [
    "<div class=\"alert alert-block alert-info\">\n",
    "Na volanie funkcie sa používa jej identifikátor.\n",
    "</div>"
   ]
  },
  {
   "cell_type": "code",
   "execution_count": null,
   "metadata": {},
   "outputs": [],
   "source": [
    "def funkcia():\n",
    "    prikazy\n",
    "    return 0\n",
    "\n",
    "#zavolanie funkcie\n",
    "funkcia()"
   ]
  },
  {
   "cell_type": "markdown",
   "metadata": {},
   "source": [
    "- <b>def</b> je kľúčové slovo, ktoré označuje začiatok definície funkcie.\n",
    "\n",
    "- nasleduje <b>identifikátor funkcie</b>, ktoré podlieha rovnakým pravidlám ako pri premenných.\n",
    "\n",
    "- za menom funkcie sa nachádzajú <b>okrúhle zátvorky a dvojbodka</b>.\n",
    "- všetky príkazy patriace do bloku funkcie musia byť odsadené, ako je pravidlom v Pythone.\n",
    "- ako posledný príkaz sa posiela <b>návratová hodnota</b> pomocou kľúčového slova <b>return</b> a následne hodnotou, ktorú funkcia vráti pri jej zavolaní, hodnota môže nadobudnúť ľubovoľný dátový typ."
   ]
  },
  {
   "cell_type": "markdown",
   "metadata": {},
   "source": [
    "***"
   ]
  },
  {
   "cell_type": "markdown",
   "metadata": {},
   "source": [
    "### Úlohy na precvičenie"
   ]
  },
  {
   "cell_type": "markdown",
   "metadata": {},
   "source": [
    "<div class=\"alert alert-block alert-success\">\n",
    "Napíš funkciu, ktorá vypíše upozornenie o prekročení rýchlosti. Uživateľ zadá číslo, pokiaľ číslo presahuje vami zadanú hranicu, vypíšte upozornenie.\n",
    "</div>"
   ]
  },
  {
   "cell_type": "markdown",
   "metadata": {},
   "source": [
    "<div class=\"alert alert-block alert-success\">\n",
    "Napíš funkciu, ktorá od uživateľa vezme 2 čísla, porovná ich a väčšie z nich vypíše.\n",
    "</div>"
   ]
  },
  {
   "cell_type": "markdown",
   "metadata": {},
   "source": [
    "***"
   ]
  },
  {
   "cell_type": "markdown",
   "metadata": {},
   "source": [
    "### Vysvetlenie pojmov"
   ]
  },
  {
   "cell_type": "markdown",
   "metadata": {},
   "source": [
    "<div class=\"alert alert-block alert-success\">\n",
    "Robot z prvej úlohy dokáže meniť čistiaci prostriedok, ktorý používa pri každom upratovaní. Prepíšte funkciu z prvej úlohy tak, aby ste mu pri príkaze <b>uprac</b> zadali čistiaci prostriedok a on ho použil.\n",
    "</div>"
   ]
  },
  {
   "cell_type": "markdown",
   "metadata": {},
   "source": [
    "Funkcia môže mať takzvané <b>parametre</b>. Ide o vstupné dáta, ktoré posielame funkcii pri jej zavolaní. Funkcia môže následne s týmito hodnotami pracovať. Formálne parametre je potrebné definovať pri definovaní funkcie, majú svoje meno, ktorým potom môžeme pracovať s hodnotami v rámci funkcie. Keď je funkcia zavolaná, na miesto parametrov sa dosadia konkrétne hodnoty a tie sa nazývajú skutočné parametre.\n"
   ]
  },
  {
   "cell_type": "markdown",
   "metadata": {},
   "source": [
    "##### Syntax"
   ]
  },
  {
   "cell_type": "code",
   "execution_count": null,
   "metadata": {},
   "outputs": [],
   "source": [
    "def funkcia(parameter1, parameter2):\n",
    "    prikazy\n",
    "    return 0"
   ]
  },
  {
   "cell_type": "markdown",
   "metadata": {},
   "source": [
    "Keď voláme samotnú funkciu, vždy je potrebné jej zavolanie s parametrami - pokiaľ sú nejaké definované. "
   ]
  },
  {
   "cell_type": "code",
   "execution_count": null,
   "metadata": {},
   "outputs": [],
   "source": [
    "#zavolanie funkcie\n",
    "argument1 = 1\n",
    "argument2 = 2\n",
    "funkcia(argument1, argument2)"
   ]
  },
  {
   "cell_type": "markdown",
   "metadata": {},
   "source": [
    "Definovanie funkcie a jej následné zavolanie môže vyzerať takto:"
   ]
  },
  {
   "cell_type": "code",
   "execution_count": 1,
   "metadata": {},
   "outputs": [
    {
     "name": "stdout",
     "output_type": "stream",
     "text": [
      "3\n"
     ]
    },
    {
     "data": {
      "text/plain": [
       "0"
      ]
     },
     "execution_count": 1,
     "metadata": {},
     "output_type": "execute_result"
    }
   ],
   "source": [
    "def funkcia(parameter1, parameter2):\n",
    "    print(parameter1 + parameter2)\n",
    "    return 0\n",
    "\n",
    "argument1 = 1\n",
    "argument2 = 2\n",
    "funkcia(argument1, argument2)"
   ]
  },
  {
   "cell_type": "markdown",
   "metadata": {},
   "source": [
    "***"
   ]
  },
  {
   "cell_type": "markdown",
   "metadata": {},
   "source": [
    "### Úlohy na precvičenie"
   ]
  },
  {
   "cell_type": "markdown",
   "metadata": {},
   "source": [
    "<div class=\"alert alert-block alert-success\">\n",
    "Napíš funkciu, ktorá vypíše upozornenie o prekročení rýchlosti, pokiaľ číslo zadané uživateľom prekračuje hranicu. Funkcia dostane ako argument rýchlosť a vyhodnotí, či má vypísať upozornenie.\n",
    "</div>"
   ]
  },
  {
   "cell_type": "markdown",
   "metadata": {},
   "source": [
    "<div class=\"alert alert-block alert-success\">\n",
    "Napíš funkciu, ktorá dostane ako argumenty 2 čísla, porovná ich a väčšie z nich vypíše.\n",
    "</div>"
   ]
  },
  {
   "cell_type": "markdown",
   "metadata": {},
   "source": [
    "***"
   ]
  },
  {
   "cell_type": "markdown",
   "metadata": {},
   "source": [
    "### Vysvetlenie pojmov"
   ]
  },
  {
   "cell_type": "markdown",
   "metadata": {},
   "source": [
    "Pri téme funkcií je potrebné sa vrátiť k premenným.\n",
    "Vždy keď pracujeme s premennými, je dôležité vedieť, kde sú definované a teda, v ktorom bloku sú platné. Pri funkciách je tento koncept takisto platný. Okrem toho tu je však aj nový koncept, lokálne a globálne premenné.\n",
    "<br>\n",
    "<br>\n",
    "<b>Lokálna premenná</b> je definovaná v tele funkcie. Nie je možné k nej pristúpiť z vonka, iba v danej funkcii. \n",
    "<br>\n",
    "<br>\n",
    "<b>Globálna premenná</b> je definovaná mimo hociakej funkcie, väčšinou priamo na začiatku programu, a je dostupná vo všetkých blokoch a funkciách. \n",
    "<br>\n",
    "<br>\n",
    "Je dobrým pravidlom neopakovať mená pre lokálne a globálne premenné.\n",
    "Pokiaľ má lokálna premenná rovnaké meno ako nejaká globálna premenná, v rámci funkcie sa pod tým menom vždy bude myslieť lokálna premenná. Keď vtedy chceme odkazovať na globálnu premennú, musíme použiť kľúčové slovo global pred menom premennej."
   ]
  }
 ],
 "metadata": {
  "kernelspec": {
   "display_name": "Python 3",
   "language": "python",
   "name": "python3"
  },
  "language_info": {
   "codemirror_mode": {
    "name": "ipython",
    "version": 3
   },
   "file_extension": ".py",
   "mimetype": "text/x-python",
   "name": "python",
   "nbconvert_exporter": "python",
   "pygments_lexer": "ipython3",
   "version": "3.12.2"
  }
 },
 "nbformat": 4,
 "nbformat_minor": 2
}
