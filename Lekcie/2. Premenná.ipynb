{
 "cells": [
  {
   "cell_type": "markdown",
   "metadata": {},
   "source": [
    "# Premenná"
   ]
  },
  {
   "cell_type": "markdown",
   "metadata": {},
   "source": [
    "### Úvodná úloha"
   ]
  },
  {
   "cell_type": "markdown",
   "metadata": {},
   "source": [
    "<div class=\"alert alert-block alert-success\">\n",
    "Vypočítajte 234 x 891 x 93 x 117 x 508 x 634, vypíšte medzivýsledky medzi každým násobením a celkový výsledok.\n",
    "</div>"
   ]
  },
  {
   "cell_type": "markdown",
   "metadata": {},
   "source": [
    "***"
   ]
  },
  {
   "cell_type": "markdown",
   "metadata": {},
   "source": [
    "### Vysvetlenie pojmov"
   ]
  },
  {
   "cell_type": "markdown",
   "metadata": {},
   "source": [
    "<div class=\"alert alert-block alert-info\">\n",
    "Premenná je pamäťové miesto, ktoré má pridelený identifikátor, a zároveň môže ukladať informáciu.\n",
    "</div>"
   ]
  },
  {
   "cell_type": "markdown",
   "metadata": {},
   "source": [
    "Často sa nám stane, že potrebujeme uložiť nejakú hodnotu, alebo informáciu na neskôr. Na tento účel nám poslúžia v programovaní premenné. \n",
    "Premenná je malé úložisko, kde si vieme odložiť nejakú hodnotu, napríklad číslo, alebo text. Premenná musí mať meno, aby sme vedeli, kde sme si našu informáciu odložili. Toto meno sa nazýva indetifikátor a existujú nejaké pravidlá a obmedzenia, ako može vyzerať."
   ]
  },
  {
   "cell_type": "markdown",
   "metadata": {},
   "source": [
    "##### Syntax"
   ]
  },
  {
   "cell_type": "markdown",
   "metadata": {},
   "source": [
    "\n",
    "<div class=\"alert alert-block alert-info\">\n",
    "identifikátor = hodnota\n",
    "</div>"
   ]
  },
  {
   "cell_type": "markdown",
   "metadata": {},
   "source": [
    "<div class=\"alert alert-block alert-info\">\n",
    "Je dôležité všimnúť si znak <b>=</b>. V Pythone tento znak neznamená rovnosť, ale priradenie hodnoty. \n",
    "</div>"
   ]
  },
  {
   "cell_type": "markdown",
   "metadata": {},
   "source": [
    "Premenná je miesto v pamäti, kde môže byť uložená hodnota. Táto hodnota môže byť neskôr z pamäti prečítaná a využitá. Premenná má meno a hodnotu."
   ]
  },
  {
   "cell_type": "markdown",
   "metadata": {},
   "source": [
    "##### Príklady použitia"
   ]
  },
  {
   "cell_type": "markdown",
   "metadata": {},
   "source": [
    "\n",
    "premenna = 3\n",
    "<br>\n",
    "variable = 42.59\n",
    "<br>\n",
    "var_2 = True\n",
    "<br>\n",
    "varName = \"hello\""
   ]
  },
  {
   "cell_type": "markdown",
   "metadata": {},
   "source": [
    "Obmedzenia pre identifikároty:\n",
    "- môže obsahovať iba znaky A-Z, a-z, 0-9 a _\n",
    "- nemôže začínať číslom\n",
    "- sú case-sensitive - záleží na veľkosti písmen\n",
    "- nemôže byť žiadne kľúčové slovo"
   ]
  },
  {
   "cell_type": "code",
   "execution_count": null,
   "metadata": {},
   "outputs": [],
   "source": [
    "vek = 34"
   ]
  },
  {
   "cell_type": "markdown",
   "metadata": {},
   "source": [
    "<div class=\"alert alert-block alert-info\">\n",
    "<b>identifikátor</b> - meno premennej\n",
    "<br>\n",
    "<b>priradenie</b> - do premennej priradzuje hodnotu, prepojenie identifikátora s hodnotou\n",
    "<br>\n",
    "<b>hodnota</b> - ukladaná informácia\n",
    "</div>"
   ]
  },
  {
   "cell_type": "markdown",
   "metadata": {},
   "source": [
    "Premenné sú základným kameňom programovania. Táto konštrukcia je využívaná všade a bez nej nie je možné efektívne programovať. Umožňuje pracovať keď nie je vopred jasné, akú hodnotu budeme potrebovať. Pre algoritmy je premenná dôležitá, keďže snahou pri tvorbe algoritmov je hľadať všeobecné riešenia. Práve v týchto situáciách je vhodné využiť premenné."
   ]
  },
  {
   "cell_type": "markdown",
   "metadata": {},
   "source": [
    "S premennými je možné manipulovať rovnako, ako sa pracuje s konkrétnymi hodnotami. Takže pri číslených hodnotách je možné pri premennej používať aritmetické operátory, a podobne."
   ]
  },
  {
   "cell_type": "code",
   "execution_count": null,
   "metadata": {},
   "outputs": [],
   "source": [
    "delenec = 34\n",
    "delitel = 2\n",
    "podiel = delenec / delitel\n",
    "print(podiel)"
   ]
  },
  {
   "cell_type": "markdown",
   "metadata": {},
   "source": [
    "<div class=\"alert alert-block alert-info\">\n",
    "Funkcia <b>print()</b> môže prijímať ako parameter aj premenné. Vtedy vypíše ich obsah.\n",
    "</div>"
   ]
  },
  {
   "cell_type": "code",
   "execution_count": null,
   "metadata": {},
   "outputs": [],
   "source": [
    "name = \"Andrew\"\n",
    "print(name)\n",
    "name = 57\n",
    "print(name + 5)"
   ]
  },
  {
   "cell_type": "markdown",
   "metadata": {},
   "source": [
    "***"
   ]
  },
  {
   "cell_type": "markdown",
   "metadata": {},
   "source": [
    "### Úlohy na precvičenie"
   ]
  },
  {
   "cell_type": "markdown",
   "metadata": {},
   "source": [
    "<div class=\"alert alert-block alert-success\">\n",
    "Napíš program, ktorý pomocou jednej premennej vypíše 3 rôzne čísla.\n",
    "</div>"
   ]
  },
  {
   "cell_type": "markdown",
   "metadata": {},
   "source": [
    "<div class=\"alert alert-block alert-success\">\n",
    "Napíš program, ktorý splní úvodnú úlohu. \n",
    "</div>"
   ]
  },
  {
   "cell_type": "markdown",
   "metadata": {},
   "source": [
    "<div class=\"alert alert-block alert-success\">\n",
    "Vytvor 2 premenné, ktoré budú obsahovať číselné hodnoty. S týmito premennými sprav operácie sčítanie, odčítanie, násobenie, delenie a vypíš výsledky jednotlivých operácií. \n",
    "</div>"
   ]
  },
  {
   "cell_type": "markdown",
   "metadata": {},
   "source": [
    "***"
   ]
  },
  {
   "cell_type": "markdown",
   "metadata": {},
   "source": [
    "# Vstupné funkcie"
   ]
  },
  {
   "cell_type": "markdown",
   "metadata": {},
   "source": [
    "### Vysvetlenie pojmov"
   ]
  },
  {
   "cell_type": "markdown",
   "metadata": {},
   "source": [
    "Naučili sme sa, ako môžme niečo vypísať z programu a tak komunikovať s uživateľom nášho programu. Ale niekedy môžme potrebovať, aby uživateľ komunikoval s nami a zdelil nám nejakú informáciu. Na to nám poslúži vstupná funkcia <b>input()</b>. Tá vykoná to, že beh programu sa dočasne zastaví, pokým uživateľ napíše niečo do terminálu a stlačí enter. Vtedy program pokračuje ďalej. Táto funkcia má návratovú hodnotu. To znamená, že po jej vykonaní vráti nejakú hodnotu. V tomto prípade je návratová hodnota práve ten obsah, ktorý uživateľ napísal. Túto hodnotu si môžme uložiť do premennej a neskôr použiť. "
   ]
  },
  {
   "cell_type": "code",
   "execution_count": null,
   "metadata": {},
   "outputs": [],
   "source": [
    "input_text = input()\n",
    "print(input_text)"
   ]
  },
  {
   "cell_type": "markdown",
   "metadata": {},
   "source": [
    "<div class=\"alert alert-block alert-info\">\n",
    "Môžete si všimnúť, že na to, aby sme uložili návratovú hodnotu používame <b>premennú</b>. \n",
    "</div>"
   ]
  },
  {
   "cell_type": "markdown",
   "metadata": {},
   "source": [
    "***"
   ]
  },
  {
   "cell_type": "markdown",
   "metadata": {},
   "source": [
    "### Úlohy na precvičenie"
   ]
  },
  {
   "cell_type": "markdown",
   "metadata": {},
   "source": [
    "<div class=\"alert alert-block alert-success\">\n",
    "Napíš program, ktorý od uživateľa čaká jeho telefónne číslo a potom ho vypíše.\n",
    "</div>"
   ]
  },
  {
   "cell_type": "markdown",
   "metadata": {},
   "source": [
    "<div class=\"alert alert-block alert-success\">\n",
    "Napíš program, ktorý od uživateľa prijme jeho meno a priezvisko. Údaje vypíše na osobitné riadky.\n",
    "</div>"
   ]
  },
  {
   "cell_type": "markdown",
   "metadata": {},
   "source": [
    "***"
   ]
  },
  {
   "cell_type": "markdown",
   "metadata": {},
   "source": [
    "### Vysvetlenie pojmov"
   ]
  },
  {
   "cell_type": "markdown",
   "metadata": {},
   "source": [
    "Okrem toho, že funkcia čaká na vstup od uživateľa, je možné, aby vypísala nejaký oznam. "
   ]
  },
  {
   "cell_type": "markdown",
   "metadata": {},
   "source": [
    "<div class=\"alert alert-block alert-info\">\n",
    "x = input('oznam')\n",
    "</div>"
   ]
  },
  {
   "cell_type": "code",
   "execution_count": 1,
   "metadata": {},
   "outputs": [
    {
     "name": "stdout",
     "output_type": "stream",
     "text": [
      "\n"
     ]
    }
   ],
   "source": [
    "user_input = input('Meno a priezvisko')\n",
    "print(user_input)"
   ]
  },
  {
   "cell_type": "markdown",
   "metadata": {},
   "source": [
    "***"
   ]
  },
  {
   "cell_type": "markdown",
   "metadata": {},
   "source": [
    "### Úlohy na precvičenie"
   ]
  },
  {
   "cell_type": "markdown",
   "metadata": {},
   "source": [
    "<div class=\"alert alert-block alert-success\">\n",
    "Do predchádzajúcich dvoch úloh doplň oznam pre uživateľa, aké informácie od neho program čaká.\n",
    "</div>"
   ]
  }
 ],
 "metadata": {
  "kernelspec": {
   "display_name": "Python 3",
   "language": "python",
   "name": "python3"
  },
  "language_info": {
   "codemirror_mode": {
    "name": "ipython",
    "version": 3
   },
   "file_extension": ".py",
   "mimetype": "text/x-python",
   "name": "python",
   "nbconvert_exporter": "python",
   "pygments_lexer": "ipython3",
   "version": "3.12.2"
  }
 },
 "nbformat": 4,
 "nbformat_minor": 2
}
