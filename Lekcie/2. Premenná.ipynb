{
 "cells": [
  {
   "cell_type": "markdown",
   "metadata": {},
   "source": [
    "# Premenná"
   ]
  },
  {
   "cell_type": "markdown",
   "metadata": {},
   "source": [
    "### Úvodná úloha"
   ]
  },
  {
   "cell_type": "markdown",
   "metadata": {},
   "source": [
    "<div class=\"alert alert-block alert-success\">\n",
    "Vypočítajte 234 x 891 x 93 x 117 x 508 x 634, vypíšte medzivýsledky medzi každým násobením a celkový výsledok.\n",
    "</div>"
   ]
  },
  {
   "cell_type": "markdown",
   "metadata": {},
   "source": [
    "***"
   ]
  },
  {
   "cell_type": "markdown",
   "metadata": {},
   "source": [
    "### Vysvetlenie pojmov"
   ]
  },
  {
   "cell_type": "markdown",
   "metadata": {},
   "source": [
    "Premenná je miesto v pamäti, kde môže byť uložená hodnota. Táto hodnota môže byť neskôr z pamäti prečítaná a využitá. Premenná má meno, a hodnotu."
   ]
  },
  {
   "cell_type": "markdown",
   "metadata": {},
   "source": [
    "##### Syntax"
   ]
  },
  {
   "cell_type": "markdown",
   "metadata": {},
   "source": [
    "\n",
    "<div class=\"alert alert-block alert-info\">\n",
    "nazov = hodnota\n",
    "</div>"
   ]
  },
  {
   "cell_type": "markdown",
   "metadata": {},
   "source": [
    "<div class=\"alert alert-block alert-info\">\n",
    "Je dôležité všimnúť si znak <b>=</b>. V Pythone tento znak neznamená rovnosť, ale priradenie hodnoty. \n",
    "</div>"
   ]
  },
  {
   "cell_type": "markdown",
   "metadata": {},
   "source": [
    "Často sa nám stane, že potrebujeme uložiť nejakú hodnotu, alebo nejakú informáciu na neskôr. Na tento účel nám poslúžia v programovaní premenné. \n",
    "Premenná je malé úložisko, kde si vieme odložiť nejakú hodnotu, napríklad číslo, alebo text. Premenná musí mať meno, aby sme vedeli, kde sme si našu informáciu odložili. Existujú nejaké pravidlá a obmedzenia pre názvy premenných."
   ]
  },
  {
   "cell_type": "markdown",
   "metadata": {},
   "source": [
    "##### Syntax"
   ]
  },
  {
   "cell_type": "markdown",
   "metadata": {},
   "source": [
    "\n",
    "<div class=\"alert alert-block alert-info\">\n",
    "premenna = 3\n",
    "<br>\n",
    "variable = 42\n",
    "<br>\n",
    "var_2 = 109\n",
    "<br>\n",
    "varName = \"hello\"\n",
    "</div>"
   ]
  },
  {
   "cell_type": "markdown",
   "metadata": {},
   "source": [
    "Obmedzenia pre názvy premenných:\n",
    "- názov musí začínať písmenom, alebo _\n",
    "- názov nemôže začínať číslom\n",
    "- názov môže obsahovať iba znaky A-Z, a-z, 0-9 a _\n",
    "- názvy premenných su case-sensitive - záleží na veľkosti písmen\n",
    "- názov nemôže byť žiadne kľúčové slovo"
   ]
  },
  {
   "cell_type": "markdown",
   "metadata": {},
   "source": [
    "V Pythone je možné meniť hodnotu premennej ľubovoľným spôsobom. V iných programovacích jazykoch môže byť obmedzenie, kedy je premennej okrem mena pridelený aj dátový typ. Vtedy môže obsahovať premenná výhradne hodnoty tohto dátového typu. V Pythone môže premenná meniť dátové typy priradzovaných hodnôt."
   ]
  },
  {
   "cell_type": "code",
   "execution_count": null,
   "metadata": {},
   "outputs": [],
   "source": [
    "vek = 34"
   ]
  },
  {
   "cell_type": "markdown",
   "metadata": {},
   "source": [
    "<div class=\"alert alert-block alert-info\">\n",
    "Funkcia <b>print()</b> môže prijímať ako parameter aj premenné. Vtedy vypíše ich obsah.\n",
    "</div>"
   ]
  },
  {
   "cell_type": "code",
   "execution_count": null,
   "metadata": {},
   "outputs": [],
   "source": [
    "name = \"Andrew\"\n",
    "print(name)\n",
    "name = 57\n",
    "print(name + 5)"
   ]
  },
  {
   "cell_type": "markdown",
   "metadata": {},
   "source": [
    "Premenné sú základným kameňom programovania. Táto konštrukcia je využívaná všade a bez nej nie je možné efektívne programovať. Umožňuje pracovať keď nie je vopred jasné, akú hodnotu budeme potrebovať. Pre algoritmy je premenná dôležitá, keďže snahou pri tvorbe algoritmov je hľadať všeobecné riešenia. Práve v týchto situáciách je vhodné využiť premenné."
   ]
  },
  {
   "cell_type": "markdown",
   "metadata": {},
   "source": [
    "S premennými je možné manipulovať rovnako, akoby ste manipulovali priamo s hodnotou, ktorá je v nej uložená. Takže pri číslených hodnotách je možné pri premennej používať aritmetické operátory, a podobne."
   ]
  },
  {
   "cell_type": "code",
   "execution_count": 1,
   "metadata": {},
   "outputs": [
    {
     "name": "stdout",
     "output_type": "stream",
     "text": [
      "17.0\n"
     ]
    }
   ],
   "source": [
    "delenec = 34\n",
    "delitel = 2\n",
    "vysledok = delenec / delitel\n",
    "print(vysledok)"
   ]
  },
  {
   "cell_type": "markdown",
   "metadata": {},
   "source": [
    "***"
   ]
  },
  {
   "cell_type": "markdown",
   "metadata": {},
   "source": [
    "### Úlohy na precvičenie"
   ]
  },
  {
   "cell_type": "markdown",
   "metadata": {},
   "source": [
    "<div class=\"alert alert-block alert-success\">\n",
    "Napíš program, ktorý pomocou jednej premennej vypíše 3 rôzne čísla.\n",
    "</div>"
   ]
  },
  {
   "cell_type": "markdown",
   "metadata": {},
   "source": [
    "<div class=\"alert alert-block alert-success\">\n",
    "Napíš program, ktorý splní úvodnú úlohu. \n",
    "</div>"
   ]
  },
  {
   "cell_type": "markdown",
   "metadata": {},
   "source": [
    "<div class=\"alert alert-block alert-success\">\n",
    "Vytvor 2 premenné, ktoré budú obsahovať číselné hodnoty. S týmito premennými sprav operácie sčítanie, odčítanie, násobenie, delenie a vypíš výsledky jednotlivých operácií. \n",
    "</div>"
   ]
  },
  {
   "cell_type": "markdown",
   "metadata": {},
   "source": [
    "***"
   ]
  },
  {
   "cell_type": "markdown",
   "metadata": {},
   "source": [
    "# Vstupné funkcie"
   ]
  },
  {
   "cell_type": "markdown",
   "metadata": {},
   "source": [
    "### Vysvetlenie pojmov"
   ]
  },
  {
   "cell_type": "markdown",
   "metadata": {},
   "source": [
    "Naučili sme sa, ako môžme niečo vypísať z programu a tak komunikovať s uživateľom nášho programu. Ale niekedy môžme potrebovať, aby uživateľ komunikoval s nami a zdelil nám nejakú informáciu. Na to nám poslúži vstupná funkcia <b>input()</b>. Tá vykoná to, že beh programu sa dočasne zastaví, pokým uživateľ napíše niečo do terminálu a stlačí enter. Vtedy program pokračuje ďalej. Táto funkcia má návratovú hodnotu. To znamená, že po jej vykonaní vráti nejakú hodnotu. V tomto prípade návratová hodnota je práve ten obsah, ktorý uživateľ napísal. Túto hodnotu si môžme uložiť do premennej a neskôr použiť. "
   ]
  },
  {
   "cell_type": "code",
   "execution_count": null,
   "metadata": {},
   "outputs": [],
   "source": [
    "input_text = input()\n",
    "print(input_text)"
   ]
  },
  {
   "cell_type": "markdown",
   "metadata": {},
   "source": [
    "<div class=\"alert alert-block alert-info\">\n",
    "Môžete si všimnúť, že na to, aby sme uložili to, čo užívateľ napísal používame <b>premennú</b>. \n",
    "</div>"
   ]
  },
  {
   "cell_type": "markdown",
   "metadata": {},
   "source": [
    "***"
   ]
  },
  {
   "cell_type": "markdown",
   "metadata": {},
   "source": [
    "### Úlohy na precvičenie"
   ]
  },
  {
   "cell_type": "markdown",
   "metadata": {},
   "source": [
    "<div class=\"alert alert-block alert-success\">\n",
    "Napíš program, ktorý od uživateľa čaká jeho telefónne číslo a potom ho vypíše.\n",
    "</div>"
   ]
  },
  {
   "cell_type": "markdown",
   "metadata": {},
   "source": [
    "<div class=\"alert alert-block alert-success\">\n",
    "Napíš program, ktorý od uživateľa prijme dve čísla. Následne tieto čísla vynásobí, vydelí a sčíta. Výsledky vypíše.\n",
    "</div>"
   ]
  },
  {
   "cell_type": "markdown",
   "metadata": {},
   "source": [
    "***"
   ]
  },
  {
   "cell_type": "markdown",
   "metadata": {},
   "source": [
    "### Vysvetlenie pojmov"
   ]
  },
  {
   "cell_type": "markdown",
   "metadata": {},
   "source": [
    "Okrem toho, že funkcia čaká na vstup od uživateľa, je možné, aby vypísala nejaký oznam. \n",
    "\n",
    "x = input('oznam')"
   ]
  },
  {
   "cell_type": "code",
   "execution_count": null,
   "metadata": {},
   "outputs": [],
   "source": [
    "user_input = input('Meno a priezvisko')\n",
    "print(user_input)"
   ]
  },
  {
   "cell_type": "markdown",
   "metadata": {},
   "source": [
    "***"
   ]
  },
  {
   "cell_type": "markdown",
   "metadata": {},
   "source": [
    "### Úlohy na precvičenie"
   ]
  },
  {
   "cell_type": "markdown",
   "metadata": {},
   "source": [
    "<div class=\"alert alert-block alert-success\">\n",
    "Do predchádzajúcich dvoch úloh doplň oznam pre uživateľa, aké informácie od neho program čaká.\n",
    "</div>"
   ]
  }
 ],
 "metadata": {
  "kernelspec": {
   "display_name": "Python 3",
   "language": "python",
   "name": "python3"
  },
  "language_info": {
   "codemirror_mode": {
    "name": "ipython",
    "version": 3
   },
   "file_extension": ".py",
   "mimetype": "text/x-python",
   "name": "python",
   "nbconvert_exporter": "python",
   "pygments_lexer": "ipython3",
   "version": "3.12.2"
  }
 },
 "nbformat": 4,
 "nbformat_minor": 2
}
