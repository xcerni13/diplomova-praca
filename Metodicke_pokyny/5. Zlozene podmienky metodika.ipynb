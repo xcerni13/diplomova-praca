{
 "cells": [
  {
   "cell_type": "markdown",
   "metadata": {},
   "source": [
    "# Zložené podmienky - metodické pokyny a odporúčania k hodine"
   ]
  },
  {
   "cell_type": "markdown",
   "metadata": {},
   "source": [
    "### Ciele lekcie"
   ]
  },
  {
   "cell_type": "markdown",
   "metadata": {},
   "source": [
    "- naučiť sa používať a písať zložené podmienky\n",
    "- práca s logickými operátormi\n",
    "- rozlišovať bloky v programe\n",
    "- precvičiť používanie podmienok\n",
    "- vyhodnocovanie aritmetických a logických výrazov\n",
    "- presný a správny zápis algoritmu"
   ]
  },
  {
   "cell_type": "markdown",
   "metadata": {},
   "source": [
    "###  Časová náročnosť"
   ]
  },
  {
   "cell_type": "markdown",
   "metadata": {},
   "source": [
    "Lekcia pozostáva z dvoch tém. Túto lekciu je vhodné rodeliť na dve vyučovacie hodiny. Tak sa vytvorí aj priestor na hlbšie pochopenie a precvičenie podmienok. Na prvej hodine je možné prejsť logické operátory a zložené podmienky. Na druhej hodine sú potom vnorené podmienky, a prípadné precvičovanie podmienok."
   ]
  },
  {
   "cell_type": "markdown",
   "metadata": {},
   "source": [
    "###  Motivácia"
   ]
  },
  {
   "cell_type": "markdown",
   "metadata": {},
   "source": [
    "V tejto lekcii sa nadväzuje na lekciu Podmienky a tento koncept sa rozširuje. Žiaci by mali ovládať podmienky, aby mohli skladať zložené podmienky. Okrem toho môžu precvičiť vetvenie kódu a zápis komplikovanejších algoritmov. Na tejto hodine je veľmi dôležitý správny zápis algoritmu, aby vyjadrili to čo chcú. Vďaka tomu tu môžu rozvíjať algoritmizáciu a algoritmické myslenie. \n",
    "\n",
    "Najdôležitejšie časti tejto lekcie je správny zápis zložených podmienok a následne vnorené podmienky. "
   ]
  },
  {
   "cell_type": "markdown",
   "metadata": {},
   "source": [
    "###  Pokyny k úvodnej úlohe"
   ]
  },
  {
   "cell_type": "markdown",
   "metadata": {},
   "source": [
    "V tejto lekcii nie je úvodná úloha, nakoľko s podmienkami sú žiaci už zoznámení. Je tu ponechaný priestor na programovanie a tréning všetkých konceptov, ktoré sa doteraz naučili."
   ]
  },
  {
   "cell_type": "markdown",
   "metadata": {},
   "source": [
    "###  Pokyny k ďalším úlohám"
   ]
  },
  {
   "cell_type": "markdown",
   "metadata": {},
   "source": [
    "V tejto lekcii je priestor na programovanie, preto aj úlohy sú viac zamerané na samotný kód a jeho opravovanie. V prípade, že úlohy nie sú postačujúce je možné rozviesť niektorú z úloh z lekcie Podmienky."
   ]
  },
  {
   "cell_type": "markdown",
   "metadata": {},
   "source": [
    "###  Riešenie úloh"
   ]
  },
  {
   "cell_type": "markdown",
   "metadata": {},
   "source": [
    "<div class=\"alert alert-block alert-success\">\n",
    "Napíšte program, v ktorom uživateľ zadá číslo. Program sa zistí, či je číslo párne a deliteľné 8 bez zvyšku. Pokiaľ je číslo nepárne, zistí či je menšie ako 78.\n",
    "</div>"
   ]
  },
  {
   "cell_type": "code",
   "execution_count": null,
   "metadata": {},
   "outputs": [],
   "source": [
    "number = input(\"Enter a number\")\n",
    "if number % 2 == 0 and number % 8 == 0:\n",
    "    print(\"Even\")\n",
    "elif number % 2 != 0:\n",
    "    if number < 78:\n",
    "        print(\"Odd and smaller than 78\")\n",
    "    else:\n",
    "        print(\"Odd and larger than 78\")"
   ]
  },
  {
   "cell_type": "markdown",
   "metadata": {},
   "source": [
    "<div class=\"alert alert-block alert-success\">\n",
    "Napíšte program, v ktorom uživateľ zadá číslo. Pokiaľ uživateľ zadal číslo menšie ako 100, zistí či je párne alebo nepárne. Pokiaľ je číslo väčšie ako 100, vynásobí ho číslom 2.\n",
    "</div>"
   ]
  },
  {
   "cell_type": "code",
   "execution_count": null,
   "metadata": {},
   "outputs": [],
   "source": [
    "number = input(\"Enter a number\")\n",
    "if number < 100:\n",
    "    if number % 2 == 0:\n",
    "        print(\"Even\")\n",
    "    else:\n",
    "        print(\"Odd\")\n",
    "else:\n",
    "    number = number * 2\n",
    "\n",
    "print(number)"
   ]
  }
 ],
 "metadata": {
  "language_info": {
   "name": "python"
  }
 },
 "nbformat": 4,
 "nbformat_minor": 2
}
