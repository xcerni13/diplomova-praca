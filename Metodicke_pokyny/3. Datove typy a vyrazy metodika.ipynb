{
 "cells": [
  {
   "cell_type": "markdown",
   "metadata": {},
   "source": [
    "# Dátové typy a výrazy - metodické pokyny a odporúčania k hodine"
   ]
  },
  {
   "cell_type": "markdown",
   "metadata": {},
   "source": [
    "### Ciele lekcie"
   ]
  },
  {
   "cell_type": "markdown",
   "metadata": {},
   "source": [
    "- precvičenie aritmetických výrazov\n",
    "- zvládnutie dátových typov\n",
    "- operátory\n",
    "- priestor na programovanie a cvičenie doterajších konceptov"
   ]
  },
  {
   "cell_type": "markdown",
   "metadata": {},
   "source": [
    "###  Časová náročnosť"
   ]
  },
  {
   "cell_type": "markdown",
   "metadata": {},
   "source": [
    "Lekciu je možné prejsť v jednej vyučovacej hodine - 45 minút. Podľa konkrítnej skupiny žiakov sa bude odlišovať počet úloh, ktoré je možné prejsť. Niektoré úlohy z lekcie je možné vynechať, takisto ako niektoré pokročilejšie koncepty. Prípadne je možnosť túto lekciu rozdeliť na dve vyučovacie hodiny, v tom prípade je potrebné väčšie množstvo úloh."
   ]
  },
  {
   "cell_type": "markdown",
   "metadata": {},
   "source": [
    "###  Motivácia"
   ]
  },
  {
   "cell_type": "markdown",
   "metadata": {},
   "source": [
    "V tejto lekcii sa nachádzajú možno nudné, ale veľmi potrebné základy, bez ktorých sa žiaci nemôžu posunúť ďalej. Preto je nutné ponechať tu dostatočný priestor na praktické stretnutie s operátormi a dátovými typmi. Všetky nasledujúce lekcie využívajú výrazy a preto je potrebné, aby s nimi žiaci mali dostatočnú skúsenosť. \n",
    "\n",
    "Aj napriek tomu, že táto lekcia neobsahuje interaktívne úlohy, je vhodné žiakov motivovať na tejto hodine. Vzbudzovať v nich záujem a motiváciu pre toto učivo pomôže ich pochopeniu látky. "
   ]
  },
  {
   "cell_type": "markdown",
   "metadata": {},
   "source": [
    "###  Pokyny k ďalším úlohám"
   ]
  },
  {
   "cell_type": "markdown",
   "metadata": {},
   "source": [
    "Úlohy sú čisto matematického charakteru, preto je vhodné skontrolovať, aby žiaci ovládali bez problémov všetky potrebné operátory. Prípadne je možné s nimi poslednú úlohu, kde sa počíta príklad prejsť po prvkoch v prípade že si neveria.\n",
    "\n",
    "Úlohy je možné riešiť priamo s hodnotami, prípadne využiť premenné a zakomponovať ich využitie. Vhodné môže byť tieto spôsoby aj kombinovať."
   ]
  },
  {
   "cell_type": "markdown",
   "metadata": {},
   "source": [
    "###  Riešenie úloh"
   ]
  },
  {
   "cell_type": "markdown",
   "metadata": {},
   "source": [
    "<div class=\"alert alert-block alert-success\">\n",
    "Vytvorte premennú a postupne jej priradzujte hodnoty rôznych dátových typov. Vypisujte hodnoty premennej a všímajte si spôsob výpisu.\n",
    "</div>"
   ]
  },
  {
   "cell_type": "code",
   "execution_count": 1,
   "metadata": {},
   "outputs": [
    {
     "name": "stdout",
     "output_type": "stream",
     "text": [
      "3\n",
      "3.14\n",
      "3.14\n"
     ]
    }
   ],
   "source": [
    "testing_variable = 3\n",
    "print(testing_variable)\n",
    "testing_variable = 3.14\n",
    "print(testing_variable)\n",
    "testing_variable = \"3.14\"\n",
    "print(testing_variable)"
   ]
  },
  {
   "cell_type": "markdown",
   "metadata": {},
   "source": [
    "<div class=\"alert alert-block alert-success\">\n",
    "Využite program z predchádzajúcej úlohy a vypíšte typy, a aj hodnoty jednotlivých hodnôt.\n",
    "</div>"
   ]
  },
  {
   "cell_type": "code",
   "execution_count": null,
   "metadata": {},
   "outputs": [],
   "source": [
    "testing_variable = 3\n",
    "print(type(testing_variable))\n",
    "testing_variable = 3.14\n",
    "print(type(testing_variable))\n",
    "testing_variable = \"3.14\"\n",
    "print(type(testing_variable))"
   ]
  },
  {
   "cell_type": "markdown",
   "metadata": {},
   "source": [
    "<div class=\"alert alert-block alert-success\">\n",
    "Využite program z predchádzajúcej úlohy a pretypujte hodnotu premennej. Pred každým pretypovaním vypíšte hodnotu a typ premennej.\n",
    "</div>"
   ]
  },
  {
   "cell_type": "code",
   "execution_count": 2,
   "metadata": {},
   "outputs": [
    {
     "name": "stdout",
     "output_type": "stream",
     "text": [
      "<class 'int'> 3\n",
      "<class 'float'> 3.0\n",
      "<class 'str'> 3.0\n"
     ]
    }
   ],
   "source": [
    "testing_variable = 3\n",
    "print(type(testing_variable), testing_variable)\n",
    "testing_variable = float(testing_variable)\n",
    "print(type(testing_variable), testing_variable)\n",
    "testing_variable = str(testing_variable)\n",
    "print(type(testing_variable), testing_variable)"
   ]
  },
  {
   "cell_type": "markdown",
   "metadata": {},
   "source": [
    "<div class=\"alert alert-block alert-success\">\n",
    "Vyskúšajte si operátory delenia, modulo, umocňovania a sledujte, či sa správajú, ako by ste čakali. Výrazy môžete písať priamo do funkcie print().\n",
    "</div>"
   ]
  },
  {
   "cell_type": "code",
   "execution_count": 3,
   "metadata": {},
   "outputs": [
    {
     "name": "stdout",
     "output_type": "stream",
     "text": [
      "0.10204081632653061\n",
      "0\n",
      "5\n",
      "25\n"
     ]
    }
   ],
   "source": [
    "print(5 / 49)\n",
    "print(5 // 49)\n",
    "print(5 % 49)\n",
    "print(5 ** 2)"
   ]
  },
  {
   "cell_type": "markdown",
   "metadata": {},
   "source": [
    "<div class=\"alert alert-block alert-success\">\n",
    "Porovnajte čísla 4 a 65 pomocou operátorov porovnania. Aké výsledky dostávate?\n",
    "</div>"
   ]
  },
  {
   "cell_type": "code",
   "execution_count": 4,
   "metadata": {},
   "outputs": [
    {
     "name": "stdout",
     "output_type": "stream",
     "text": [
      "False\n",
      "True\n",
      "False\n",
      "True\n"
     ]
    }
   ],
   "source": [
    "print(4 > 65)\n",
    "print(4 < 65)\n",
    "print(4 == 65)\n",
    "print(4 != 65)"
   ]
  },
  {
   "cell_type": "markdown",
   "metadata": {},
   "source": [
    "<div class=\"alert alert-block alert-success\">\n",
    "Vypočítajte nasledujúci príklad.\n",
    "</div>"
   ]
  },
  {
   "cell_type": "code",
   "execution_count": 6,
   "metadata": {},
   "outputs": [
    {
     "name": "stdout",
     "output_type": "stream",
     "text": [
      "3.867424242424242\n"
     ]
    }
   ],
   "source": [
    "result = (((4**3) * 8) - (3/2)) / ((2**5) + 100)\n",
    "print(result)"
   ]
  }
 ],
 "metadata": {
  "kernelspec": {
   "display_name": "Python 3",
   "language": "python",
   "name": "python3"
  },
  "language_info": {
   "codemirror_mode": {
    "name": "ipython",
    "version": 3
   },
   "file_extension": ".py",
   "mimetype": "text/x-python",
   "name": "python",
   "nbconvert_exporter": "python",
   "pygments_lexer": "ipython3",
   "version": "3.12.2"
  }
 },
 "nbformat": 4,
 "nbformat_minor": 2
}
