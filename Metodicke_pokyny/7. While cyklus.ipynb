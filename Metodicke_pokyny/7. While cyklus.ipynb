{
 "cells": [
  {
   "cell_type": "markdown",
   "metadata": {},
   "source": [
    "# While cyklus - metodické pokyny a odporúčania k hodine"
   ]
  },
  {
   "cell_type": "markdown",
   "metadata": {},
   "source": [
    "### Ciele lekcie"
   ]
  },
  {
   "cell_type": "markdown",
   "metadata": {},
   "source": [
    "- čo je while cyklus a jeho použitie\n",
    "- vytváranie algoritmov a ich zápis\n",
    "- precvičenie blokov kódu\n",
    "- vnorený cyklus"
   ]
  },
  {
   "cell_type": "markdown",
   "metadata": {},
   "source": [
    "###  Časová náročnosť"
   ]
  },
  {
   "cell_type": "markdown",
   "metadata": {},
   "source": [
    "Lekciu je možné prejsť v jednej vyučovacej hodine. "
   ]
  },
  {
   "cell_type": "markdown",
   "metadata": {},
   "source": [
    "###  Motivácia"
   ]
  },
  {
   "cell_type": "markdown",
   "metadata": {},
   "source": [
    "Žiaci spájajú vedomosti o cykloch a podmienkach. Pokiaľ v jednej z týchto oblastí majú nedostatky, tak v tejto lekcii bude potrebné, aby ich dobehli. Dôležitou časťou tejto lekcie je vytváranie podmienok pre beh cyklu. Je možné očakávať, že žiaci pri úlohách vytvoria nekonečné cykly, ako aj cykly, ktoré majú neplatnú podmienku pri prvej iterácii. Na týchto prípadoch je dobré ukázať celej skupine, ako sa týmto chybám vyhnúť.\n",
    "\n",
    "V tejto lekcii by sa mali žiaci sústrediť na vytváranie správnych podmienok. Môžu tu využiť doterajšie cvičenie správneho zápisu algoritmov. Takisto si tu posilnia práve tieto zručnosti."
   ]
  },
  {
   "cell_type": "markdown",
   "metadata": {},
   "source": [
    "###  Pokyny k úvodnej úlohe"
   ]
  },
  {
   "cell_type": "markdown",
   "metadata": {},
   "source": [
    "V tejto pohybovej úlohe je dobré, keď sa prestrieda viacero žiakov v úloge robota. Vyberte hneď na úvod vhodnú trasu, ktorou by robot mal prejsť, aby nebola príliš dlhá, ale bola na nej aspoň jedna odbočka. Pokiaľ je na ceste nejaká prekážka (napríklad projektor, alebo stolička), dodá to problémy, ktoré je potrebné vyriešiť a pomôžu rozvinutia konceptu podmienky cyklu. \n",
    "\n",
    "Úlohu je potrebné viesť tak, aby sme sa od postupných krokov dostali k jednému univerzálnemu riešeniu, podľa ktorého môže ísť ľubovoľný robot. Na začiatku budú robota navigovať pokynmi krok, otoč sa, a podobne. Druhého robota už nechajte ísť, až keď vytvoria celý postup. Tento postup môže vyzerať napríklad, 5 krokov vpred, otoč sa vľavo a štyri kroky vpred. Následne nechajte ďalšieho žiaka, ktorý e vyšší alebo nižší podľa tých istých pokynov splniť úlohu. Na ňom ukážte, že je potrebné nájsť iné pokyny, ktoré budú sedieť pre každého. Žiakov postupne navádzajte tak, aby vytvárali pokyny s podmienkami, napríklad kráčaj, kým nie si na úrovni dverí. \n",
    "\n",
    "Z tejto úlohy je hladký prechod do vysvetlenia while cyklu."
   ]
  },
  {
   "cell_type": "markdown",
   "metadata": {},
   "source": [
    "###  Pokyny k ďalším úlohám"
   ]
  },
  {
   "cell_type": "markdown",
   "metadata": {},
   "source": [
    "V tejto lekcii je vhodné riešiť úlohy spoločne so žiakmi. Vytváranie prvého while cyklu pre nich môže byť náročné, preto je potrebný dostatočný čas na riešenie úloh. \n",
    "\n",
    "Na úlohách je vhodné ukázať nekonečný cyklus, alebo vždy neplatnú podmienku, keď niektorý zo žiakov vytvorí také riešenie. So žiakmi diskutujte, prečo sa taká situácia stala a ako ju vyriešiť."
   ]
  },
  {
   "cell_type": "markdown",
   "metadata": {},
   "source": [
    "###  Príprava pred hodinou"
   ]
  },
  {
   "cell_type": "markdown",
   "metadata": {},
   "source": [
    "Pred hodinou je vhodné premyslieť priebeh úvodnej úlohy a načrtnúť žiaduce riešenie. "
   ]
  },
  {
   "cell_type": "markdown",
   "metadata": {},
   "source": [
    "###  Riešenia úloh"
   ]
  },
  {
   "cell_type": "markdown",
   "metadata": {},
   "source": [
    "<div class=\"alert alert-block alert-success\">\n",
    "Vypíšte ľubovoľnú frázu toľkokrát, ako je zadané číslo (ručne, alebo input()) a využite pri tom cyklus while. \n",
    "</div>"
   ]
  },
  {
   "cell_type": "code",
   "execution_count": null,
   "metadata": {},
   "outputs": [],
   "source": [
    "input_value = 5\n",
    "while input_value > 0:\n",
    "    print(\"Hello world\")\n",
    "    input_value = input_value - 1"
   ]
  },
  {
   "cell_type": "markdown",
   "metadata": {},
   "source": [
    "<div class=\"alert alert-block alert-success\">\n",
    "Pomocou while cyklu vypočítajte súčet čísel od 1 po n, ktoré bude zadané na začiatku programu. (ručne, alebo input())\n",
    "</div>"
   ]
  },
  {
   "cell_type": "code",
   "execution_count": null,
   "metadata": {},
   "outputs": [],
   "source": [
    "n = 5\n",
    "result = 0\n",
    "while n > 0:\n",
    "    result = result + n\n",
    "    n = n - 1"
   ]
  },
  {
   "cell_type": "markdown",
   "metadata": {},
   "source": [
    "<div class=\"alert alert-block alert-success\">\n",
    "Pomocou while cyklu vypočítajte faktoriál zadaného čísla. (ručne, alebo input())\n",
    "</div>"
   ]
  },
  {
   "cell_type": "code",
   "execution_count": null,
   "metadata": {},
   "outputs": [],
   "source": [
    "input_number = 3\n",
    "factorial = 1\n",
    "while input_number > 0:\n",
    "    factorial = factorial * input_number\n",
    "    input_number = input_number - 1\n",
    "print(factorial)"
   ]
  },
  {
   "cell_type": "markdown",
   "metadata": {},
   "source": [
    "<div class=\"alert alert-block alert-success\">\n",
    "Uživateľ zadáva čísla (input()). Keď súčet týchto čísel bude väčší alebo rovný 20, cyklus sa ukončí a vypíše celkový súčet.\n",
    "</div>"
   ]
  },
  {
   "cell_type": "code",
   "execution_count": null,
   "metadata": {},
   "outputs": [],
   "source": [
    "result = 0\n",
    "user_input = 0\n",
    "while result < 20:\n",
    "    user_input = int(input(\"Enter a number\"))\n",
    "    result = result + user_input\n",
    "print(result)"
   ]
  }
 ],
 "metadata": {
  "kernelspec": {
   "display_name": "Python 3",
   "language": "python",
   "name": "python3"
  },
  "language_info": {
   "codemirror_mode": {
    "name": "ipython",
    "version": 3
   },
   "file_extension": ".py",
   "mimetype": "text/x-python",
   "name": "python",
   "nbconvert_exporter": "python",
   "pygments_lexer": "ipython3",
   "version": "3.12.2"
  }
 },
 "nbformat": 4,
 "nbformat_minor": 2
}
