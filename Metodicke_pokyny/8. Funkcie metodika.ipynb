{
 "cells": [
  {
   "cell_type": "markdown",
   "metadata": {},
   "source": [
    "# Funkcie - metodické pokyny a odporúčania k hodine"
   ]
  },
  {
   "cell_type": "markdown",
   "metadata": {},
   "source": [
    "### Ciele lekcie"
   ]
  },
  {
   "cell_type": "markdown",
   "metadata": {},
   "source": [
    "- definovanie a volanie funkcie\n",
    "- funkcie bez parametrov a s parametrami"
   ]
  },
  {
   "cell_type": "markdown",
   "metadata": {},
   "source": [
    "###  Časová náročnosť"
   ]
  },
  {
   "cell_type": "markdown",
   "metadata": {},
   "source": [
    "Lekcia o funkciách je pripravená na dve vyučovacie hodiny. Na prvej hodine je možné prejsť funkciu bez parametrov a úlohy k tomu. Na nasledujúcej hodine je potom možné prebrať funkcie s parametrami. "
   ]
  },
  {
   "cell_type": "markdown",
   "metadata": {},
   "source": [
    "###  Motivácia"
   ]
  },
  {
   "cell_type": "markdown",
   "metadata": {},
   "source": [
    "Táto lekcia je zameraná na vytváranie podprogramov. Okrem samotného vytvárania funckií sa žiaci učia štrukturovane vytvárať program. Musia sa naučiť, ktoré časti kódu má zmysel zapísať ako funkcie. V tejto lekcii je vhodné opäť sa vrátiť k zapisovaniu algoritmov a tak rozvíjať algoritmizáciu. "
   ]
  },
  {
   "cell_type": "markdown",
   "metadata": {},
   "source": [
    "###  Pokyny k úvodnej úlohe"
   ]
  },
  {
   "cell_type": "markdown",
   "metadata": {},
   "source": [
    "V tejto úlohe je dobré opäť nechať žiakov samostatne vytvoriť riešenie a následne ho zdieľať v skupine. Je dôležité, aby ste žiakov navádzali na vytváranie funkcií, alebo konštrukciám podobným funkciám."
   ]
  },
  {
   "cell_type": "markdown",
   "metadata": {},
   "source": [
    "###  Pokyny k ďalším úlohám"
   ]
  },
  {
   "cell_type": "markdown",
   "metadata": {},
   "source": [
    "Úlohy v tejto lekcii sú zamerané priamo na tréning vytvárania funkcií. Zároveň funkcionalita týchto podprogramov je veľmi jednoduchá, ide o krátke úlohy. Zameranie je na pochopenie tejto konštrukcie a jej využitie."
   ]
  },
  {
   "cell_type": "markdown",
   "metadata": {},
   "source": [
    "###  Možné zmeny a úpravy"
   ]
  },
  {
   "cell_type": "markdown",
   "metadata": {},
   "source": [
    "Úlohy je možné modifikovať tak, aby bolo potrebné vytvoriť komplikovanejšie funkcie. Je potrebné zhodnotiť schopnosti a rýchlosť skupiny. Jedno z riešení je rozvinúť existujúce úlohy a obohatiť ich."
   ]
  },
  {
   "cell_type": "markdown",
   "metadata": {},
   "source": [
    "###  Riešenie úloh"
   ]
  },
  {
   "cell_type": "markdown",
   "metadata": {},
   "source": [
    "<div class=\"alert alert-block alert-success\">\n",
    "Napíš funkciu, ktorá vypíše upozornenie o prekročení rýchlosti. Uživateľ zadá číslo, pokiaľ číslo presahuje vami zadanú hranicu, vypíšte upozornenie. Funkciu zavolaj.\n",
    "</div>"
   ]
  },
  {
   "cell_type": "code",
   "execution_count": null,
   "metadata": {},
   "outputs": [],
   "source": [
    "def attention():\n",
    "    speed = int(input(\"Enter your speed\"))\n",
    "    if speed > 50:\n",
    "        print(\"Over speed limit\")\n",
    "    else:\n",
    "        print(\"Speed is OK\")\n",
    "\n",
    "attention()"
   ]
  },
  {
   "cell_type": "markdown",
   "metadata": {},
   "source": [
    "<div class=\"alert alert-block alert-success\">\n",
    "Napíš funkciu, ktorá od uživateľa vezme 2 čísla, porovná ich a väčšie z nich vypíše. Funkciu zavolaj.\n",
    "</div>"
   ]
  },
  {
   "cell_type": "code",
   "execution_count": null,
   "metadata": {},
   "outputs": [],
   "source": [
    "def compare():\n",
    "    first_value = int(input(\"Enter your number\"))\n",
    "    second_value = int(input(\"Enter your number\"))\n",
    "    if first_value > second_value:\n",
    "        print(first_value)\n",
    "    else:\n",
    "        print(second_value)\n",
    "\n",
    "compare()"
   ]
  },
  {
   "cell_type": "markdown",
   "metadata": {},
   "source": [
    "<div class=\"alert alert-block alert-success\">\n",
    "Napíš funkciu, ktorá vypíše upozornenie o prekročení rýchlosti, pokiaľ číslo zadané uživateľom prekračuje hranicu. Funkcia dostane ako argument rýchlosť a vyhodnotí, či má vypísať upozornenie. Funkciu zavolaj s rôznymi argumentmi.\n",
    "</div>"
   ]
  },
  {
   "cell_type": "code",
   "execution_count": null,
   "metadata": {},
   "outputs": [],
   "source": [
    "def attention(speed):\n",
    "    if speed > 50:\n",
    "        print(\"Over speed limit\")\n",
    "    else:\n",
    "        print(\"Speed is OK\")\n",
    "\n",
    "attention(55)\n",
    "attention(35)"
   ]
  },
  {
   "cell_type": "markdown",
   "metadata": {},
   "source": [
    "<div class=\"alert alert-block alert-success\">\n",
    "Napíš funkciu, ktorá dostane ako argumenty 2 čísla, porovná ich a väčšie z nich vypíše.\n",
    "</div>"
   ]
  },
  {
   "cell_type": "code",
   "execution_count": null,
   "metadata": {},
   "outputs": [],
   "source": [
    "def compare(first_value, second_value):\n",
    "    if first_value > second_value:\n",
    "        print(first_value)\n",
    "    else:\n",
    "        print(second_value)\n",
    "\n",
    "compare(4, 76)"
   ]
  }
 ],
 "metadata": {
  "kernelspec": {
   "display_name": "Python 3",
   "language": "python",
   "name": "python3"
  },
  "language_info": {
   "codemirror_mode": {
    "name": "ipython",
    "version": 3
   },
   "file_extension": ".py",
   "mimetype": "text/x-python",
   "name": "python",
   "nbconvert_exporter": "python",
   "pygments_lexer": "ipython3",
   "version": "3.12.2"
  }
 },
 "nbformat": 4,
 "nbformat_minor": 2
}
