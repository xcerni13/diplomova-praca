{
 "cells": [
  {
   "cell_type": "markdown",
   "metadata": {},
   "source": [
    "# Pole a zoznam - metodické pokyny a odporúčania k hodine"
   ]
  },
  {
   "cell_type": "markdown",
   "metadata": {},
   "source": [
    "### Ciele lekcie"
   ]
  },
  {
   "cell_type": "markdown",
   "metadata": {},
   "source": [
    "- pochopiť a naučiť sa čo je pole a zoznam\n",
    "- syntax a použitie pola a zoznamu"
   ]
  },
  {
   "cell_type": "markdown",
   "metadata": {},
   "source": [
    "###  Časová náročnosť"
   ]
  },
  {
   "cell_type": "markdown",
   "metadata": {},
   "source": [
    "Lekcia pozostáva z dvoch tém, ktoré je možné prejsť na jednej vyučovacej hodine. Vzhľadom na to, že v Pythone sú syntakticky pole a zoznam rovnaké, pre žiakov je dôležité len pochopiť sémantický rozdiel medzi týmito konceptmi."
   ]
  },
  {
   "cell_type": "markdown",
   "metadata": {},
   "source": [
    "###  Motivácia"
   ]
  },
  {
   "cell_type": "markdown",
   "metadata": {},
   "source": [
    "V tejto lekcii má žiak možnosť naučiť sa ďalšiu dôležitú konštrukciu v programovaní. Motivácia pre žiakov je rozvinúť premennú na konštrukciu, ktorá dokáže uložiť väčšie množstvo informácií."
   ]
  },
  {
   "cell_type": "markdown",
   "metadata": {},
   "source": [
    "###  Pokyny k úvodnej úlohe"
   ]
  },
  {
   "cell_type": "markdown",
   "metadata": {},
   "source": [
    "Pri tejto úlohe je dôležité si pamätať, že žiaci poznajú premenné a budú sa snažiť používať ich v riešení. Je dobré aby si uvedomili, že niekedy potrebujeme, aby ukladané informácie spolu boli uložené. Tiež je dôležité uvedomiť si, že niektoré dáta spolu súvisia a preto je potrebné, aby sme ich vedeli identifikovať aj ako skupinu."
   ]
  },
  {
   "cell_type": "markdown",
   "metadata": {},
   "source": [
    "###  Pokyny k ďalším úlohám"
   ]
  },
  {
   "cell_type": "markdown",
   "metadata": {},
   "source": [
    "Úlohy je možné riešiť spoločne so študentmi, alebo im nechať samostaný čas na prácu. To samozrejme závisí od ich schopností. Vzhľadom na to, že ide o poslednú lekciu, môže byť vhodné nechávať im čo najviac samostatnej práce a programovania po prejdení teórie."
   ]
  },
  {
   "cell_type": "markdown",
   "metadata": {},
   "source": [
    "###  Riešenie úloh"
   ]
  },
  {
   "cell_type": "markdown",
   "metadata": {},
   "source": [
    "<div class=\"alert alert-block alert-success\">\n",
    "Vytvorte pole, v ktorom budú uložené čísla. Vypíšte postupne jednotlivé čísla pomocou ich pozície v poli.\n",
    "</div>"
   ]
  },
  {
   "cell_type": "code",
   "execution_count": null,
   "metadata": {},
   "outputs": [],
   "source": [
    "example = [1, 3, 5, 6]\n",
    "print(example[0])\n",
    "print(example[1])\n",
    "print(example[2])\n",
    "print(example[3])"
   ]
  },
  {
   "cell_type": "markdown",
   "metadata": {},
   "source": [
    "<div class=\"alert alert-block alert-success\">\n",
    "Vytvorte pole, v ktorom budú uložené náhodné čísla. Vypíšte súčet týchto čísel.\n",
    "</div>"
   ]
  },
  {
   "cell_type": "code",
   "execution_count": null,
   "metadata": {},
   "outputs": [],
   "source": [
    "example = [1, 3, 5, 6]\n",
    "print(example[0] + example[1] +example[2] +example[3])"
   ]
  },
  {
   "cell_type": "markdown",
   "metadata": {},
   "source": [
    "<div class=\"alert alert-block alert-success\">\n",
    "V poli sú uložené len prirodzené čísla. Zistite najväčšie číslo v poli. \n",
    "</div>"
   ]
  },
  {
   "cell_type": "code",
   "execution_count": 1,
   "metadata": {},
   "outputs": [
    {
     "name": "stdout",
     "output_type": "stream",
     "text": [
      "90\n"
     ]
    }
   ],
   "source": [
    "example = [1, 3, 8, 90]\n",
    "max = 0\n",
    "for i in range(len(example)):\n",
    "    if max < example[i]:\n",
    "        max = example[i]\n",
    "\n",
    "print(max)"
   ]
  },
  {
   "cell_type": "markdown",
   "metadata": {},
   "source": [
    "<div class=\"alert alert-block alert-success\">\n",
    "Napíšte program na vyriešenie úvodnej úlohy. \n",
    "</div>"
   ]
  },
  {
   "cell_type": "code",
   "execution_count": 2,
   "metadata": {},
   "outputs": [
    {
     "name": "stdout",
     "output_type": "stream",
     "text": [
      "25.5\n"
     ]
    }
   ],
   "source": [
    "example = [1, 3, 8, 90]\n",
    "average = 0\n",
    "for i in range(len(example)):\n",
    "    average = average + example[i]\n",
    "average = average / len(example)\n",
    "print(average)"
   ]
  }
 ],
 "metadata": {
  "kernelspec": {
   "display_name": "Python 3",
   "language": "python",
   "name": "python3"
  },
  "language_info": {
   "codemirror_mode": {
    "name": "ipython",
    "version": 3
   },
   "file_extension": ".py",
   "mimetype": "text/x-python",
   "name": "python",
   "nbconvert_exporter": "python",
   "pygments_lexer": "ipython3",
   "version": "3.12.2"
  }
 },
 "nbformat": 4,
 "nbformat_minor": 2
}
