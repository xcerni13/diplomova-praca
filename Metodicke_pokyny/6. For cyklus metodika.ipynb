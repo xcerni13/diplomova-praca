{
 "cells": [
  {
   "cell_type": "markdown",
   "metadata": {},
   "source": [
    "# For cyklus - metodické pokyny a odporúčania k hodine"
   ]
  },
  {
   "cell_type": "markdown",
   "metadata": {},
   "source": [
    "### Ciele lekcie"
   ]
  },
  {
   "cell_type": "markdown",
   "metadata": {},
   "source": [
    "- čo je for cyklus a jeho použitie\n",
    "- vytváranie algoritmov a ich zápis\n",
    "- precvičenie blokov kódu\n",
    "- vnorený cyklus"
   ]
  },
  {
   "cell_type": "markdown",
   "metadata": {},
   "source": [
    "###  Časová náročnosť"
   ]
  },
  {
   "cell_type": "markdown",
   "metadata": {},
   "source": [
    "Lekcia je rozdelená na dve časti - for cyklus a vnorený cyklus. Každá z nich je pripravená na jednu vyučovaciu hodinu."
   ]
  },
  {
   "cell_type": "markdown",
   "metadata": {},
   "source": [
    "###  Motivácia"
   ]
  },
  {
   "cell_type": "markdown",
   "metadata": {},
   "source": [
    "Žiaci si postupne vytvárajú znalosti všetkých základných prgramovacích prvkov. Teraz už majú dosť znalostí a skúseností, ale stále je potrebné čo najviac programovať. V tejto lekcii sa naučia pracovať s cyklom, čo je sám o sebe nenáročný koncept. Žiaci však môžu mať problém s pochopením fungovania príkazov v cykle. Rozšíria si pochopenie blokov, ako aj vytvárania algoritmov. Nakoľko už ide o neskoršiu lekciu, je možné sa vrátiť k ručnému zápisu algoritmov, najmä na úvodnej úlohe."
   ]
  },
  {
   "cell_type": "markdown",
   "metadata": {},
   "source": [
    "###  Pokyny k úvodnej úlohe"
   ]
  },
  {
   "cell_type": "markdown",
   "metadata": {},
   "source": [
    "Táto úloha je priamo zameraná na vytvorenie konceptu cyklu. Žiaci majú najprv pochopiť potrebu cyklu, nakoľko veľa z nich bude opakovane písať tie isté príkazy. Na tejto úlohe je benefit, ak žiaci samostatne úlohu vyriešia a potom sa o ich riešeniach diskutuje v skupine. Je možné použiť rekvizitu panáčika alebo nejakej postavičky a na premietaní lekcie znázorniť pohyb postavičky podľa ich algoritmu. Zároveň je možné zadať zápis algoritmu jedným zo spôsobov, ktoré sa učili v prvej lekcii. \n",
    "\n",
    "Pri tejto úlohe je dôldžité navádzať žiakov k postupu, ktorý bude niečím cyklický. Pokiaľ prídu s nejakým nevhodným riešením, je dobré ho spoločne opraviť, alebo zobrať fungujúce časti a po prejdení niekoľkých žiackych riešení ich spojiť a nájsť optimálne riešenie."
   ]
  },
  {
   "cell_type": "markdown",
   "metadata": {},
   "source": [
    "###  Pokyny k ďalším úlohám"
   ]
  },
  {
   "cell_type": "markdown",
   "metadata": {},
   "source": [
    "Úlohy sú gradovaného typu, teda ide o rovnaký koncept, ktorý sa postupne upravuje a nabaľuje. Je možné zmeniť úlohy tak, aby aj slovníkom nadväzovali, ale nie je to nutné. Opakovaný zápis tých istých štruktúr bude dobrým tréningom.\n",
    "\n",
    "Pokiaľ je nejaký koncept zo zadania úlohy pred jej riešením nejasný, je vhodné na tabuľu naznačiť riešenie, ideálne bez programovania.\n",
    "\n",
    "Úlohy je možné riešiť spoločne, kedy aj učiteľ programuje zároveň so žiakmi, alebo nechať ako samostatnú prácu a ukázať vzorové riešenie. Formát je vhodné zvoliť podľa zdatnosti skupiny."
   ]
  },
  {
   "cell_type": "markdown",
   "metadata": {},
   "source": [
    "###  Možné zmeny a úpravy"
   ]
  },
  {
   "cell_type": "markdown",
   "metadata": {},
   "source": [
    "Pokiaľ je skupina pokročilá, je možné do hodiny zakomponovať aj prvotný zápis algoritmov niektorých úloh a tak precvičiť ich presnosť vyjadrovania. \n",
    "\n",
    "Okrem toho je možné cykly učiť pred podmienkami, takže zmeniť poradie lekcií. Tieto lekcie neobsahujú úlohy, kde by sa tieto koncepty vzájomne využívali.\n",
    "\n",
    "Naopak, pokiaľ je skupina zdatná, je možné úlohy rozšíriť o prepojenie s podmienkami. Vytvoriť gradovanú úlohu z niektorej z ponúknutých úloh."
   ]
  },
  {
   "cell_type": "markdown",
   "metadata": {},
   "source": [
    "###  Príprava pred hodinou"
   ]
  },
  {
   "cell_type": "markdown",
   "metadata": {},
   "source": [
    "Pred hodinou je vhodné premyslieť priebeh úvodnej úlohy a načrtnúť žiaduce riešenie. "
   ]
  },
  {
   "cell_type": "markdown",
   "metadata": {},
   "source": [
    "###  Riešenie úloh"
   ]
  },
  {
   "cell_type": "markdown",
   "metadata": {},
   "source": [
    "<div class=\"alert alert-block alert-success\">\n",
    "Pomocou for cyklu vypíšte svoje meno 8-krát.\n",
    "</div>"
   ]
  },
  {
   "cell_type": "code",
   "execution_count": null,
   "metadata": {},
   "outputs": [],
   "source": [
    "for i in range(8):\n",
    "    print(\"Name and Surname\")"
   ]
  },
  {
   "cell_type": "markdown",
   "metadata": {},
   "source": [
    "<div class=\"alert alert-block alert-success\">\n",
    "Znázornite hraciu plochu z úvodnej úlohy. Každé políčko bude znázornené písmenom X.\n",
    "</div>"
   ]
  },
  {
   "cell_type": "code",
   "execution_count": null,
   "metadata": {},
   "outputs": [],
   "source": [
    "for i in range(5):\n",
    "    print(\"X\"*5)"
   ]
  },
  {
   "cell_type": "markdown",
   "metadata": {},
   "source": [
    "<div class=\"alert alert-block alert-success\">\n",
    "Pomocou for cyklu vypíšte vaše meno toľkokrát, ako je zadané pred spustením cyklu.\n",
    "</div>"
   ]
  },
  {
   "cell_type": "code",
   "execution_count": null,
   "metadata": {},
   "outputs": [],
   "source": [
    "value = 5\n",
    "for i in range(value):\n",
    "    print(\"Name and Surname\")"
   ]
  },
  {
   "cell_type": "markdown",
   "metadata": {},
   "source": [
    "<div class=\"alert alert-block alert-success\">\n",
    "Umocnite číslo 5 na takú mocninu, ako je zadané pred spustením cyklu (ručne, alebo input()). Využite na umocňovanie for cyklus.\n",
    "</div>"
   ]
  },
  {
   "cell_type": "code",
   "execution_count": null,
   "metadata": {},
   "outputs": [],
   "source": [
    "value = 3\n",
    "result = 1\n",
    "for i in range(value):\n",
    "    result = result * 5\n",
    "print(result)"
   ]
  },
  {
   "cell_type": "markdown",
   "metadata": {},
   "source": [
    "<div class=\"alert alert-block alert-success\">\n",
    "Znázornite hraciu plochu z úvodnej úlohy. Každé políčko bude znázornené písmenom X. Využite vnorený cyklus.\n",
    "</div>"
   ]
  },
  {
   "cell_type": "code",
   "execution_count": 5,
   "metadata": {},
   "outputs": [
    {
     "name": "stdout",
     "output_type": "stream",
     "text": [
      "XXXXX\n",
      "\n",
      "XXXXX\n",
      "\n",
      "XXXXX\n",
      "\n",
      "XXXXX\n",
      "\n",
      "XXXXX\n",
      "\n"
     ]
    }
   ],
   "source": [
    "for i in range(5):\n",
    "    for j in range(5):\n",
    "        print(\"X\", end=\"\")\n",
    "    print(\"\\n\")"
   ]
  },
  {
   "cell_type": "markdown",
   "metadata": {},
   "source": [
    "<div class=\"alert alert-block alert-success\">\n",
    "Znázornite hraciu plochu z úvodnej úlohy. Každé políčko bude znázornené písmenom X. Políčka, ktoré sú na diagonále hracej plochy budú znázornené písmenom O\n",
    "</div>"
   ]
  },
  {
   "cell_type": "code",
   "execution_count": 6,
   "metadata": {},
   "outputs": [
    {
     "name": "stdout",
     "output_type": "stream",
     "text": [
      "OXXXX\n",
      "\n",
      "XOXXX\n",
      "\n",
      "XXOXX\n",
      "\n",
      "XXXOX\n",
      "\n",
      "XXXXO\n",
      "\n"
     ]
    }
   ],
   "source": [
    "for i in range(5):\n",
    "    for j in range(5):\n",
    "        if i == j:\n",
    "            print(\"O\", end=\"\")\n",
    "        else:\n",
    "            print(\"X\", end=\"\")\n",
    "    print(\"\\n\")"
   ]
  }
 ],
 "metadata": {
  "kernelspec": {
   "display_name": "Python 3",
   "language": "python",
   "name": "python3"
  },
  "language_info": {
   "codemirror_mode": {
    "name": "ipython",
    "version": 3
   },
   "file_extension": ".py",
   "mimetype": "text/x-python",
   "name": "python",
   "nbconvert_exporter": "python",
   "pygments_lexer": "ipython3",
   "version": "3.12.2"
  }
 },
 "nbformat": 4,
 "nbformat_minor": 2
}
