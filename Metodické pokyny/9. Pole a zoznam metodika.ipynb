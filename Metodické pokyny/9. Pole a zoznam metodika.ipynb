{
 "cells": [
  {
   "cell_type": "markdown",
   "metadata": {},
   "source": [
    "# Pole a zoznam - metodické pokyny a odporúčania k hodine"
   ]
  },
  {
   "cell_type": "markdown",
   "metadata": {},
   "source": [
    "### Ciele lekcie"
   ]
  },
  {
   "cell_type": "markdown",
   "metadata": {},
   "source": [
    "- pochopiť a naučiť sa čo je pole a zoznam\n",
    "- syntax a použitie pola a zoznamu"
   ]
  },
  {
   "cell_type": "markdown",
   "metadata": {},
   "source": [
    "###  Časová náročnosť"
   ]
  },
  {
   "cell_type": "markdown",
   "metadata": {},
   "source": [
    "Lekcia pozostáva z dvoch tém, ktoré je možné prejsť na jednej vyučovacej hodine. Vzhľadom na to, že v Pythone sú syntakticky pole a zoznam rovnaké, pre žiakov je dôležité len pochopiť sémantický rozdiel medzi týmito konceptmi."
   ]
  },
  {
   "cell_type": "markdown",
   "metadata": {},
   "source": [
    "###  Motivácia"
   ]
  },
  {
   "cell_type": "markdown",
   "metadata": {},
   "source": [
    "V tejto lekcii má žiak možnosť naučiť sa ďalšiu dôležitú konštrukciu v programovaní. Motivácia pre žiakov je rozvinúť premennú na konštrukciu, ktorá dokáže uložiť väčšie množstvo informácií."
   ]
  },
  {
   "cell_type": "markdown",
   "metadata": {},
   "source": [
    "###  Pokyny k úvodnej úlohe"
   ]
  },
  {
   "cell_type": "markdown",
   "metadata": {},
   "source": [
    "Pri tejto úlohe je dôležité si pamätať, že žiaci poznajú premenné a budú sa snažiť používať ich v riešení. Je dobré aby si uvedomili, že niekedy potrebujeme, aby ukladané informácie spolu boli uložené. Tiež je dôležité uvedomiť si, že niektoré dáta spolu súvisia a preto je potrebné, aby sme ich vedeli identifikovať aj ako skupinu."
   ]
  },
  {
   "cell_type": "markdown",
   "metadata": {},
   "source": [
    "###  Pokyny k ďalším úlohám"
   ]
  },
  {
   "cell_type": "markdown",
   "metadata": {},
   "source": [
    "Úlohy je možné riešiť spoločne so študentmi, alebo im nechať samostaný čas na prácu. To samozrejme závisí od ich schopností. Vzhľadom na to, že ide o poslednú lekciu, môže byť vhodné nechávať im čo najviac samostatnej práce a programovania po prejdení teórie."
   ]
  }
 ],
 "metadata": {
  "language_info": {
   "name": "python"
  }
 },
 "nbformat": 4,
 "nbformat_minor": 2
}
