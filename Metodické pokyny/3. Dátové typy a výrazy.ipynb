{
 "cells": [
  {
   "cell_type": "markdown",
   "metadata": {},
   "source": [
    "# Dátové typy a výrazy - metodické pokyny a odporúčania k hodine"
   ]
  },
  {
   "cell_type": "markdown",
   "metadata": {},
   "source": [
    "### Ciele lekcie"
   ]
  },
  {
   "cell_type": "markdown",
   "metadata": {},
   "source": [
    "- precvičenie aritmetických výrazov\n",
    "- zvládnutie dátových typov\n",
    "- priestor na programovanie a cvičenie doterajších konceptov"
   ]
  },
  {
   "cell_type": "markdown",
   "metadata": {},
   "source": [
    "###  Časová náročnosť"
   ]
  },
  {
   "cell_type": "markdown",
   "metadata": {},
   "source": [
    "Lekciu je možné prejsť v jednej vyučovacej hodine - 45 minút. Podľa konkrítnej skupiny žiakov sa bude odlišovať počet úloh, ktoré je možné prejsť. Niektoré úlohy z lekcie je možné vynechať, takisto ako niektoré pokročilejšie koncepty. Prípadne je možnosť túto lekciu rozdeliť na dve vyučovacie hodiny, v tom prípade je potrebné väčšie množstvo úloh."
   ]
  },
  {
   "cell_type": "markdown",
   "metadata": {},
   "source": [
    "###  Motivácia"
   ]
  },
  {
   "cell_type": "markdown",
   "metadata": {},
   "source": [
    "V tejto lekcii sa nachádzajú možno nudné, ale veľmi potrebné základy, bez ktorých sa žiaci nemôžu posunúť ďalej. Preto je nutné ponechať tu dostatočný priestor na praktické stretnutie s operátormi a dátovými typmi. Všetky nasledujúce lekcie využívajú výrazy a preto je potrebné, aby s nimi žiaci mali dostatočnú skúsenosť. \n",
    "\n",
    "Aj napriek tomu, že táto lekcia neobsahuje interaktívne úlohy, je vhodné žiakov motivovať na tejto hodine. Vzbudzovať v nich záujem a motiváciu pre toto učivo pomôže ich pochopeniu látky. "
   ]
  },
  {
   "cell_type": "markdown",
   "metadata": {},
   "source": [
    "###  Pokyny k ďalším úlohám"
   ]
  },
  {
   "cell_type": "markdown",
   "metadata": {},
   "source": [
    "Úlohy sú čisto matematického charakteru, preto je vhodné skontrolovať, aby žiaci ovládali bez problémov všetky potrebné operátory. Prípadne je možné s nimi poslednú úlohu, kde sa počíta príklad prejsť po prvkoch v prípade že si neveria.\n",
    "\n",
    "Úlohy je možné riešiť priamo s hodnotami, prípadne využiť premenné a zakomponovať ich využitie. Vhodné môže byť tieto spôsoby aj kombinovať."
   ]
  }
 ],
 "metadata": {
  "language_info": {
   "name": "python"
  }
 },
 "nbformat": 4,
 "nbformat_minor": 2
}
