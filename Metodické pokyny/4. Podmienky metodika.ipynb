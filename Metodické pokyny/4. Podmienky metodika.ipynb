{
 "cells": [
  {
   "cell_type": "markdown",
   "metadata": {},
   "source": [
    "# Podmienky - metodické pokyny a odporúčania k hodine"
   ]
  },
  {
   "cell_type": "markdown",
   "metadata": {},
   "source": [
    "### Ciele lekcie"
   ]
  },
  {
   "cell_type": "markdown",
   "metadata": {},
   "source": [
    "- naučiť sa používať a písať podmienky\n",
    "- pochopiť vetvenie programu\n",
    "- rozlišovať bloky v programe\n",
    "- precvičiť používanie premenných\n",
    "- precvičiť používanie vstupných a výstupných funkcií\n",
    "- precvičiť vytváranie algoritmov"
   ]
  },
  {
   "cell_type": "markdown",
   "metadata": {},
   "source": [
    "###  Časová náročnosť"
   ]
  },
  {
   "cell_type": "markdown",
   "metadata": {},
   "source": [
    "Lekcia pozostáva z jednej témy. Je možné túto lekciu prebrať v jednej vyučovacej hodine, avšak môže byť užitočné téme podmienok venovať viac času. V prípade rozloženia lekcie na dve vyučovacie hodiny je možné do druhej hodiny odložiť teóriu o blokoch."
   ]
  },
  {
   "cell_type": "markdown",
   "metadata": {},
   "source": [
    "###  Motivácia"
   ]
  },
  {
   "cell_type": "markdown",
   "metadata": {},
   "source": [
    "V tejto lekcii sa žiaci stretávajú s algoritmickými problémami, ktoré musia riešiť. Okrem toho však musia prebrať aj nový koncept, ktorý je pre nich nový. Výhodou tejto témy je, že žiaci podmienky poznajú z bežného života. Dôležité je, aby koncept previedli do programovania a naučili sa správny zápis podmienok a výrazov. V tejto lekcii je priestor vrátiť sa k algoritmom a prepojiť lekciu Algoritmus s lekciou Podmienky."
   ]
  },
  {
   "cell_type": "markdown",
   "metadata": {},
   "source": [
    "###  Pokyny k úvodnej úlohe"
   ]
  },
  {
   "cell_type": "markdown",
   "metadata": {},
   "source": [
    "Táto úvodná úloha je príkladom bežného kódu s využitím podmienok. Pokiaľ prirodzeným jazykom, alebo flowchartom zapíšu riešenie tejto úlohy, zvyšok hodiny môže byť venovaný doplneniu syntaxe. V tejto lekcii je dobré, aby na úvodnej úlohe pochopili žiaci koncept a následne sa naučili ako tento koncept naprogramovať. Programovacie úlohy na konci sú veľmi podobné úvodnej úlohe, aby v lekcii bolo prepojenie."
   ]
  },
  {
   "cell_type": "markdown",
   "metadata": {},
   "source": [
    "###  Pokyny k ďalším úlohám"
   ]
  },
  {
   "cell_type": "markdown",
   "metadata": {},
   "source": [
    "Úlohy sú prepojené s úvodnou úlohou, preto je dobré žiakov naviesť týmto smerom. Prediskutovať s nimi možnosť zápisu riešenia z úvodu. Tak si prepoja pochopenie konceptu a syntax. Následne je možné ich učenie umocniť gradovanou úlohou, ktorá ešte rozšíri pôvodnú úlohu."
   ]
  },
  {
   "cell_type": "markdown",
   "metadata": {},
   "source": [
    "###  Možné zmeny a úpravy"
   ]
  },
  {
   "cell_type": "markdown",
   "metadata": {},
   "source": [
    "Lekcie Podmienky a Zložené podmienky je možné učiť až po cykloch. V úlohách týchto lekcií sa vzájomne nevyužívajú podmienky a cykly, úlohy sa vždy sústredia na aktuálnu tému. \n",
    "\n",
    "Po skončení úloch je dobré pridať ďalšie rozšírenie kódu, podľa toho čo sa udialo na hodine. Ak mali žiaci problém s niektorou časťou hodiny, tu je priestor na precvičenie problematických prvkov."
   ]
  }
 ],
 "metadata": {
  "language_info": {
   "name": "python"
  }
 },
 "nbformat": 4,
 "nbformat_minor": 2
}
