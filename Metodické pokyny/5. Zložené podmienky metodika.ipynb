{
 "cells": [
  {
   "cell_type": "markdown",
   "metadata": {},
   "source": [
    "# Zložené podmienky - metodické pokyny a odporúčania k hodine"
   ]
  },
  {
   "cell_type": "markdown",
   "metadata": {},
   "source": [
    "### Ciele lekcie"
   ]
  },
  {
   "cell_type": "markdown",
   "metadata": {},
   "source": [
    "- naučiť sa používať a písať zložené podmienky\n",
    "- práca s logickými operátormi\n",
    "- rozlišovať bloky v programe\n",
    "- precvičiť používanie podmienok\n",
    "- vyhodnocovanie aritmetických a logických výrazov\n",
    "- presný a správny zápis algoritmu"
   ]
  },
  {
   "cell_type": "markdown",
   "metadata": {},
   "source": [
    "###  Časová náročnosť"
   ]
  },
  {
   "cell_type": "markdown",
   "metadata": {},
   "source": [
    "Lekcia pozostáva z dvoch tém. Túto lekciu je vhodné rodeliť na dve vyučovacie hodiny. Tak sa vytvorí aj priestor na hlbšie pochopenie a precvičenie podmienok. Na prvej hodine je možné prejsť logické operátory a zložené podmienky. Na druhej hodine sú potom vnorené podmienky, a prípadné precvičovanie podmienok."
   ]
  },
  {
   "cell_type": "markdown",
   "metadata": {},
   "source": [
    "###  Motivácia"
   ]
  },
  {
   "cell_type": "markdown",
   "metadata": {},
   "source": [
    "V tejto lekcii sa nadväzuje na lekciu Podmienky a tento koncept sa rozširuje. Žiaci by mali ovládať podmienky, aby mohli skladať zložené podmienky. Okrem toho môžu precvičiť vetvenie kódu a zápis komplikovanejších algoritmov. Na tejto hodine je veľmi dôležitý správny zápis algoritmu, aby vyjadrili to čo chcú. Vďaka tomu tu môžu rozvíjať algoritmizáciu a algoritmické myslenie. \n",
    "\n",
    "Najdôležitejšie časti tejto lekcie je správny zápis zložených podmienok a následne vnorené podmienky. "
   ]
  },
  {
   "cell_type": "markdown",
   "metadata": {},
   "source": [
    "###  Pokyny k úvodnej úlohe"
   ]
  },
  {
   "cell_type": "markdown",
   "metadata": {},
   "source": [
    "V tejto lekcii nie je úvodná úloha, nakoľko s podmienkami sú žiaci už zoznámení. Je tu ponechaný priestor na programovanie a tréning všetkých konceptov, ktoré sa doteraz naučili."
   ]
  },
  {
   "cell_type": "markdown",
   "metadata": {},
   "source": [
    "###  Pokyny k ďalším úlohám"
   ]
  },
  {
   "cell_type": "markdown",
   "metadata": {},
   "source": [
    "V tejto lekcii je priestor na programovanie, preto aj úlohy sú viac zamerané na samotný kód a jeho opravovanie. V prípade, že úlohy nie sú postačujúce je možné rozviesť niektorú z úloh z lekcie Podmienky."
   ]
  }
 ],
 "metadata": {
  "language_info": {
   "name": "python"
  }
 },
 "nbformat": 4,
 "nbformat_minor": 2
}
