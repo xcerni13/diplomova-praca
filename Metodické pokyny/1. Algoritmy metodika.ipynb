{
 "cells": [
  {
   "cell_type": "markdown",
   "metadata": {},
   "source": [
    "# Algoritmus - metodické pokyny a odporúčania k hodine"
   ]
  },
  {
   "cell_type": "markdown",
   "metadata": {},
   "source": [
    "### Ciele lekcie"
   ]
  },
  {
   "cell_type": "markdown",
   "metadata": {},
   "source": [
    "- čo je algoritmus\n",
    "- vlastnosti algoritmu\n",
    "- rôzne spôsoby zápisu algoritmu\n",
    "- vyskúšať si zápis algoritmu rôznymi spôsobmi\n",
    "- lepšie sa zoznámiť s materiálmi\n",
    "- presné vyjadrovanie postupov"
   ]
  },
  {
   "cell_type": "markdown",
   "metadata": {},
   "source": [
    "###  Časová náročnosť"
   ]
  },
  {
   "cell_type": "markdown",
   "metadata": {},
   "source": [
    "Lekciu je možné prejsť v jednej vyučovacej hodine - 45 minút. Podľa konkrítnej skupiny žiakov sa bude odlišovať počet úloh, ktoré je možné prejsť. "
   ]
  },
  {
   "cell_type": "markdown",
   "metadata": {},
   "source": [
    "###  Motivácia"
   ]
  },
  {
   "cell_type": "markdown",
   "metadata": {},
   "source": [
    "Pre žiakov je programovanie v tejto chvíli novým konceptom, s ktorým sa práve stretli. Pomocou priblíženia algoritmov a algoritmizácie k príkladom z bežného života je prechod k programovaniu uľahčený. Zároveň je dôležité dbať na presné a odborné vyjadrovanie aj pri príkladoch, ktoré nie sú programovacie. Najprv sa žiaci môžu naučiť exaktnosť, ktorá je pri programovaní dôležitá. Následne sa môžu učiť samotné programovanie, ktoré vďaka presnému vyjadrovaniu pôjde o niečo jednoduchšie. \n",
    "\n",
    "Okrem algoritmizácie bežných životných situácií je tu priestor naučiť sa tvoriť a zapisovať algoritmy. Toto môže podporiť algoritmické myslenie žiakov a motivovať ich riešiť problémy systematicky. Pokiaľ sa v tomto štádiu naučia algoritmy zapisovať a vytvárať, bude to pre nich benefitom pri vytváraní reálnych algoritmov. "
   ]
  },
  {
   "cell_type": "markdown",
   "metadata": {},
   "source": [
    "###  Pokyny k úvodnej úlohe"
   ]
  },
  {
   "cell_type": "markdown",
   "metadata": {},
   "source": [
    "Pri úvodnej úlohe je dobré nechať žiakom samostaný čas na spísanie algoritmu vlastnými slovami. Následne v celej skupine spoločne prejdite a zhodnoťte jednotlivé riešenia. Je dobré hľadať chyby a nepresnosti v ich riešení, ale dbať aj na ich pochválenie. V tejto úlohe je hlavným cieľom presná analýza činnosti a následný popis každého kroku. Okrem toho je dobré skupinu postupne viesť k čo najviac všeobecnému riešeniu. Na konci úlohy je dobré spoločne spísať na tabuľu alebo do editora čo najviac všeobecný a presný postup a ukázať dôležitosť takéhoto zápisu. Na základe tejto úlohy je možné prepojiť ich skúsenosť s vlastnosťami algoritmov a ich zápis. "
   ]
  },
  {
   "cell_type": "markdown",
   "metadata": {},
   "source": [
    "###  Pokyny k ďalším úlohám"
   ]
  },
  {
   "cell_type": "markdown",
   "metadata": {},
   "source": [
    "Prvé úlohy sa stále vzťahujú k bežnému problému, ktorý najprv bude zovšeobecnený. Takisto je tu priestor na tréning rôznych spôsobov zápisu algoritmu. Posledné úlohy sú už zamerané na reálne algoritmické problémy, ktoré však sú pre žiakov stále blízke. "
   ]
  },
  {
   "cell_type": "markdown",
   "metadata": {},
   "source": [
    "###  Možné zmeny a úpravy"
   ]
  },
  {
   "cell_type": "markdown",
   "metadata": {},
   "source": [
    "Tréning rôznych spôsobov zápisu algoritmu môže byť ponechaný na posledné úlohy, pokiaľ je skupina pokročilá. Pokiaľ je tematika úvodnej úlohy nevyhovujúca, je možné ju zameniť za obdobný príklad z bežného života, alebo jednoduchý algoritmus, ktorý žiaci verne poznajú."
   ]
  },
  {
   "cell_type": "markdown",
   "metadata": {},
   "source": [
    "###  Príprava pred hodinou"
   ]
  },
  {
   "cell_type": "markdown",
   "metadata": {},
   "source": [
    "Z hľadiska teoretickej prípravy je vhodné poznať jednotlivé grafické prvky flowchartu a čo reprezentujú. \n",
    "\n",
    "Okrem toho je vhodné vytvoriť si vzorové riešenie úlohy, alebo ho mať vyskúšané. Žiaci vedia prekvapiť a preto je dobré mať predstavu, k čomu sa snažíte dopracovať. "
   ]
  }
 ],
 "metadata": {
  "language_info": {
   "name": "python"
  }
 },
 "nbformat": 4,
 "nbformat_minor": 2
}
