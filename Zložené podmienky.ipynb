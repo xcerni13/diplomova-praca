{
 "cells": [
  {
   "cell_type": "markdown",
   "metadata": {},
   "source": [
    "# Logické operátory"
   ]
  },
  {
   "cell_type": "markdown",
   "metadata": {},
   "source": [
    "Na čo sú logické operátory? Je možné ich použiť takmer hocikde, ak potrebujeme vyhodnotiť nejakú situáciu. \n",
    "<br>\n",
    "<br>\n",
    "\n",
    "<div class=\"alert alert-block alert-info\">\n",
    "<b>Logické operátory:</b> \n",
    "<b>and, or, not</b>\n",
    "</div>\n",
    "\n",
    "Syntax logických operátorov:\n",
    "<br>\n",
    "výraz <b>logický operátor</b> výraz\n",
    "\n",
    "<br>\n",
    "Namiesto výrazu môžme doplniť potrebnú rovnosť/nerovnosť, namiesto logického operátora môžme doplniť and, or, not.\n",
    "\n",
    "\n",
    "<b>and</b> - obidva výrazy musia byť pravdivé\n",
    "<br>\n",
    "<b>or</b> - aspoň jeden výraz musí byť pravdivý\n",
    "<br>\n",
    "<b>not</b> - pravdivostná hodnota výrazu bude znegovaná\n",
    "### Syntax\n",
    "\n",
    "<div class=\"alert alert-block alert-info\">\n",
    "<!-- výraz <b>logický operátor</b> výraz\n",
    "<br> -->\n",
    "5 > 2 and 10 < 20\n",
    "</div>"
   ]
  },
  {
   "cell_type": "code",
   "execution_count": null,
   "metadata": {},
   "outputs": [],
   "source": [
    "(9 < 15) and (2 != 3)"
   ]
  },
  {
   "cell_type": "code",
   "execution_count": null,
   "metadata": {},
   "outputs": [],
   "source": [
    "(80 < 65) or (33/3 > 10)"
   ]
  },
  {
   "cell_type": "code",
   "execution_count": null,
   "metadata": {},
   "outputs": [],
   "source": [
    "not (5 * 12 == 58)"
   ]
  },
  {
   "cell_type": "markdown",
   "metadata": {},
   "source": [
    "***"
   ]
  },
  {
   "cell_type": "markdown",
   "metadata": {},
   "source": [
    "<div class=\"alert alert-block alert-success\">\n",
    "<b>Opravovanie kódu</b>\n",
    "</div>"
   ]
  },
  {
   "cell_type": "markdown",
   "metadata": {},
   "source": [
    "Oprav nasledujúce časti kódov tak, aby na konci mala premenná x hodnotu True"
   ]
  },
  {
   "cell_type": "code",
   "execution_count": null,
   "metadata": {},
   "outputs": [],
   "source": [
    "y = 1\n",
    "x = (y < 2) and (y > 1)\n",
    "print(x)"
   ]
  },
  {
   "cell_type": "code",
   "execution_count": null,
   "metadata": {},
   "outputs": [],
   "source": [
    "y = 55\n",
    "x = (y == 0) or (y < 0)\n",
    "print(x)"
   ]
  },
  {
   "cell_type": "code",
   "execution_count": null,
   "metadata": {},
   "outputs": [],
   "source": [
    "y = 30\n",
    "x = not(y >= 26)\n",
    "print(x)"
   ]
  },
  {
   "cell_type": "markdown",
   "metadata": {},
   "source": [
    "<div class=\"alert alert-block alert-success\">\n",
    "<b>Aká chyba je ešte v kódoch, ktorú by bolo dobré opraviť?</b>\n",
    "<br>\n",
    "Opakujúce sa bezvýznamné názvy premenných\n",
    "</div>"
   ]
  },
  {
   "cell_type": "markdown",
   "metadata": {},
   "source": [
    "***"
   ]
  },
  {
   "cell_type": "markdown",
   "metadata": {},
   "source": [
    "# Zložené podmienky"
   ]
  },
  {
   "cell_type": "markdown",
   "metadata": {},
   "source": [
    "Zložené podmienky sú rozšírením konceptu podmienok z predchádzajúcich lekcií. V prípade zloženej podmienky sa využívajú vyššie spomínané logické operátory. Zložená podmienka sa skladá z viac ako jedného výrazu, ktorý musí byť pravdivý, aby bola podmienka splnená. Vyhodnocuje sa pravdivosť všetkých výrazov, ktoré sú prepojené prostredníctvom logických operátorov."
   ]
  },
  {
   "cell_type": "markdown",
   "metadata": {},
   "source": [
    "### Syntax"
   ]
  },
  {
   "cell_type": "code",
   "execution_count": null,
   "metadata": {},
   "outputs": [],
   "source": [
    "if vyraz and vyraz:\n",
    "    prikazy\n",
    "elif vyraz or vyraz:\n",
    "    prikazy\n",
    "elif not(vyraz):\n",
    "    prikazy\n",
    "else:\n",
    "    prikazý"
   ]
  },
  {
   "cell_type": "markdown",
   "metadata": {},
   "source": [
    "Pri zložených podmienkach je ešte dôležitejšie exaktné a korektné zapisovanie výrazov. Jednoducho môže programátor zapísať výraz, ktorý je chybný, alebo nevyjadruje pôvodný zámer."
   ]
  },
  {
   "cell_type": "markdown",
   "metadata": {},
   "source": [
    "Na spájanie viacerých výrazov využívame logické operátory and/or, prípadne not. Pravidlá, ako sa tieto zložené podmienky vyhodnocujú súhlasia s predchádzujúcou lekciou.\n",
    "<br>\n",
    "Pokiaľ sú výrazy prepojené pomocou and, pokiaľ len jeden výraz je vyhodnotený ako False, celá zložená podmienka bude nepravdivá.\n",
    "<br>\n",
    "Pri operátore or je potrebné, aby aspoň jeden výraz bol True, a celá podmienka bude vyhodnotená ako pravdivá.\n",
    "<br>\n",
    "Not je špeciálny prípad, ktorý neguje pravidostnú hodnotu výrazu. Preto nie prepája ale obráti výsledok výrazu."
   ]
  },
  {
   "cell_type": "markdown",
   "metadata": {},
   "source": [
    "# Vnorené podmienky"
   ]
  },
  {
   "cell_type": "markdown",
   "metadata": {},
   "source": [
    "Okrem klasickej podmienky je možné do vetvy, ktorá je vytvorená vložiť ďalšiu podmienku."
   ]
  },
  {
   "cell_type": "markdown",
   "metadata": {},
   "source": [
    "### Syntax"
   ]
  },
  {
   "cell_type": "code",
   "execution_count": null,
   "metadata": {},
   "outputs": [],
   "source": [
    "if vyraz and vyraz:\n",
    "    prikazy\n",
    "    if vyraz:\n",
    "        prikazy\n",
    "    else:\n",
    "        prikazy\n",
    "else:\n",
    "    prikazý"
   ]
  }
 ],
 "metadata": {
  "kernelspec": {
   "display_name": "Python 3",
   "language": "python",
   "name": "python3"
  },
  "language_info": {
   "name": "python",
   "version": "3.12.2"
  }
 },
 "nbformat": 4,
 "nbformat_minor": 2
}
