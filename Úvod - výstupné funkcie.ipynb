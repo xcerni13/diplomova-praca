{
 "cells": [
  {
   "cell_type": "markdown",
   "metadata": {},
   "source": [
    "# Vitajte\n",
    "Vitajte pri prvej lekcii programovania v jazyku Python. Tieto interaktívne pracovné materiály vám pomôžu pochopiť a naučiť sa používať základné programovacie prvky a konštrukcie. \n",
    "\n",
    "Tento súbor môžete používať ako pracovný list, podľa ktorého budete vypracovávať jednotlivé úlohy. Takisto tu nájdete teoretické informácie k jednotlivým celkom, ktoré jednotlivé koncepty vysvetlia a vyjasnia. \n",
    "\n",
    "Do súboru si môžete zapisovať svoje vlastné poznámky a spustiteľný kód podľa vlastnej potreby. Priamo tu si môžete skúšať pripravené programy, ako aj vytvárať svoje krátke programy, aby ste lepšie pochopili koncepty."
   ]
  },
  {
   "cell_type": "markdown",
   "metadata": {},
   "source": [
    "<div class=\"alert alert-block alert-warning\">\n",
    "<b>Ako vyzerá lekcia?</b> Každá lekcia pozostáva z jedného súboru <b>.ipynb</b>. V tomto súbore nájdete ucelenú lekciu na výuku jedného celku v oblasti programovania. V tejto lekcii sa nachádzajú úlohy, ktoré vám pomôžu pochopiť potrebné koncepty a dovedú vás k pochopeniu danej látky. Okrem týchto úloh nájdete v lekcii aj teóriu k tomuto celku, aby ste mali potrebnú slovnú zásobu na každú látku. Takisto sú v lekcii konkrétne úseky kódu, ktorý si môžete spustiť a vidieť ako sa prakticky správa. \n",
    "</div>"
   ]
  },
  {
   "cell_type": "markdown",
   "metadata": {},
   "source": [
    "<br>"
   ]
  },
  {
   "cell_type": "markdown",
   "metadata": {},
   "source": [
    "***"
   ]
  },
  {
   "cell_type": "markdown",
   "metadata": {},
   "source": [
    "### Takto vyzerá časť spustiteľného kódu"
   ]
  },
  {
   "cell_type": "code",
   "execution_count": null,
   "metadata": {},
   "outputs": [],
   "source": [
    "print(\"Hello world\")"
   ]
  },
  {
   "cell_type": "markdown",
   "metadata": {},
   "source": [
    "<div class=\"alert alert-block alert-warning\">\n",
    "Stlačením tlačidla Run (šípka pre play) tento kód spustíte a pod oknom s kódom uvidíte výstup tohto kódu. Inak povedané, uvidíte čo vykonal samotný program.\n",
    "</div>"
   ]
  },
  {
   "cell_type": "markdown",
   "metadata": {},
   "source": [
    "Tu sme práve mohli vidieť náš prvý program v jazyku Python. <b>Hello world</b> je väčšinou prvý program, ktorý programátori skúšajú, keď začínajú pracovať v novom jazyku.\n",
    "\n",
    "Tento program je veľmi jednoduchý, jeho úlohou je vypísať nápis \"Hello world\". \n",
    "\n",
    "Toto vykoná pomocou funkcie <b>print()</b>\n",
    "<br>\n"
   ]
  },
  {
   "cell_type": "markdown",
   "metadata": {},
   "source": [
    "<div class=\"alert alert-block alert-info\">\n",
    "<b>print()</b> je základná výstupná funkcia, ktorá vypisuje text.\n",
    "</div>"
   ]
  },
  {
   "cell_type": "markdown",
   "metadata": {},
   "source": [
    "<div class=\"alert alert-block alert-success\">\n",
    "<b>Skúsme si prvý program v Pythone, nechajme najprv program vypísať Hello world na výstup.</b>\n",
    "<br>\n",
    "<b>Potom si skúsime vypísať svoje meno</b>\n",
    "</div>"
   ]
  },
  {
   "cell_type": "markdown",
   "metadata": {},
   "source": [
    "<div class=\"alert alert-block alert-warning\">\n",
    "Kliknutím do okna s kódom sa v pravom hornom rohu okna otvoria možnosti úpravy. Kliknutím na tlačidlo úpravy (pero) bude možné upravovať text. \n",
    "</div>"
   ]
  },
  {
   "cell_type": "code",
   "execution_count": null,
   "metadata": {},
   "outputs": [],
   "source": [
    "#Tu môžeš vpisovať kód:\n"
   ]
  },
  {
   "cell_type": "markdown",
   "metadata": {},
   "source": [
    "<br>"
   ]
  },
  {
   "cell_type": "markdown",
   "metadata": {},
   "source": [
    "***"
   ]
  },
  {
   "cell_type": "markdown",
   "metadata": {},
   "source": [
    "<div class=\"alert alert-block alert-success\">\n",
    "<b>Prečo tento program vyvolá chybu? Oprav kód tak, aby vypísal to čo má.</b>\n",
    "</div>"
   ]
  },
  {
   "cell_type": "code",
   "execution_count": null,
   "metadata": {},
   "outputs": [],
   "source": [
    "print(Hello world)"
   ]
  },
  {
   "cell_type": "markdown",
   "metadata": {},
   "source": [
    "<br>\n"
   ]
  },
  {
   "cell_type": "markdown",
   "metadata": {},
   "source": [
    "***"
   ]
  },
  {
   "cell_type": "markdown",
   "metadata": {},
   "source": [
    "<div class=\"alert alert-block alert-warning\">\n",
    "<b>Žltý box obsahuje technické alebo organizačné pokyny k práci s materiálom</b>\n",
    "</div>"
   ]
  },
  {
   "cell_type": "markdown",
   "metadata": {},
   "source": [
    "<div class=\"alert alert-block alert-info\">\n",
    "<b>Modrý box obsahuje kľúčové pojmy z danej témy</b> \n",
    "</div>"
   ]
  },
  {
   "cell_type": "markdown",
   "metadata": {},
   "source": [
    "<div class=\"alert alert-block alert-success\">\n",
    "<b>Zelený box označuje úlohu, ktorú je potrebné splniť</b>\n",
    "</div>"
   ]
  }
 ],
 "metadata": {
  "kernelspec": {
   "display_name": "Python 3",
   "language": "python",
   "name": "python3"
  },
  "language_info": {
   "codemirror_mode": {
    "name": "ipython",
    "version": 3
   },
   "file_extension": ".py",
   "mimetype": "text/x-python",
   "name": "python",
   "nbconvert_exporter": "python",
   "pygments_lexer": "ipython3",
   "version": "3.12.2"
  }
 },
 "nbformat": 4,
 "nbformat_minor": 2
}
