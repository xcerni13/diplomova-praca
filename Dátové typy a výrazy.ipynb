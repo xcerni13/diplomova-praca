{
 "cells": [
  {
   "cell_type": "markdown",
   "metadata": {},
   "source": [
    "# Dátové typy"
   ]
  },
  {
   "cell_type": "markdown",
   "metadata": {},
   "source": [
    "Dátové typy hovoria o tom, s akým druhom informácií pracujeme. Máme základné a zložené dátové typy. V tejto lekcii sa zameráme na základné typy, ktoré pokrývajú všetky typy informácií, s ktorými ste sa už stretli."
   ]
  },
  {
   "cell_type": "markdown",
   "metadata": {},
   "source": [
    "<div class=\"alert alert-block alert-info\">\n",
    "<b>Základné dátové typy:</b>\n",
    "<br>\n",
    "<b>integer, float, complex</b>\n",
    "<br>\n",
    "<b>string</b>\n",
    "<br>\n",
    "<b>boolean</b>\n",
    "</div>"
   ]
  },
  {
   "cell_type": "markdown",
   "metadata": {},
   "source": [
    "int - integer, je celé číslo\n",
    "<br>\n",
    "float - ide o reálne číslo\n",
    "<br>\n",
    "complex - komplexné číslo\n",
    "<br>\n",
    "str - string, je reťazec, alebo text, ktorý je definovaný v úvodzovkách, alebo apostrofoch\n",
    "<br>\n",
    "bool - boolean, je pravdivostná hodnota, ktorá môže byť True alebo False"
   ]
  },
  {
   "cell_type": "markdown",
   "metadata": {},
   "source": [
    "Pomáhajú vyjadrovať rôzne typy informácií, s ktorými chceme pracovať. Python nepotrebuje aby sme špecifikovali s ktorým dátovým typom pracujeme. Ale nedovolí vám vykonať operácie, ktoré pre daný dátový typ nie sú špecifikované. \n",
    "<br>\n",
    "<br>\n",
    "<br>\n",
    "Pokiaľ chceme zdôrazniť, o aký dátový typ sa jedná, pred hodnotu dáme názov dátového typu a samotnú hodnotu do zátvoriek."
   ]
  },
  {
   "cell_type": "code",
   "execution_count": null,
   "metadata": {},
   "outputs": [],
   "source": [
    "x = int(5)\n",
    "y = float(5)\n",
    "z = str(5)\n",
    "print(x, y, z)"
   ]
  },
  {
   "cell_type": "markdown",
   "metadata": {},
   "source": [
    "Pre každý dátový typ existujú nejaké pravidlá alebo obmedzenia. V prvom rade ide o to, aké operácie je možné s nimi robiť. Druhé obmedzenie je, koľko pamäte zaberú v počítači. "
   ]
  },
  {
   "cell_type": "markdown",
   "metadata": {},
   "source": [
    "Python má vstavanú funkciu, ktorá vie zistiť dátový typ premennej:\n",
    "<br>\n",
    "type(premenná)"
   ]
  },
  {
   "cell_type": "code",
   "execution_count": 1,
   "metadata": {},
   "outputs": [
    {
     "name": "stdout",
     "output_type": "stream",
     "text": [
      "<class 'int'>\n"
     ]
    }
   ],
   "source": [
    "x = 5\n",
    "print(type(x))"
   ]
  },
  {
   "cell_type": "markdown",
   "metadata": {},
   "source": [
    "# Výrazy"
   ]
  },
  {
   "cell_type": "markdown",
   "metadata": {},
   "source": [
    "Tak ako v bežnom živote, aj v programovaní potrebujeme vyhodnocovať situácie. Základný prvok, ktorý na to využívame sú výrazy. Tie určite poznáte z matematiky, ako nejakú postupnosť operandov a operátorov. V prípade programovania sa pri operandoch rozprávame o premenných, konštantách a literáloch. Pri operátoroch máme na mysli aritmetické operátory a logické operátory."
   ]
  },
  {
   "cell_type": "markdown",
   "metadata": {},
   "source": [
    "Samozrejme ide o všetky typické aritmetické operátory:\n",
    "- +/-\n",
    "- \\*\n",
    "- /\n",
    "- //\n",
    "- %\n",
    "- **\n",
    "<br>\n",
    "<br>\n",
    "A ďalej aj o operátory porovnávania:\n",
    "- ==\n",
    "- !=\n",
    "- \\>\n",
    "- <\n",
    "- \\>=\n",
    "- <=\n",
    "<br>\n",
    "<br>\n",
    "Okrem operátorov je možné používať aj zátvorky, ktorými sa manipuluje prednosť operátorov. V tomto prípade sa používajú iba okrúhle zátvorky.\n"
   ]
  },
  {
   "cell_type": "markdown",
   "metadata": {},
   "source": [
    "Niektoré aritmetické operácie je možné vykonávať aj s hodnotami string:\n",
    "- konkatenácia - sčítanie\n",
    "- násobenie"
   ]
  },
  {
   "cell_type": "code",
   "execution_count": 2,
   "metadata": {},
   "outputs": [
    {
     "name": "stdout",
     "output_type": "stream",
     "text": [
      "hello\n"
     ]
    }
   ],
   "source": [
    "x = \"he\"\n",
    "y = \"llo\"\n",
    "print(x + y)"
   ]
  },
  {
   "cell_type": "code",
   "execution_count": 3,
   "metadata": {},
   "outputs": [
    {
     "name": "stdout",
     "output_type": "stream",
     "text": [
      "hahahahaha\n"
     ]
    }
   ],
   "source": [
    "x = \"ha\"\n",
    "print(x * 5)"
   ]
  },
  {
   "cell_type": "markdown",
   "metadata": {},
   "source": [
    "Vyskúšajte si jednotlivé operátory a či sa správajú tak, ako by ste čakali."
   ]
  },
  {
   "cell_type": "code",
   "execution_count": null,
   "metadata": {},
   "outputs": [],
   "source": [
    "x = 1 + 2\n",
    "y = (33 - 12) * 4\n",
    "z = 58 / 9"
   ]
  },
  {
   "cell_type": "code",
   "execution_count": 4,
   "metadata": {},
   "outputs": [
    {
     "name": "stdout",
     "output_type": "stream",
     "text": [
      "3\n"
     ]
    }
   ],
   "source": [
    "print(x)"
   ]
  },
  {
   "cell_type": "code",
   "execution_count": 5,
   "metadata": {},
   "outputs": [
    {
     "name": "stdout",
     "output_type": "stream",
     "text": [
      "84\n"
     ]
    }
   ],
   "source": [
    "print(y)"
   ]
  },
  {
   "cell_type": "code",
   "execution_count": null,
   "metadata": {},
   "outputs": [],
   "source": [
    "print(z)"
   ]
  },
  {
   "cell_type": "markdown",
   "metadata": {},
   "source": [
    "Výrazy sú dôležitá programátorská konštrukcia, na ktorej sa stavajú programy a riešenia. Je dôležité naučiť sa ich zapisovať presne tak, ako chceme aby fungovali. Častá programátorská chyba je nezhoda medzi reálnym zápisom a myšlienkou, ktorú chceme vyjadriť."
   ]
  },
  {
   "cell_type": "markdown",
   "metadata": {},
   "source": [
    "<div class=\"alert alert-block alert-success\">\n",
    "<b>Úloha robot - alebo popis varenia vajec</b> \n",
    "<br>\n",
    "Učiteľ je robot, ktorého žiaci ovládajú pomocou jednokrokových pokynov. Žiaci dostanú úlohu, ktorú má robot splniť pomocou ich pokynov. Učiteľ doslova nasleduje ich pokyny.\n",
    "</div>"
   ]
  },
  {
   "cell_type": "markdown",
   "metadata": {},
   "source": [
    "<div class=\"alert alert-block alert-success\">\n",
    "<b>Programovacia úloha, ktorá nadväzuje na predchádzajúcu</b> \n",
    "<br>\n",
    "Podobný princíp sa budeme snažiť vložiť do zápisu programu. Budeme hľadať správny a jasný spôsob zdelenia informácií počítaču.\n",
    "</div>"
   ]
  }
 ],
 "metadata": {
  "kernelspec": {
   "display_name": "Python 3",
   "language": "python",
   "name": "python3"
  },
  "language_info": {
   "codemirror_mode": {
    "name": "ipython",
    "version": 3
   },
   "file_extension": ".py",
   "mimetype": "text/x-python",
   "name": "python",
   "nbconvert_exporter": "python",
   "pygments_lexer": "ipython3",
   "version": "3.12.2"
  }
 },
 "nbformat": 4,
 "nbformat_minor": 2
}
