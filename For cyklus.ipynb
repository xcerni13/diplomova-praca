{
 "cells": [
  {
   "cell_type": "markdown",
   "metadata": {},
   "source": [
    "# For cyklus"
   ]
  },
  {
   "cell_type": "markdown",
   "metadata": {},
   "source": [
    "<div class=\"alert alert-block alert-success\">\n",
    "úloha, ktorá potrebuje opakovanie. skúsime ju spraviť s doterajšími vedomosťami. Ukázať redundanciu, alebo zbytočnosť opakovaného zápisu jedného príkazu. tak sa dostaneme k nejakej potrebe cyklu. najlepsie unplugged metoda, aby sme trenovali aj pseudokod a vyvojovy diagram\n",
    "</div>"
   ]
  },
  {
   "cell_type": "markdown",
   "metadata": {},
   "source": [
    "Často sa môžete stretnúť so situáciou, kedy potrebujete opakovať nejaký príkaz niekoľkokrát. Miesto kopírovania toho istého príkazu toľkokrát, koľkokrát ho potrebujeme vykonať, existuje konštrukcia cyklu.\n",
    "<br>\n",
    "Na tento účel je možné využiť <b>for cyklus </b>. Ide o konštrukciu, ktorá umožňuje opakovať príkazy, ktoré sú v jej bloku."
   ]
  },
  {
   "cell_type": "markdown",
   "metadata": {},
   "source": [
    "### Syntax"
   ]
  },
  {
   "cell_type": "code",
   "execution_count": null,
   "metadata": {},
   "outputs": [],
   "source": [
    "for premenná in range(počet, opakovaní):\n",
    "    príkazy, ktore sa budú opakovať"
   ]
  },
  {
   "cell_type": "code",
   "execution_count": null,
   "metadata": {},
   "outputs": [],
   "source": [
    "for i in range (5):\n",
    "    print(i)"
   ]
  },
  {
   "cell_type": "markdown",
   "metadata": {},
   "source": [
    "<div class=\"alert alert-block alert-info\">\n",
    "<b>for</b> - popisuje začiatok cyklu\n",
    "<br>\n",
    "<b>in range</b> - v akom rozsahu budú opakovania - aké hodnoty bude naberať iteračná premenná\n",
    "<br>\n",
    "<b>iteračná premenná</b> - ide o premennú, pomocou ktorej sa počítajú jednotlivé opakovania, nadobúda hodnoty z rozsahu určeného v zátvorkách\n",
    "<br>\n",
    "<b>(rozsah)</b> - hovorí o počte opakovaní - začiatok je štandardne na čísle 0, v zátvorkách je možné napísať jedno číslo, ktoré určuje počet opakovaní, alebo začiatočnú a konečnú hodnotu iteračnej premennej.\n",
    "</div>"
   ]
  },
  {
   "cell_type": "markdown",
   "metadata": {},
   "source": [
    "<b>Iteračná premenná</b> môže mať ľubovoľný názov, typicky sa využívaju písmená začínajúc <b>i</b>. Je platná v bloku cyklu a môže byť použitá aj na iné účely v cykle. Nie je potrebné meniť jej hodnotu v každom opakovaní, konštrukcia cyklu ju pred každým opakovaním zmení na nasledujúcu hodnotu.\n",
    "<br>\n",
    "<b>Rozsah</b> je možné definovať jedinou hodnotou n. Vtedy cyklus začne iterovať na hodnote 0 a skoncí na hodnote n-1. "
   ]
  },
  {
   "cell_type": "markdown",
   "metadata": {},
   "source": [
    "Prípadne je možné definovať počiatočnú a konečnú hodnotu iteračnej premennej."
   ]
  },
  {
   "cell_type": "code",
   "execution_count": null,
   "metadata": {},
   "outputs": [],
   "source": [
    "for i in range(0, 5):\n",
    "    print(i)"
   ]
  },
  {
   "cell_type": "markdown",
   "metadata": {},
   "source": [
    "Cyklus je možné využiť na ľubovoľnú úlohu, nielen výpis iteračnej premennej. "
   ]
  },
  {
   "cell_type": "code",
   "execution_count": null,
   "metadata": {},
   "outputs": [],
   "source": [
    "for i in range(0, 5):\n",
    "    print(\"hello world\")"
   ]
  },
  {
   "cell_type": "markdown",
   "metadata": {},
   "source": [
    "Podobne ako pri podmienkach, aj pri for cykle vzniká nový blok kódu. Z toho vyplýva, že všetky príkazy, ktoré majú patriť do cyklu, musia byť odsadené. Takisto to znamená, že premenné definované v cykle sú prístupné iba v tomto bloku."
   ]
  },
  {
   "cell_type": "markdown",
   "metadata": {},
   "source": [
    "Pokiaľ nie je inak nastavené, iteračná premenná bude narastať každú iteráciu o 1. V tomto kontexte sa to nazýva krok - step. Je možné ho prestaviť na ľubovoľnú hodnotu, dokonca aj negatívnu."
   ]
  },
  {
   "cell_type": "code",
   "execution_count": null,
   "metadata": {},
   "outputs": [],
   "source": [
    "for j in range(0,10,2):\n",
    "    print(j)"
   ]
  },
  {
   "cell_type": "markdown",
   "metadata": {},
   "source": [
    "Tak ako v podmienkach bolo možné zanoriť ďalšiu podmienku, to isté je možné pri cykloch. Môžme do nich zanoriť podmienky, no nielen tie. Takisto môžme do cyklu zanoriť ďalší cyklus."
   ]
  },
  {
   "cell_type": "code",
   "execution_count": null,
   "metadata": {},
   "outputs": [],
   "source": [
    "for i in range(0, 5):\n",
    "    for j in range(0, 5):\n",
    "        print(i, j)"
   ]
  }
 ],
 "metadata": {
  "kernelspec": {
   "display_name": "Python 3",
   "language": "python",
   "name": "python3"
  },
  "language_info": {
   "codemirror_mode": {
    "name": "ipython",
    "version": 3
   },
   "file_extension": ".py",
   "mimetype": "text/x-python",
   "name": "python",
   "nbconvert_exporter": "python",
   "pygments_lexer": "ipython3",
   "version": "3.12.2"
  }
 },
 "nbformat": 4,
 "nbformat_minor": 2
}
