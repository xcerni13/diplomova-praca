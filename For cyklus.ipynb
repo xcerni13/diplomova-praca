{
 "cells": [
  {
   "cell_type": "markdown",
   "metadata": {},
   "source": [
    "# For cyklus"
   ]
  },
  {
   "cell_type": "markdown",
   "metadata": {},
   "source": [
    "### Úvodná úloha"
   ]
  },
  {
   "cell_type": "markdown",
   "metadata": {},
   "source": [
    "<div class=\"alert alert-block alert-success\">\n",
    "\n",
    "</div>"
   ]
  },
  {
   "cell_type": "markdown",
   "metadata": {},
   "source": [
    "- je potrebné zistiť, koľko študentov bolo v ten deň na hodine, študenti musia vždy sedieť pri sebe, takže zapnuté počítače budú vždy pri sebe\n",
    "- študenti nemusia sedieť pri sebe, je potrebné spočítať koľko počítačov je v miestnosti"
   ]
  },
  {
   "cell_type": "markdown",
   "metadata": {},
   "source": [
    "***"
   ]
  },
  {
   "cell_type": "markdown",
   "metadata": {},
   "source": [
    "### Vysvetlenie pojmov"
   ]
  },
  {
   "cell_type": "markdown",
   "metadata": {},
   "source": [
    "Často sa môžete stretnúť so situáciou, kedy potrebujete opakovať nejaký príkaz niekoľkokrát. Miesto kopírovania toho istého príkazu toľkokrát, koľkokrát ho potrebujeme vykonať, existuje konštrukcia cyklu.\n",
    "<br>\n",
    "Na tento účel je možné využiť <b>for cyklus </b>. Ide o konštrukciu, ktorá umožňuje opakovať príkazy, ktoré sú v jej bloku."
   ]
  },
  {
   "cell_type": "markdown",
   "metadata": {},
   "source": [
    "##### Syntax"
   ]
  },
  {
   "cell_type": "code",
   "execution_count": null,
   "metadata": {},
   "outputs": [],
   "source": [
    "for premenná in range(počet, opakovaní):\n",
    "    príkazy, ktore sa budú opakovať"
   ]
  },
  {
   "cell_type": "code",
   "execution_count": null,
   "metadata": {},
   "outputs": [],
   "source": [
    "for i in range (5):\n",
    "    print(i)"
   ]
  },
  {
   "cell_type": "markdown",
   "metadata": {},
   "source": [
    "<div class=\"alert alert-block alert-info\">\n",
    "<b>for</b> - popisuje začiatok cyklu\n",
    "<br>\n",
    "<b>in range</b> - v akom rozsahu budú opakovania - aké hodnoty bude naberať iteračná premenná\n",
    "<br>\n",
    "<b>iteračná premenná</b> - ide o premennú, pomocou ktorej sa počítajú jednotlivé opakovania, nadobúda hodnoty z rozsahu určeného v zátvorkách\n",
    "<br>\n",
    "<b>(rozsah)</b> - hovorí o počte opakovaní - začiatok je štandardne na čísle 0, v zátvorkách je možné napísať jedno číslo, ktoré určuje počet opakovaní, alebo začiatočnú a konečnú hodnotu iteračnej premennej.\n",
    "</div>"
   ]
  },
  {
   "cell_type": "markdown",
   "metadata": {},
   "source": [
    "<b>Iteračná premenná</b> môže mať ľubovoľný názov, typicky sa využívaju písmená začínajúc <b>i</b>. Je platná v bloku cyklu a môže byť použitá aj na iné účely v cykle. Nie je potrebné meniť jej hodnotu v každom opakovaní, konštrukcia cyklu ju pred každým opakovaním zmení na nasledujúcu hodnotu.\n",
    "<br>\n",
    "Jedno opakovanie naýzvame <b>iterácia</b>.\n",
    "<br>\n",
    "<b>Počet opakovaní</b> je možné definovať jedinou hodnotou n. Vtedy cyklus začne iterovať na hodnote 0 a skončí na hodnote n-1. "
   ]
  },
  {
   "cell_type": "code",
   "execution_count": null,
   "metadata": {},
   "outputs": [],
   "source": [
    "for i in range(5):\n",
    "    print(i)"
   ]
  },
  {
   "cell_type": "markdown",
   "metadata": {},
   "source": [
    "Prípadne je možné definovať počiatočnú a konečnú hodnotu iteračnej premennej."
   ]
  },
  {
   "cell_type": "code",
   "execution_count": null,
   "metadata": {},
   "outputs": [],
   "source": [
    "for k in range(0, 5):\n",
    "    print(k)"
   ]
  },
  {
   "cell_type": "markdown",
   "metadata": {},
   "source": [
    "Cyklus je možné využiť na ľubovoľnú úlohu, keď potrebujeme nejaký príkaz vykonať opakovane."
   ]
  },
  {
   "cell_type": "code",
   "execution_count": null,
   "metadata": {},
   "outputs": [],
   "source": [
    "for i in range(0, 5):\n",
    "    print(\"hello world\")"
   ]
  },
  {
   "cell_type": "markdown",
   "metadata": {},
   "source": [
    "Podobne ako pri podmienkach, aj pri for cykle vzniká nový blok kódu. Z toho vyplýva, že všetky príkazy, ktoré majú patriť do cyklu, musia byť odsadené. Takisto to znamená, že premenné definované v cykle sú prístupné iba v tomto bloku."
   ]
  },
  {
   "cell_type": "markdown",
   "metadata": {},
   "source": [
    "Tak ako v podmienkach bolo možné zanoriť ďalšiu podmienku, to isté je možné pri cykloch. Môžme do nich zanoriť podmienky, no nielen tie. Takisto môžme do cyklu zanoriť ďalší cyklus."
   ]
  },
  {
   "cell_type": "code",
   "execution_count": null,
   "metadata": {},
   "outputs": [],
   "source": [
    "for i in range(0, 5):\n",
    "    for j in range(0, 5):\n",
    "        print(i, j)"
   ]
  },
  {
   "cell_type": "markdown",
   "metadata": {},
   "source": [
    "***"
   ]
  },
  {
   "cell_type": "markdown",
   "metadata": {},
   "source": [
    "### Úlohy na precvičenie"
   ]
  },
  {
   "cell_type": "markdown",
   "metadata": {},
   "source": [
    "<div class=\"alert alert-block alert-success\">\n",
    "Pomocou for cyklu vypíšte svoje meno 8-krát.\n",
    "</div>"
   ]
  },
  {
   "cell_type": "markdown",
   "metadata": {},
   "source": [
    "Modifikácie úlohy:\n",
    "- vypíšte vaše meno toľkokrát, ako uživateľ zadá číslo"
   ]
  },
  {
   "cell_type": "markdown",
   "metadata": {},
   "source": [
    "<div class=\"alert alert-block alert-success\">\n",
    "Umocnite číslo 5 na takú mocninu, ako vám zadá uživateľ. Využite na umocňovanie for cyklus.\n",
    "</div>"
   ]
  },
  {
   "cell_type": "markdown",
   "metadata": {},
   "source": [
    "Doplnkové učivo - Pokiaľ nie je inak nastavené, iteračná premenná bude narastať každú iteráciu o 1. V tomto kontexte sa to nazýva krok - step. Je možné ho prestaviť na ľubovoľnú hodnotu, dokonca aj negatívnu."
   ]
  }
 ],
 "metadata": {
  "kernelspec": {
   "display_name": "Python 3",
   "language": "python",
   "name": "python3"
  },
  "language_info": {
   "codemirror_mode": {
    "name": "ipython",
    "version": 3
   },
   "file_extension": ".py",
   "mimetype": "text/x-python",
   "name": "python",
   "nbconvert_exporter": "python",
   "pygments_lexer": "ipython3",
   "version": "3.12.2"
  }
 },
 "nbformat": 4,
 "nbformat_minor": 2
}
