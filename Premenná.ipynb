{
 "cells": [
  {
   "cell_type": "markdown",
   "metadata": {},
   "source": [
    "# Premenná"
   ]
  },
  {
   "cell_type": "markdown",
   "metadata": {},
   "source": [
    "### Úvodná úloha"
   ]
  },
  {
   "cell_type": "markdown",
   "metadata": {},
   "source": [
    "<div class=\"alert alert-block alert-success\">\n",
    "Pri losovaní lotérie moderátor vždy vylosuje 8 čísel. Čísla losuje po jednom, a po každom losovaní musí toto číslo vystaviť pred kameru, aby bolo dobre viditeľné. Samotné losované číslo je na tenkom papieri a nemôže ho len tak podržať rukou, pretože by nebolo dobre viditeľné. \n",
    "</div>"
   ]
  },
  {
   "cell_type": "markdown",
   "metadata": {},
   "source": [
    "***"
   ]
  },
  {
   "cell_type": "markdown",
   "metadata": {},
   "source": [
    "### Vysvetlenie pojmov"
   ]
  },
  {
   "cell_type": "markdown",
   "metadata": {},
   "source": [
    "Často sa nám stane, že potrebujeme uložiť nejakú hodnotu, alebo nejakú informáciu na neskôr. Na tento účel nám poslúžia v programovaní premenné. \n",
    "Premenná je malé úložisko, kde si vieme odložiť nejakú hodnotu, napríklad číslo. Premenná musí mať meno, aby sme vedeli, kde sme si našu informáciu odložili. Existujú nejaké pravidlá a obmedzenia pre názvy premenných."
   ]
  },
  {
   "cell_type": "markdown",
   "metadata": {},
   "source": [
    "##### Syntax"
   ]
  },
  {
   "cell_type": "markdown",
   "metadata": {},
   "source": [
    "\n",
    "<div class=\"alert alert-block alert-info\">\n",
    "variable = 42\n",
    "<br>\n",
    "var_2 = 109\n",
    "<br>\n",
    "varName = \"hello\"\n",
    "</div>"
   ]
  },
  {
   "cell_type": "markdown",
   "metadata": {},
   "source": [
    "Obmedzenia pre názvy premenných:\n",
    "- názov musí začínať písmenom, alebo _\n",
    "- názov nemôže začínať číslom\n",
    "- názov môže obsahovať iba znaky A-Z, a-z, 0-9 a _\n",
    "- názvy premenných su case-sensitive - záleží na veľkosti písmen\n",
    "- názov nemôže byť žiadne kľúčové slovo"
   ]
  },
  {
   "cell_type": "markdown",
   "metadata": {},
   "source": [
    "V Pythone je možné meniť dátový typ premennej aj po tom, ako je v nej uložená nejaká hodnota. Jednoducho je priradená nová hodnota, s ľubovoľným dátovým typom."
   ]
  },
  {
   "cell_type": "markdown",
   "metadata": {},
   "source": [
    "<div class=\"alert alert-block alert-info\">\n",
    "Funkcia <b>print()</b> môže prijímať aj premenné. Vtedy vypíše ich obsah.\n",
    "</div>"
   ]
  },
  {
   "cell_type": "code",
   "execution_count": null,
   "metadata": {},
   "outputs": [],
   "source": [
    "name = \"Andrew\"\n",
    "print(name)\n",
    "name = 57\n",
    "print(name + 5)"
   ]
  },
  {
   "cell_type": "markdown",
   "metadata": {},
   "source": [
    "Premenné sú základným kameňom programovania. Táto konštrukcia je využívaná všade a bez nej nie je možné efektívne programovať. Umožňuje pracovať v nie vždy známych hodnotách a situáciách, kedy nie je vopred jasné, akú hodnotu budeme potrebovať. Pre algoritmy je premenná takisto dôležitá, keďže snahou pri tvorbe algoritmov je hľadať všeobecné riešenia. Práve v týchto situáciách je vhodné využiť premenné."
   ]
  },
  {
   "cell_type": "markdown",
   "metadata": {},
   "source": [
    "***"
   ]
  },
  {
   "cell_type": "markdown",
   "metadata": {},
   "source": [
    "# Vstupné funkcie"
   ]
  },
  {
   "cell_type": "markdown",
   "metadata": {},
   "source": [
    "### Vysvetlenie pojmov"
   ]
  },
  {
   "cell_type": "markdown",
   "metadata": {},
   "source": [
    "Naučili sme sa, ako môžme niečo vypísať z programu a tak komunikovať s uživateľom nášho programu. Ale niekedy môžme potrebovať, aby uživateľ komunikoval s nami a zdelil nám nejakú informáciu. Na to nám poslúži vstupná funkcia <b>input()</b>. Tá vykoná to, že beh programu sa dočasne zastaví, pokým uživateľ napíše niečo do terminálu a stlačí enter. Vtedy program pokračuje ďalej. Táto funkcia má návratovú hodnotu. To znamená, že po jej vykonaní vráti nejakú hodnotu. V tomto prípade návratová hodnota je práve ten obsah, ktorý uživateľ napísal. Túto hodnotu si môžme uložiť do premennej a neskôr použiť. "
   ]
  },
  {
   "cell_type": "code",
   "execution_count": null,
   "metadata": {},
   "outputs": [],
   "source": [
    "input_text = input()\n",
    "print(input_text)"
   ]
  },
  {
   "cell_type": "markdown",
   "metadata": {},
   "source": [
    "Okrem toho, že funkcia čaká na vstup od uživateľa, je možné, aby vypísala nejaký oznam. \n",
    "\n",
    "x = input('oznam')"
   ]
  },
  {
   "cell_type": "code",
   "execution_count": null,
   "metadata": {},
   "outputs": [],
   "source": [
    "user_input = input('Meno a priezvisko')\n",
    "print(user_input)"
   ]
  },
  {
   "cell_type": "markdown",
   "metadata": {},
   "source": [
    "***"
   ]
  },
  {
   "cell_type": "markdown",
   "metadata": {},
   "source": [
    "### Úlohy na precvičenie"
   ]
  },
  {
   "cell_type": "markdown",
   "metadata": {},
   "source": [
    "<div class=\"alert alert-block alert-success\">\n",
    "Napíš program, ktorý si od uživateľa vypýta jeho telefónne číslo a potom ho vypíše.\n",
    "</div>"
   ]
  },
  {
   "cell_type": "markdown",
   "metadata": {},
   "source": [
    "<div class=\"alert alert-block alert-success\">\n",
    "Napíš program, ktorý od uživateľa prijme dve čísla. Následne tieto čísla vynásobí, vydelí a sčíta. Výsledky vypíše.\n",
    "</div>"
   ]
  }
 ],
 "metadata": {
  "kernelspec": {
   "display_name": "Python 3",
   "language": "python",
   "name": "python3"
  },
  "language_info": {
   "codemirror_mode": {
    "name": "ipython",
    "version": 3
   },
   "file_extension": ".py",
   "mimetype": "text/x-python",
   "name": "python",
   "nbconvert_exporter": "python",
   "pygments_lexer": "ipython3",
   "version": "3.12.2"
  }
 },
 "nbformat": 4,
 "nbformat_minor": 2
}
