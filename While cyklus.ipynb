{
 "cells": [
  {
   "cell_type": "markdown",
   "metadata": {},
   "source": [
    "# While cyklus"
   ]
  },
  {
   "cell_type": "markdown",
   "metadata": {},
   "source": [
    "### Úvodná úloha"
   ]
  },
  {
   "cell_type": "markdown",
   "metadata": {},
   "source": [
    "<div class=\"alert alert-block alert-success\">\n",
    "<b>Úloha robot</b> \n",
    "<br> Jeden zo žiakov je robot. Úlohou skupiny je robota pomocou jednoslovných pokynov premiestnit od tabule, von z triedy. Robot počúva vždy iba jeden pokyn, ktorý hneď následne vykoná. \n",
    " <br>\n",
    " <br>\n",
    " Keď prvý robot úspešne vyjde z triedy, stane sa robotom niekto iný.\n",
    "</div>"
   ]
  },
  {
   "cell_type": "markdown",
   "metadata": {},
   "source": [
    "<div class=\"alert alert-block alert-success\">\n",
    "<b>Úloha robot - 2. časť</b> \n",
    "<br> Jeden zo žiakov je robot. Úlohou skupiny je robota pomocou jednoslovných pokynov premiestnit od tabule, von z triedy. Robot musí vedieť všetky pokyny predtým, ako začne vykonávať úlohu.\n",
    "</div>"
   ]
  },
  {
   "cell_type": "markdown",
   "metadata": {},
   "source": [
    "***"
   ]
  },
  {
   "cell_type": "markdown",
   "metadata": {},
   "source": [
    "### Vysvetlenie pojmov"
   ]
  },
  {
   "cell_type": "markdown",
   "metadata": {},
   "source": [
    "Pokiaľ nastane situácia, kedy potrebujeme nejaké príkazy opakovať, je vhodné využiť cyklus. Nie vždy vopred vieme, koľkokrát sa má cyklus opakovať. Ale často vieme, za akých podmienok sa cyklus opakovať má alebo nemá. V tejto situácii je vhodné využiť <b>while cyklus</b>."
   ]
  },
  {
   "cell_type": "markdown",
   "metadata": {},
   "source": [
    "##### Syntax"
   ]
  },
  {
   "cell_type": "code",
   "execution_count": null,
   "metadata": {},
   "outputs": [],
   "source": [
    "while výraz:\n",
    "    prikazy"
   ]
  },
  {
   "cell_type": "markdown",
   "metadata": {},
   "source": [
    "Na opakovanie je využívaná podmienka, ktorá je zapísaná ako výraz. Pred vykonaním príkazov v tele cyklu, je vyhodnotená pravdivosť výrazu. Pokiaľ je podmienka pravdivá - True - vykonvá sa blok príkazov v tele cyklu. Po vykonaní všetkých príkazov v cykle je opäť skontrolovaná podmienka. Keď je podmienka nepravdiva - False - cyklus sa nebude už ďalej vykonávať. Pokým je podmienka pravdivá, telo cyklu sa bude vykonávať."
   ]
  },
  {
   "cell_type": "markdown",
   "metadata": {},
   "source": [
    "Môže nastať situácia, kedy sa príkazy cyklu nevykonajú ani raz, pretože už pri prvom vyhodnotení podmienky je nepravdivá.\n",
    "<br>\n",
    "Takisto môže nastať situácia, ktorá sa volá zacyklenie. Nastane, kedy podmienka bude vždy pravdivá a cyklus teda nikdy neskončí. Ide o chybu, ktorú vám interpret neohlási, prídete na ňu až pri spustení programu, ktorý nebude končiť. "
   ]
  },
  {
   "cell_type": "markdown",
   "metadata": {},
   "source": [
    "<b>break</b> je príkaz, ktorý ukončí cyklus aj keď je jeho podmienka pravdivá. Pomocou tohto príkazu je možné zastaviť cyklus skôr."
   ]
  },
  {
   "cell_type": "code",
   "execution_count": 1,
   "metadata": {},
   "outputs": [],
   "source": [
    "x = 0\n",
    "while x < 4:\n",
    "    if x % 2 == 0:\n",
    "        break\n",
    "    x += 1"
   ]
  },
  {
   "cell_type": "markdown",
   "metadata": {},
   "source": [
    "### Úlohy na precvičenie"
   ]
  },
  {
   "cell_type": "markdown",
   "metadata": {},
   "source": [
    "<div class=\"alert alert-block alert-success\">\n",
    "Uživateľ na začiatku programu zadá číslo. Vypíšte ľubovoľnú frázu toľkokrát, ako je zadané číslo a využite pri tom cyklus while. \n",
    "</div>"
   ]
  },
  {
   "cell_type": "markdown",
   "metadata": {},
   "source": [
    "Modifikácie úlohy: \n",
    "- pri každom párnom výpise frázy vypíš aj dnešný dátum"
   ]
  },
  {
   "cell_type": "markdown",
   "metadata": {},
   "source": [
    "<div class=\"alert alert-block alert-success\">\n",
    "Uživateľ zadáva čísla. Keď súčet týchto čísel bude väčší alebo rovný 20, cyklus sa ukončí a vypíše celkový súčet.\n",
    "</div>"
   ]
  }
 ],
 "metadata": {
  "kernelspec": {
   "display_name": "Python 3",
   "language": "python",
   "name": "python3"
  },
  "language_info": {
   "codemirror_mode": {
    "name": "ipython",
    "version": 3
   },
   "file_extension": ".py",
   "mimetype": "text/x-python",
   "name": "python",
   "nbconvert_exporter": "python",
   "pygments_lexer": "ipython3",
   "version": "3.12.2"
  }
 },
 "nbformat": 4,
 "nbformat_minor": 2
}
