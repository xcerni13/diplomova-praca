{
 "cells": [
  {
   "cell_type": "markdown",
   "metadata": {},
   "source": [
    "# While cyklus"
   ]
  },
  {
   "cell_type": "markdown",
   "metadata": {},
   "source": [
    "Pokiaľ nastane situácia, kedy potrebujeme nejaké príkazy opakovať, je vhodné využiť cyklus. Nie vždy vopred vieme, koľkokrát sa má cyklus opakovať. Ale často vieme, za akých podmienok sa cyklus opakovať má alebo nemá. V tejto situácii je vhodné využiť <b>while cyklus</b>."
   ]
  },
  {
   "cell_type": "markdown",
   "metadata": {},
   "source": [
    "### Syntax"
   ]
  },
  {
   "cell_type": "code",
   "execution_count": null,
   "metadata": {},
   "outputs": [],
   "source": [
    "while podmienka:\n",
    "    prikazy"
   ]
  },
  {
   "cell_type": "markdown",
   "metadata": {},
   "source": [
    "Na opakovanie je využívaná podmienka. Pokiaľ je podmienka pravdivá - True - cyklus sa opakuje. Po vykonaní všetkých príkazov v cykle je opäť skontrolovaná podmienka. Keď je podmienka nepravdiva - False - cyklus sa nebude už ďalej vykonávať. "
   ]
  },
  {
   "cell_type": "markdown",
   "metadata": {},
   "source": [
    "Môže nastať situácia, kedy sa príkazy cyklu nevykonajú ani raz, pretože už pri prvom vyhodnotení podmienky je nepravdivá.\n",
    "<br>\n",
    "Takisto môže nastať situácia, ktorá sa volá zacyklenie. Nastane, kedy podmienka bude vždy pravdivá a cyklus teda nikdy neskončí. Ide o chybu, ktorú vám interpret neohlási, prídete na ňu až pri spustení programu, ktorý nebude končiť. "
   ]
  },
  {
   "cell_type": "markdown",
   "metadata": {},
   "source": [
    "##### Break"
   ]
  },
  {
   "cell_type": "markdown",
   "metadata": {},
   "source": [
    "break je príkaz, ktorý ukončí cyklus aj keď je jeho podmienka pravdivá. Pomocou tohto príkazu je možné zastaviť cyklus skôr."
   ]
  },
  {
   "cell_type": "code",
   "execution_count": 1,
   "metadata": {},
   "outputs": [],
   "source": [
    "x = 0\n",
    "while x < 4:\n",
    "    if x % 2 == 0:\n",
    "        break\n",
    "    x += 1"
   ]
  },
  {
   "cell_type": "markdown",
   "metadata": {},
   "source": [
    "##### Continue"
   ]
  },
  {
   "cell_type": "markdown",
   "metadata": {},
   "source": [
    "continue je príkaz, ktorý zastaví konkrétnu iteráciu cyklu a preskočiť do ďalšej iterácie."
   ]
  },
  {
   "cell_type": "code",
   "execution_count": 2,
   "metadata": {},
   "outputs": [],
   "source": [
    "x = 0\n",
    "while x < 4:\n",
    "    if x % 2 == 0:\n",
    "        x += 0.5\n",
    "        continue\n",
    "    x += 1"
   ]
  }
 ],
 "metadata": {
  "kernelspec": {
   "display_name": "Python 3",
   "language": "python",
   "name": "python3"
  },
  "language_info": {
   "codemirror_mode": {
    "name": "ipython",
    "version": 3
   },
   "file_extension": ".py",
   "mimetype": "text/x-python",
   "name": "python",
   "nbconvert_exporter": "python",
   "pygments_lexer": "ipython3",
   "version": "3.12.2"
  }
 },
 "nbformat": 4,
 "nbformat_minor": 2
}
